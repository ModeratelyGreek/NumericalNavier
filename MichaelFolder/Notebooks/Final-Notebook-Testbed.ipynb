{
 "cells": [
  {
   "cell_type": "code",
   "execution_count": 38,
   "id": "e1099dc3",
   "metadata": {},
   "outputs": [
    {
     "name": "stderr",
     "output_type": "stream",
     "text": [
      "\u001b[32m\u001b[1m  Activating\u001b[22m\u001b[39m project at `~/NumericalNavier/MichaelFolder/Notebooks`\n",
      "\u001b[32m\u001b[1mPrecompiling\u001b[22m\u001b[39m project...\n",
      "\u001b[32m  ✓ \u001b[39m\u001b[90mLogExpFunctions → LogExpFunctionsChainRulesCoreExt\u001b[39m\n",
      "\u001b[32m  ✓ \u001b[39m\u001b[90mClustering\u001b[39m\n",
      "\u001b[32m  ✓ \u001b[39m\u001b[90mImageMorphology\u001b[39m\n",
      "\u001b[32m  ✓ \u001b[39m\u001b[90mImageDistances\u001b[39m\n",
      "\u001b[32m  ✓ \u001b[39m\u001b[90mTiffImages\u001b[39m\n",
      "\u001b[32m  ✓ \u001b[39m\u001b[90mImageFiltering\u001b[39m\n",
      "\u001b[32m  ✓ \u001b[39mPlots\n",
      "\u001b[32m  ✓ \u001b[39m\u001b[90mPlots → FileIOExt\u001b[39m\n",
      "\u001b[32m  ✓ \u001b[39m\u001b[90mImageSegmentation\u001b[39m\n",
      "\u001b[32m  ✓ \u001b[39m\u001b[90mPlots → UnitfulExt\u001b[39m\n",
      "\u001b[32m  ✓ \u001b[39m\u001b[90mImageCorners\u001b[39m\n",
      "\u001b[32m  ✓ \u001b[39m\u001b[90mPlots → IJuliaExt\u001b[39m\n",
      "\u001b[32m  ✓ \u001b[39m\u001b[90mImageQualityIndexes\u001b[39m\n",
      "\u001b[32m  ✓ \u001b[39mImages\n",
      "  14 dependencies successfully precompiled in 38 seconds. 273 already precompiled.\n"
     ]
    }
   ],
   "source": [
    "using Pkg\n",
    "Pkg.activate(\".\")\n",
    "Pkg.instantiate()"
   ]
  },
  {
   "cell_type": "code",
   "execution_count": 39,
   "id": "bb0449eb",
   "metadata": {},
   "outputs": [],
   "source": [
    "using IJulia\n",
    "using LaTeXStrings\n",
    "using FileIO\n",
    "using ImageIO\n",
    "using Images\n",
    "using Plots\n",
    "using Base64\n",
    "using LinearAlgebra\n",
    "using ImageMagick\n",
    "using Statistics"
   ]
  },
  {
   "cell_type": "code",
   "execution_count": 40,
   "id": "cbf162fe",
   "metadata": {},
   "outputs": [
    {
     "data": {
      "text/plain": [
       "meshgrid (generic function with 1 method)"
      ]
     },
     "metadata": {},
     "output_type": "display_data"
    }
   ],
   "source": [
    "function display_image(path)\n",
    "    image = load(path)\n",
    "    display(image)\n",
    "end\n",
    "\n",
    "function display_gif(path)\n",
    "    display(MIME(\"text/html\"), \"\"\"<img src=$path>\"\"\")\n",
    "end\n",
    "\n",
    "function meshgrid(x, y)\n",
    "    X = [i for i in x, j in 1:length(y)]\n",
    "    Y = [j for i in 1:length(x), j in y]\n",
    "    return X, Y\n",
    "end"
   ]
  },
  {
   "cell_type": "markdown",
   "id": "37cc9026",
   "metadata": {},
   "source": [
    "# Navier Stokes for Numerical Blokes"
   ]
  },
  {
   "cell_type": "markdown",
   "id": "8fbb8a36",
   "metadata": {},
   "source": [
    "### The Navier-Stokes equations are partial differential equations which describe the motion of viscous fluid substances, developed from 1822 (Navier) to 1842-1850 (Stokes). \n",
    "### These equations have shown to be notoriously hard to solve analytically. Thus, the goal of the project is the following:\n",
    "1. reformulate the problem into one that can be solved numerically\n",
    "2. analyze the convergence of the solution\n",
    "3. analyze its well-possendess\n",
    "### In this notebook we still focus on the Navier-Stokes equations for incompressible 2D fluid, which are formulated as such:"
   ]
  },
  {
   "cell_type": "code",
   "execution_count": 41,
   "id": "10b87543",
   "metadata": {},
   "outputs": [
    {
     "ename": "ArgumentError",
     "evalue": "ArgumentError: No file exists at given path: images/navier-stokes-2d.png",
     "output_type": "error",
     "traceback": [
      "ArgumentError: No file exists at given path: images/navier-stokes-2d.png\n",
      "\n",
      "Stacktrace:\n",
      " [1] checkpath_load\n",
      "   @ ~/.julia/packages/FileIO/xOKyx/src/loadsave.jl:167 [inlined]\n",
      " [2] load(::String; options::@Kwargs{})\n",
      "   @ FileIO ~/.julia/packages/FileIO/xOKyx/src/loadsave.jl:110\n",
      " [3] load\n",
      "   @ FileIO ~/.julia/packages/FileIO/xOKyx/src/loadsave.jl:109 [inlined]\n",
      " [4] display_image(path::String)\n",
      "   @ Main ~/NumericalNavier/MichaelFolder/Notebooks/Final-Notebook-Testbed.ipynb:2\n",
      " [5] top-level scope\n",
      "   @ ~/NumericalNavier/MichaelFolder/Notebooks/Final-Notebook-Testbed.ipynb:1"
     ]
    }
   ],
   "source": [
    "display_image(\"images/navier-stokes-2d.png\")"
   ]
  },
  {
   "cell_type": "markdown",
   "id": "1c21e87d",
   "metadata": {},
   "source": [
    "### Let us begin by addressing objective 1:The reformulation of the problem into one that can be solved numerically"
   ]
  },
  {
   "cell_type": "markdown",
   "id": "a98a72b0",
   "metadata": {},
   "source": [
    "We choose to solve this problem by using finite-difference-methods (FDM) which are a class of numerical techniquesforsolving differenial equations by approximating derivatvies with finite differences. Both the spatial domain and time domain (if applicable) are discretized, and the values of the solution at the end poins of the intervals are approximated by solving algebraic equations."
   ]
  },
  {
   "cell_type": "markdown",
   "id": "fa4cbae2",
   "metadata": {},
   "source": [
    "To give you a gist of what this means, lets consider the following simple example:\n",
    "$$\n",
    "u'(x) = 3u(x) + 2\\\\\n",
    "\\Rightarrow u(x+h) \\approx u(x) + h(3u(x)+2)\n",
    "$$"
   ]
  },
  {
   "cell_type": "markdown",
   "id": "352bc644",
   "metadata": {},
   "source": [
    "The discretization above is known as \"forward difference.\" There are many different discretization schemes and we will analyze the effictiveness of the following on solving our (PDE):\n",
    "- forward time, backward space\n",
    "- forward time, center space (Lax-Friedrichs)\n",
    "- forward time, forward space"
   ]
  },
  {
   "cell_type": "markdown",
   "id": "4f3a3cf3",
   "metadata": {},
   "source": [
    "To get a feel for how discretization works, we will first focus on Diffusion in 1D, then Burger's Equation in 2D, and then return to our initial (PDE). Burger's equation is a convection-diffusion equation whose analytical solutions are well known (and thus it is easy to calculate the error of our solution)."
   ]
  },
  {
   "cell_type": "markdown",
   "id": "6fbc20c8",
   "metadata": {},
   "source": [
    "### In 1D, the diffusion equation reads\n",
    "$$\\frac{\\partial u}{\\partial t} = \\nu \\frac{\\partial^2 u}{\\partial x^2}$$"
   ]
  },
  {
   "cell_type": "markdown",
   "id": "0160baf6",
   "metadata": {},
   "source": [
    "Discretizing the first partial is trivial, but how can we do so for the second? Consider the Taylor expansion of $u_{i+1}$ and $u_{i-1}$ around $u_i$."
   ]
  },
  {
   "cell_type": "code",
   "execution_count": 42,
   "id": "25632fd5",
   "metadata": {},
   "outputs": [
    {
     "ename": "ArgumentError",
     "evalue": "ArgumentError: No file exists at given path: images/taylor-expansion.png",
     "output_type": "error",
     "traceback": [
      "ArgumentError: No file exists at given path: images/taylor-expansion.png\n",
      "\n",
      "Stacktrace:\n",
      " [1] checkpath_load\n",
      "   @ ~/.julia/packages/FileIO/xOKyx/src/loadsave.jl:167 [inlined]\n",
      " [2] load(::String; options::@Kwargs{})\n",
      "   @ FileIO ~/.julia/packages/FileIO/xOKyx/src/loadsave.jl:110\n",
      " [3] load\n",
      "   @ FileIO ~/.julia/packages/FileIO/xOKyx/src/loadsave.jl:109 [inlined]\n",
      " [4] display_image(path::String)\n",
      "   @ Main ~/NumericalNavier/MichaelFolder/Notebooks/Final-Notebook-Testbed.ipynb:2\n",
      " [5] top-level scope\n",
      "   @ ~/NumericalNavier/MichaelFolder/Notebooks/Final-Notebook-Testbed.ipynb:1"
     ]
    }
   ],
   "source": [
    "display_image(\"images/taylor-expansion.png\")"
   ]
  },
  {
   "cell_type": "markdown",
   "id": "76a75391",
   "metadata": {},
   "source": [
    "Adding the two, we see that"
   ]
  },
  {
   "cell_type": "code",
   "execution_count": 43,
   "id": "e209e66e",
   "metadata": {},
   "outputs": [
    {
     "ename": "ArgumentError",
     "evalue": "ArgumentError: No file exists at given path: images/2nd-partial-discritization.png",
     "output_type": "error",
     "traceback": [
      "ArgumentError: No file exists at given path: images/2nd-partial-discritization.png\n",
      "\n",
      "Stacktrace:\n",
      " [1] checkpath_load\n",
      "   @ ~/.julia/packages/FileIO/xOKyx/src/loadsave.jl:167 [inlined]\n",
      " [2] load(::String; options::@Kwargs{})\n",
      "   @ FileIO ~/.julia/packages/FileIO/xOKyx/src/loadsave.jl:110\n",
      " [3] load\n",
      "   @ FileIO ~/.julia/packages/FileIO/xOKyx/src/loadsave.jl:109 [inlined]\n",
      " [4] display_image(path::String)\n",
      "   @ Main ~/NumericalNavier/MichaelFolder/Notebooks/Final-Notebook-Testbed.ipynb:2\n",
      " [5] top-level scope\n",
      "   @ ~/NumericalNavier/MichaelFolder/Notebooks/Final-Notebook-Testbed.ipynb:1"
     ]
    }
   ],
   "source": [
    "display_image(\"images/2nd-partial-discritization.png\")"
   ]
  },
  {
   "cell_type": "markdown",
   "id": "a029863e",
   "metadata": {},
   "source": [
    "From here, we obtain"
   ]
  },
  {
   "cell_type": "code",
   "execution_count": 44,
   "id": "1e6f60b0",
   "metadata": {},
   "outputs": [
    {
     "ename": "ArgumentError",
     "evalue": "ArgumentError: No file exists at given path: images/diffusion-1d.png",
     "output_type": "error",
     "traceback": [
      "ArgumentError: No file exists at given path: images/diffusion-1d.png\n",
      "\n",
      "Stacktrace:\n",
      " [1] checkpath_load\n",
      "   @ ~/.julia/packages/FileIO/xOKyx/src/loadsave.jl:167 [inlined]\n",
      " [2] load(::String; options::@Kwargs{})\n",
      "   @ FileIO ~/.julia/packages/FileIO/xOKyx/src/loadsave.jl:110\n",
      " [3] load\n",
      "   @ FileIO ~/.julia/packages/FileIO/xOKyx/src/loadsave.jl:109 [inlined]\n",
      " [4] display_image(path::String)\n",
      "   @ Main ~/NumericalNavier/MichaelFolder/Notebooks/Final-Notebook-Testbed.ipynb:2\n",
      " [5] top-level scope\n",
      "   @ ~/NumericalNavier/MichaelFolder/Notebooks/Final-Notebook-Testbed.ipynb:1"
     ]
    }
   ],
   "source": [
    "display_image(\"images/diffusion-1d.png\")"
   ]
  },
  {
   "cell_type": "markdown",
   "id": "e79270d3",
   "metadata": {},
   "source": [
    "And thus our equation is simply"
   ]
  },
  {
   "cell_type": "code",
   "execution_count": 45,
   "id": "6a1c9c20",
   "metadata": {
    "scrolled": true
   },
   "outputs": [
    {
     "ename": "ArgumentError",
     "evalue": "ArgumentError: No file exists at given path: images/diffusion-solved.png",
     "output_type": "error",
     "traceback": [
      "ArgumentError: No file exists at given path: images/diffusion-solved.png\n",
      "\n",
      "Stacktrace:\n",
      " [1] checkpath_load\n",
      "   @ ~/.julia/packages/FileIO/xOKyx/src/loadsave.jl:167 [inlined]\n",
      " [2] load(::String; options::@Kwargs{})\n",
      "   @ FileIO ~/.julia/packages/FileIO/xOKyx/src/loadsave.jl:110\n",
      " [3] load\n",
      "   @ FileIO ~/.julia/packages/FileIO/xOKyx/src/loadsave.jl:109 [inlined]\n",
      " [4] display_image(path::String)\n",
      "   @ Main ~/NumericalNavier/MichaelFolder/Notebooks/Final-Notebook-Testbed.ipynb:2\n",
      " [5] top-level scope\n",
      "   @ ~/NumericalNavier/MichaelFolder/Notebooks/Final-Notebook-Testbed.ipynb:1"
     ]
    }
   ],
   "source": [
    "display_image(\"images/diffusion-solved.png\")"
   ]
  },
  {
   "cell_type": "markdown",
   "id": "7aea32d8",
   "metadata": {},
   "source": [
    "Given an initial condition, this equation can be solved easily. Let's do so now. For demonstrative purposes (which will be explained later on), we define our initial conditions to be a hat function."
   ]
  },
  {
   "cell_type": "code",
   "execution_count": 52,
   "id": "db18aac8",
   "metadata": {},
   "outputs": [
    {
     "data": {
      "text/plain": [
       "animate_wave_propagation_diffusion_1d (generic function with 5 methods)"
      ]
     },
     "metadata": {},
     "output_type": "display_data"
    }
   ],
   "source": [
    "function animate_wave_propagation_diffusion_1d(nx=81, max_nt=100, sigma=.3, nu=0.2)\n",
    "    dx = 2.0 / (nx-1) # Spatial step size\n",
    "    dt = sigma*dx^2/nu\n",
    "    u = ones(nx) # Initial condition, wave at rest\n",
    "\n",
    "    # Set initial wave pulse\n",
    "    u[Int(floor(0.5 / dx)) + 1 : Int(floor(1 / dx)) + 1] .= 2\n",
    "    \n",
    "    u_values = zeros(max_nt+1, nx) # Matrix to store u values at each time step\n",
    "    u_values[1, :] = u # Store initial condition\n",
    "\n",
    "    anim = @animate for nt in 1:max_nt\n",
    "        un = copy(u) # Copy the current state of u into un\n",
    "        for i in 2:nx-1 # Iterate over spatial grid points, leaving out the first point for boundary condition\n",
    "            # Finite difference method for convection equation\n",
    "            u[i] = un[i] + nu * dt / dx^2 * (un[i+1] - 2 * un[i] + un[i-1])\n",
    "        end\n",
    "                \n",
    "        u_values[nt+1, :] = u # Store u values at each time step\n",
    "\n",
    "        x = range(0, stop=1, length=nx) # Spatial domain\n",
    "        plot(x, u, legend=false, ylims=(0, 3)) # Plot current state with fixed y-axis limits\n",
    "    end\n",
    "    \n",
    "    gif(anim, \"../../gifs/wave_propagation_diffusion_1d_$nx.gif\", fps=30) # Save the animation as a GIF file\n",
    "                \n",
    "    return u_values\n",
    "end"
   ]
  },
  {
   "cell_type": "code",
   "execution_count": 53,
   "id": "b5f35416",
   "metadata": {},
   "outputs": [
    {
     "name": "stderr",
     "output_type": "stream",
     "text": [
      "┌ Info: Saved animation to /Users/michaeltomadakis/NumericalNavier/gifs/wave_propagation_diffusion_1d_81.gif\n",
      "└ @ Plots /Users/michaeltomadakis/.julia/packages/Plots/ju9dp/src/animation.jl:156\n"
     ]
    }
   ],
   "source": [
    "u_values = animate_wave_propagation_diffusion_1d();"
   ]
  },
  {
   "cell_type": "code",
   "execution_count": 55,
   "id": "21ccdea9",
   "metadata": {},
   "outputs": [
    {
     "data": {
      "text/html": [
       "<img src=../../gifs/wave_propagation_diffusion_1d_81.gif>"
      ]
     },
     "metadata": {},
     "output_type": "display_data"
    }
   ],
   "source": [
    "display_gif(\"../../gifs/wave_propagation_diffusion_1d_81.gif\")"
   ]
  },
  {
   "cell_type": "markdown",
   "id": "510b5776",
   "metadata": {},
   "source": [
    "Let's look at it again but with a slightly smaller step size."
   ]
  },
  {
   "cell_type": "code",
   "execution_count": 56,
   "id": "5bf32605",
   "metadata": {},
   "outputs": [
    {
     "name": "stderr",
     "output_type": "stream",
     "text": [
      "┌ Info: Saved animation to /Users/michaeltomadakis/NumericalNavier/gifs/wave_propagation_diffusion_1d_31.gif\n",
      "└ @ Plots /Users/michaeltomadakis/.julia/packages/Plots/ju9dp/src/animation.jl:156\n"
     ]
    }
   ],
   "source": [
    "u_values = animate_wave_propagation_diffusion_1d(31);"
   ]
  },
  {
   "cell_type": "code",
   "execution_count": 57,
   "id": "29713dbf",
   "metadata": {},
   "outputs": [
    {
     "data": {
      "text/html": [
       "<img src=../../gifs/wave_propagation_diffusion_1d_31.gif>"
      ]
     },
     "metadata": {},
     "output_type": "display_data"
    }
   ],
   "source": [
    "display_gif(\"../../gifs/wave_propagation_diffusion_1d_31.gif\")"
   ]
  },
  {
   "cell_type": "markdown",
   "id": "e97a8fca",
   "metadata": {},
   "source": [
    "The result is as expected (almost), but I bet you couldn't spot the problem with your naked eye. We will address this issue later on when it becomes more apparent. (Hint: how does step size relate to numerical stability)."
   ]
  },
  {
   "cell_type": "markdown",
   "id": "c5c68141",
   "metadata": {},
   "source": [
    "The 1D Diffusion Equation is a relatively simple BVP whose solution is somewhat (not really at all tbh but compared to others) straightforward (ask me after class if you really want to know how it's obtained). It's closed form solution can be written as\n",
    "$$\\begin{equation}\n",
    "u(x, t) = 1 + \\sum_{n=1}^{\\infty} \\left[ \\frac{2}{n \\pi} \\left(\\cos\\left(\\frac{n \\pi}{4}\\right) - \\cos\\left(\\frac{n \\pi}{2}\\right) \n",
    "\\right) \\sin\\left(\\frac{n \\pi x}{2}\\right)\\right] e^{-\\left(\\frac{n \\pi}{2}\\right)^2 \\nu t}\n",
    "\\end{equation}$$\n",
    "Let's code it up and see how well we did."
   ]
  },
  {
   "cell_type": "code",
   "execution_count": 58,
   "id": "b132fa26",
   "metadata": {},
   "outputs": [
    {
     "data": {
      "text/plain": [
       "diffusion_1d_u (generic function with 1 method)"
      ]
     },
     "metadata": {},
     "output_type": "display_data"
    }
   ],
   "source": [
    "function diffusion_1d_u(x, t, D, n_max)\n",
    "    u_xt = 1.0\n",
    "    for n in 1:n_max\n",
    "        B_n = 2 * (cos(pi * n / 4) - cos(pi * n / 2)) / (pi * n)\n",
    "        u_xt += B_n * sin(n * pi * x / 2) * exp(-D * (n * pi / 2)^2 * t)\n",
    "    end\n",
    "    return u_xt\n",
    "end"
   ]
  },
  {
   "cell_type": "code",
   "execution_count": 59,
   "id": "399b75ce",
   "metadata": {},
   "outputs": [
    {
     "name": "stdout",
     "output_type": "stream",
     "text": [
      "Maximum error: 0.500179281114093\n",
      "Average error: 0.012530598188992189\n",
      "RMSE: 0.022172727441353953\n",
      "MAPE: 0.8820982088348815\n"
     ]
    },
    {
     "data": {
      "image/png": "[encoded data removed]",
      "image/svg+xml": [
       "<?xml version=\"1.0\" encoding=\"utf-8\"?>\n",
       "<svg xmlns=\"http://www.w3.org/2000/svg\" xmlns:xlink=\"http://www.w3.org/1999/xlink\" width=\"600\" height=\"400\" viewBox=\"0 0 2400 1600\">\n",
       "<defs>\n",
       "  <clipPath id=\"clip340\">\n",
       "    <rect x=\"0\" y=\"0\" width=\"2400\" height=\"1600\"/>\n",
       "  </clipPath>\n",
       "</defs>\n",
       "<path clip-path=\"url(#clip340)\" d=\"M0 1600 L2400 1600 L2400 0 L0 0  Z\" fill=\"#ffffff\" fill-rule=\"evenodd\" fill-opacity=\"1\"/>\n",
       "<defs>\n",
       "  <clipPath id=\"clip341\">\n",
       "    <rect x=\"480\" y=\"0\" width=\"1681\" height=\"1600\"/>\n",
       "  </clipPath>\n",
       "</defs>\n",
       "<path clip-path=\"url(#clip340)\" d=\"M219.866 1423.18 L2352.76 1423.18 L2352.76 123.472 L219.866 123.472  Z\" fill=\"#ffffff\" fill-rule=\"evenodd\" fill-opacity=\"1\"/>\n",
       "<defs>\n",
       "  <clipPath id=\"clip342\">\n",
       "    <rect x=\"219\" y=\"123\" width=\"2134\" height=\"1301\"/>\n",
       "  </clipPath>\n",
       "</defs>\n",
       "<polyline clip-path=\"url(#clip342)\" style=\"stroke:#000000; stroke-linecap:round; stroke-linejoin:round; stroke-width:2; stroke-opacity:0.1; fill:none\" points=\"280.231,1423.18 280.231,123.472 \"/>\n",
       "<polyline clip-path=\"url(#clip342)\" style=\"stroke:#000000; stroke-linecap:round; stroke-linejoin:round; stroke-width:2; stroke-opacity:0.1; fill:none\" points=\"783.271,1423.18 783.271,123.472 \"/>\n",
       "<polyline clip-path=\"url(#clip342)\" style=\"stroke:#000000; stroke-linecap:round; stroke-linejoin:round; stroke-width:2; stroke-opacity:0.1; fill:none\" points=\"1286.31,1423.18 1286.31,123.472 \"/>\n",
       "<polyline clip-path=\"url(#clip342)\" style=\"stroke:#000000; stroke-linecap:round; stroke-linejoin:round; stroke-width:2; stroke-opacity:0.1; fill:none\" points=\"1789.35,1423.18 1789.35,123.472 \"/>\n",
       "<polyline clip-path=\"url(#clip342)\" style=\"stroke:#000000; stroke-linecap:round; stroke-linejoin:round; stroke-width:2; stroke-opacity:0.1; fill:none\" points=\"2292.39,1423.18 2292.39,123.472 \"/>\n",
       "<polyline clip-path=\"url(#clip340)\" style=\"stroke:#000000; stroke-linecap:round; stroke-linejoin:round; stroke-width:4; stroke-opacity:1; fill:none\" points=\"219.866,1423.18 2352.76,1423.18 \"/>\n",
       "<polyline clip-path=\"url(#clip340)\" style=\"stroke:#000000; stroke-linecap:round; stroke-linejoin:round; stroke-width:4; stroke-opacity:1; fill:none\" points=\"280.231,1423.18 280.231,1404.28 \"/>\n",
       "<polyline clip-path=\"url(#clip340)\" style=\"stroke:#000000; stroke-linecap:round; stroke-linejoin:round; stroke-width:4; stroke-opacity:1; fill:none\" points=\"783.271,1423.18 783.271,1404.28 \"/>\n",
       "<polyline clip-path=\"url(#clip340)\" style=\"stroke:#000000; stroke-linecap:round; stroke-linejoin:round; stroke-width:4; stroke-opacity:1; fill:none\" points=\"1286.31,1423.18 1286.31,1404.28 \"/>\n",
       "<polyline clip-path=\"url(#clip340)\" style=\"stroke:#000000; stroke-linecap:round; stroke-linejoin:round; stroke-width:4; stroke-opacity:1; fill:none\" points=\"1789.35,1423.18 1789.35,1404.28 \"/>\n",
       "<polyline clip-path=\"url(#clip340)\" style=\"stroke:#000000; stroke-linecap:round; stroke-linejoin:round; stroke-width:4; stroke-opacity:1; fill:none\" points=\"2292.39,1423.18 2292.39,1404.28 \"/>\n",
       "<path clip-path=\"url(#clip340)\" d=\"M280.231 1454.1 Q276.62 1454.1 274.791 1457.66 Q272.986 1461.2 272.986 1468.33 Q272.986 1475.44 274.791 1479.01 Q276.62 1482.55 280.231 1482.55 Q283.865 1482.55 285.671 1479.01 Q287.5 1475.44 287.5 1468.33 Q287.5 1461.2 285.671 1457.66 Q283.865 1454.1 280.231 1454.1 M280.231 1450.39 Q286.041 1450.39 289.097 1455 Q292.175 1459.58 292.175 1468.33 Q292.175 1477.06 289.097 1481.67 Q286.041 1486.25 280.231 1486.25 Q274.421 1486.25 271.342 1481.67 Q268.287 1477.06 268.287 1468.33 Q268.287 1459.58 271.342 1455 Q274.421 1450.39 280.231 1450.39 Z\" fill=\"#000000\" fill-rule=\"nonzero\" fill-opacity=\"1\" /><path clip-path=\"url(#clip340)\" d=\"M762.542 1481.64 L778.861 1481.64 L778.861 1485.58 L756.917 1485.58 L756.917 1481.64 Q759.579 1478.89 764.162 1474.26 Q768.769 1469.61 769.949 1468.27 Q772.195 1465.74 773.074 1464.01 Q773.977 1462.25 773.977 1460.56 Q773.977 1457.8 772.033 1456.07 Q770.111 1454.33 767.01 1454.33 Q764.811 1454.33 762.357 1455.09 Q759.926 1455.86 757.149 1457.41 L757.149 1452.69 Q759.973 1451.55 762.426 1450.97 Q764.88 1450.39 766.917 1450.39 Q772.287 1450.39 775.482 1453.08 Q778.676 1455.77 778.676 1460.26 Q778.676 1462.39 777.866 1464.31 Q777.079 1466.2 774.973 1468.8 Q774.394 1469.47 771.292 1472.69 Q768.19 1475.88 762.542 1481.64 Z\" fill=\"#000000\" fill-rule=\"nonzero\" fill-opacity=\"1\" /><path clip-path=\"url(#clip340)\" d=\"M788.722 1451.02 L807.079 1451.02 L807.079 1454.96 L793.005 1454.96 L793.005 1463.43 Q794.023 1463.08 795.042 1462.92 Q796.06 1462.73 797.079 1462.73 Q802.866 1462.73 806.245 1465.9 Q809.625 1469.08 809.625 1474.49 Q809.625 1480.07 806.153 1483.17 Q802.681 1486.25 796.361 1486.25 Q794.185 1486.25 791.917 1485.88 Q789.672 1485.51 787.264 1484.77 L787.264 1480.07 Q789.347 1481.2 791.57 1481.76 Q793.792 1482.32 796.269 1482.32 Q800.273 1482.32 802.611 1480.21 Q804.949 1478.1 804.949 1474.49 Q804.949 1470.88 802.611 1468.77 Q800.273 1466.67 796.269 1466.67 Q794.394 1466.67 792.519 1467.08 Q790.667 1467.5 788.722 1468.38 L788.722 1451.02 Z\" fill=\"#000000\" fill-rule=\"nonzero\" fill-opacity=\"1\" /><path clip-path=\"url(#clip340)\" d=\"M1261.01 1451.02 L1279.37 1451.02 L1279.37 1454.96 L1265.29 1454.96 L1265.29 1463.43 Q1266.31 1463.08 1267.33 1462.92 Q1268.35 1462.73 1269.37 1462.73 Q1275.15 1462.73 1278.53 1465.9 Q1281.91 1469.08 1281.91 1474.49 Q1281.91 1480.07 1278.44 1483.17 Q1274.97 1486.25 1268.65 1486.25 Q1266.47 1486.25 1264.2 1485.88 Q1261.96 1485.51 1259.55 1484.77 L1259.55 1480.07 Q1261.64 1481.2 1263.86 1481.76 Q1266.08 1482.32 1268.56 1482.32 Q1272.56 1482.32 1274.9 1480.21 Q1277.24 1478.1 1277.24 1474.49 Q1277.24 1470.88 1274.9 1468.77 Q1272.56 1466.67 1268.56 1466.67 Q1266.68 1466.67 1264.81 1467.08 Q1262.95 1467.5 1261.01 1468.38 L1261.01 1451.02 Z\" fill=\"#000000\" fill-rule=\"nonzero\" fill-opacity=\"1\" /><path clip-path=\"url(#clip340)\" d=\"M1301.13 1454.1 Q1297.51 1454.1 1295.69 1457.66 Q1293.88 1461.2 1293.88 1468.33 Q1293.88 1475.44 1295.69 1479.01 Q1297.51 1482.55 1301.13 1482.55 Q1304.76 1482.55 1306.57 1479.01 Q1308.39 1475.44 1308.39 1468.33 Q1308.39 1461.2 1306.57 1457.66 Q1304.76 1454.1 1301.13 1454.1 M1301.13 1450.39 Q1306.94 1450.39 1309.99 1455 Q1313.07 1459.58 1313.07 1468.33 Q1313.07 1477.06 1309.99 1481.67 Q1306.94 1486.25 1301.13 1486.25 Q1295.32 1486.25 1292.24 1481.67 Q1289.18 1477.06 1289.18 1468.33 Q1289.18 1459.58 1292.24 1455 Q1295.32 1450.39 1301.13 1450.39 Z\" fill=\"#000000\" fill-rule=\"nonzero\" fill-opacity=\"1\" /><path clip-path=\"url(#clip340)\" d=\"M1763.21 1451.02 L1785.43 1451.02 L1785.43 1453.01 L1772.88 1485.58 L1768 1485.58 L1779.8 1454.96 L1763.21 1454.96 L1763.21 1451.02 Z\" fill=\"#000000\" fill-rule=\"nonzero\" fill-opacity=\"1\" /><path clip-path=\"url(#clip340)\" d=\"M1794.59 1451.02 L1812.95 1451.02 L1812.95 1454.96 L1798.88 1454.96 L1798.88 1463.43 Q1799.9 1463.08 1800.91 1462.92 Q1801.93 1462.73 1802.95 1462.73 Q1808.74 1462.73 1812.12 1465.9 Q1815.5 1469.08 1815.5 1474.49 Q1815.5 1480.07 1812.02 1483.17 Q1808.55 1486.25 1802.23 1486.25 Q1800.06 1486.25 1797.79 1485.88 Q1795.54 1485.51 1793.14 1484.77 L1793.14 1480.07 Q1795.22 1481.2 1797.44 1481.76 Q1799.66 1482.32 1802.14 1482.32 Q1806.14 1482.32 1808.48 1480.21 Q1810.82 1478.1 1810.82 1474.49 Q1810.82 1470.88 1808.48 1468.77 Q1806.14 1466.67 1802.14 1466.67 Q1800.27 1466.67 1798.39 1467.08 Q1796.54 1467.5 1794.59 1468.38 L1794.59 1451.02 Z\" fill=\"#000000\" fill-rule=\"nonzero\" fill-opacity=\"1\" /><path clip-path=\"url(#clip340)\" d=\"M2252 1481.64 L2259.64 1481.64 L2259.64 1455.28 L2251.33 1456.95 L2251.33 1452.69 L2259.59 1451.02 L2264.27 1451.02 L2264.27 1481.64 L2271.91 1481.64 L2271.91 1485.58 L2252 1485.58 L2252 1481.64 Z\" fill=\"#000000\" fill-rule=\"nonzero\" fill-opacity=\"1\" /><path clip-path=\"url(#clip340)\" d=\"M2291.35 1454.1 Q2287.74 1454.1 2285.91 1457.66 Q2284.1 1461.2 2284.1 1468.33 Q2284.1 1475.44 2285.91 1479.01 Q2287.74 1482.55 2291.35 1482.55 Q2294.98 1482.55 2296.79 1479.01 Q2298.62 1475.44 2298.62 1468.33 Q2298.62 1461.2 2296.79 1457.66 Q2294.98 1454.1 2291.35 1454.1 M2291.35 1450.39 Q2297.16 1450.39 2300.22 1455 Q2303.29 1459.58 2303.29 1468.33 Q2303.29 1477.06 2300.22 1481.67 Q2297.16 1486.25 2291.35 1486.25 Q2285.54 1486.25 2282.46 1481.67 Q2279.41 1477.06 2279.41 1468.33 Q2279.41 1459.58 2282.46 1455 Q2285.54 1450.39 2291.35 1450.39 Z\" fill=\"#000000\" fill-rule=\"nonzero\" fill-opacity=\"1\" /><path clip-path=\"url(#clip340)\" d=\"M2321.51 1454.1 Q2317.9 1454.1 2316.07 1457.66 Q2314.27 1461.2 2314.27 1468.33 Q2314.27 1475.44 2316.07 1479.01 Q2317.9 1482.55 2321.51 1482.55 Q2325.15 1482.55 2326.95 1479.01 Q2328.78 1475.44 2328.78 1468.33 Q2328.78 1461.2 2326.95 1457.66 Q2325.15 1454.1 2321.51 1454.1 M2321.51 1450.39 Q2327.32 1450.39 2330.38 1455 Q2333.46 1459.58 2333.46 1468.33 Q2333.46 1477.06 2330.38 1481.67 Q2327.32 1486.25 2321.51 1486.25 Q2315.7 1486.25 2312.62 1481.67 Q2309.57 1477.06 2309.57 1468.33 Q2309.57 1459.58 2312.62 1455 Q2315.7 1450.39 2321.51 1450.39 Z\" fill=\"#000000\" fill-rule=\"nonzero\" fill-opacity=\"1\" /><path clip-path=\"url(#clip340)\" d=\"M1127.38 1520.52 L1167.57 1520.52 L1167.57 1525.93 L1150.71 1525.93 L1150.71 1568.04 L1144.24 1568.04 L1144.24 1525.93 L1127.38 1525.93 L1127.38 1520.52 Z\" fill=\"#000000\" fill-rule=\"nonzero\" fill-opacity=\"1\" /><path clip-path=\"url(#clip340)\" d=\"M1171.52 1532.4 L1177.38 1532.4 L1177.38 1568.04 L1171.52 1568.04 L1171.52 1532.4 M1171.52 1518.52 L1177.38 1518.52 L1177.38 1525.93 L1171.52 1525.93 L1171.52 1518.52 Z\" fill=\"#000000\" fill-rule=\"nonzero\" fill-opacity=\"1\" /><path clip-path=\"url(#clip340)\" d=\"M1217.39 1539.24 Q1219.58 1535.29 1222.64 1533.41 Q1225.69 1531.54 1229.83 1531.54 Q1235.4 1531.54 1238.43 1535.45 Q1241.45 1539.33 1241.45 1546.53 L1241.45 1568.04 L1235.56 1568.04 L1235.56 1546.72 Q1235.56 1541.59 1233.75 1539.11 Q1231.93 1536.63 1228.21 1536.63 Q1223.66 1536.63 1221.01 1539.65 Q1218.37 1542.68 1218.37 1547.9 L1218.37 1568.04 L1212.48 1568.04 L1212.48 1546.72 Q1212.48 1541.56 1210.67 1539.11 Q1208.86 1536.63 1205.07 1536.63 Q1200.58 1536.63 1197.94 1539.68 Q1195.3 1542.71 1195.3 1547.9 L1195.3 1568.04 L1189.41 1568.04 L1189.41 1532.4 L1195.3 1532.4 L1195.3 1537.93 Q1197.3 1534.66 1200.1 1533.1 Q1202.9 1531.54 1206.76 1531.54 Q1210.64 1531.54 1213.34 1533.51 Q1216.08 1535.48 1217.39 1539.24 Z\" fill=\"#000000\" fill-rule=\"nonzero\" fill-opacity=\"1\" /><path clip-path=\"url(#clip340)\" d=\"M1283.62 1548.76 L1283.62 1551.62 L1256.69 1551.62 Q1257.08 1557.67 1260.32 1560.85 Q1263.6 1564 1269.43 1564 Q1272.8 1564 1275.95 1563.17 Q1279.13 1562.35 1282.25 1560.69 L1282.25 1566.23 Q1279.1 1567.57 1275.79 1568.27 Q1272.48 1568.97 1269.08 1568.97 Q1260.55 1568.97 1255.55 1564 Q1250.58 1559.04 1250.58 1550.57 Q1250.58 1541.82 1255.29 1536.69 Q1260.04 1531.54 1268.06 1531.54 Q1275.25 1531.54 1279.42 1536.18 Q1283.62 1540.8 1283.62 1548.76 M1277.77 1547.04 Q1277.7 1542.23 1275.06 1539.37 Q1272.45 1536.5 1268.12 1536.5 Q1263.22 1536.5 1260.26 1539.27 Q1257.33 1542.04 1256.89 1547.07 L1277.77 1547.04 Z\" fill=\"#000000\" fill-rule=\"nonzero\" fill-opacity=\"1\" /><path clip-path=\"url(#clip340)\" d=\"M1336.68 1533.45 L1336.68 1538.98 Q1334.2 1537.71 1331.52 1537.07 Q1328.85 1536.44 1325.99 1536.44 Q1321.62 1536.44 1319.43 1537.77 Q1317.26 1539.11 1317.26 1541.79 Q1317.26 1543.82 1318.82 1545 Q1320.38 1546.15 1325.09 1547.2 L1327.1 1547.64 Q1333.34 1548.98 1335.95 1551.43 Q1338.59 1553.85 1338.59 1558.21 Q1338.59 1563.17 1334.64 1566.07 Q1330.73 1568.97 1323.85 1568.97 Q1320.99 1568.97 1317.87 1568.39 Q1314.78 1567.85 1311.34 1566.74 L1311.34 1560.69 Q1314.59 1562.38 1317.74 1563.24 Q1320.89 1564.07 1323.98 1564.07 Q1328.12 1564.07 1330.35 1562.66 Q1332.57 1561.23 1332.57 1558.65 Q1332.57 1556.27 1330.95 1554.99 Q1329.36 1553.72 1323.92 1552.54 L1321.88 1552.07 Q1316.44 1550.92 1314.02 1548.56 Q1311.6 1546.18 1311.6 1542.04 Q1311.6 1537.01 1315.16 1534.27 Q1318.73 1531.54 1325.29 1531.54 Q1328.53 1531.54 1331.4 1532.01 Q1334.26 1532.49 1336.68 1533.45 Z\" fill=\"#000000\" fill-rule=\"nonzero\" fill-opacity=\"1\" /><path clip-path=\"url(#clip340)\" d=\"M1353.71 1522.27 L1353.71 1532.4 L1365.77 1532.4 L1365.77 1536.95 L1353.71 1536.95 L1353.71 1556.3 Q1353.71 1560.66 1354.89 1561.9 Q1356.1 1563.14 1359.76 1563.14 L1365.77 1563.14 L1365.77 1568.04 L1359.76 1568.04 Q1352.98 1568.04 1350.4 1565.53 Q1347.82 1562.98 1347.82 1556.3 L1347.82 1536.95 L1343.52 1536.95 L1343.52 1532.4 L1347.82 1532.4 L1347.82 1522.27 L1353.71 1522.27 Z\" fill=\"#000000\" fill-rule=\"nonzero\" fill-opacity=\"1\" /><path clip-path=\"url(#clip340)\" d=\"M1403.97 1548.76 L1403.97 1551.62 L1377.04 1551.62 Q1377.42 1557.67 1380.67 1560.85 Q1383.95 1564 1389.77 1564 Q1393.14 1564 1396.29 1563.17 Q1399.48 1562.35 1402.6 1560.69 L1402.6 1566.23 Q1399.45 1567.57 1396.14 1568.27 Q1392.83 1568.97 1389.42 1568.97 Q1380.89 1568.97 1375.89 1564 Q1370.93 1559.04 1370.93 1550.57 Q1370.93 1541.82 1375.64 1536.69 Q1380.38 1531.54 1388.4 1531.54 Q1395.59 1531.54 1399.76 1536.18 Q1403.97 1540.8 1403.97 1548.76 M1398.11 1547.04 Q1398.05 1542.23 1395.4 1539.37 Q1392.79 1536.5 1388.46 1536.5 Q1383.56 1536.5 1380.6 1539.27 Q1377.67 1542.04 1377.23 1547.07 L1398.11 1547.04 Z\" fill=\"#000000\" fill-rule=\"nonzero\" fill-opacity=\"1\" /><path clip-path=\"url(#clip340)\" d=\"M1419.24 1562.7 L1419.24 1581.6 L1413.35 1581.6 L1413.35 1532.4 L1419.24 1532.4 L1419.24 1537.81 Q1421.09 1534.62 1423.89 1533.1 Q1426.72 1531.54 1430.64 1531.54 Q1437.13 1531.54 1441.17 1536.69 Q1445.25 1541.85 1445.25 1550.25 Q1445.25 1558.65 1441.17 1563.81 Q1437.13 1568.97 1430.64 1568.97 Q1426.72 1568.97 1423.89 1567.44 Q1421.09 1565.88 1419.24 1562.7 M1439.17 1550.25 Q1439.17 1543.79 1436.49 1540.13 Q1433.85 1536.44 1429.21 1536.44 Q1424.56 1536.44 1421.88 1540.13 Q1419.24 1543.79 1419.24 1550.25 Q1419.24 1556.71 1421.88 1560.4 Q1424.56 1564.07 1429.21 1564.07 Q1433.85 1564.07 1436.49 1560.4 Q1439.17 1556.71 1439.17 1550.25 Z\" fill=\"#000000\" fill-rule=\"nonzero\" fill-opacity=\"1\" /><polyline clip-path=\"url(#clip342)\" style=\"stroke:#000000; stroke-linecap:round; stroke-linejoin:round; stroke-width:2; stroke-opacity:0.1; fill:none\" points=\"219.866,1196.46 2352.76,1196.46 \"/>\n",
       "<polyline clip-path=\"url(#clip342)\" style=\"stroke:#000000; stroke-linecap:round; stroke-linejoin:round; stroke-width:2; stroke-opacity:0.1; fill:none\" points=\"219.866,937.526 2352.76,937.526 \"/>\n",
       "<polyline clip-path=\"url(#clip342)\" style=\"stroke:#000000; stroke-linecap:round; stroke-linejoin:round; stroke-width:2; stroke-opacity:0.1; fill:none\" points=\"219.866,678.591 2352.76,678.591 \"/>\n",
       "<polyline clip-path=\"url(#clip342)\" style=\"stroke:#000000; stroke-linecap:round; stroke-linejoin:round; stroke-width:2; stroke-opacity:0.1; fill:none\" points=\"219.866,419.656 2352.76,419.656 \"/>\n",
       "<polyline clip-path=\"url(#clip342)\" style=\"stroke:#000000; stroke-linecap:round; stroke-linejoin:round; stroke-width:2; stroke-opacity:0.1; fill:none\" points=\"219.866,160.721 2352.76,160.721 \"/>\n",
       "<polyline clip-path=\"url(#clip340)\" style=\"stroke:#000000; stroke-linecap:round; stroke-linejoin:round; stroke-width:4; stroke-opacity:1; fill:none\" points=\"219.866,1423.18 219.866,123.472 \"/>\n",
       "<polyline clip-path=\"url(#clip340)\" style=\"stroke:#000000; stroke-linecap:round; stroke-linejoin:round; stroke-width:4; stroke-opacity:1; fill:none\" points=\"219.866,1196.46 238.764,1196.46 \"/>\n",
       "<polyline clip-path=\"url(#clip340)\" style=\"stroke:#000000; stroke-linecap:round; stroke-linejoin:round; stroke-width:4; stroke-opacity:1; fill:none\" points=\"219.866,937.526 238.764,937.526 \"/>\n",
       "<polyline clip-path=\"url(#clip340)\" style=\"stroke:#000000; stroke-linecap:round; stroke-linejoin:round; stroke-width:4; stroke-opacity:1; fill:none\" points=\"219.866,678.591 238.764,678.591 \"/>\n",
       "<polyline clip-path=\"url(#clip340)\" style=\"stroke:#000000; stroke-linecap:round; stroke-linejoin:round; stroke-width:4; stroke-opacity:1; fill:none\" points=\"219.866,419.656 238.764,419.656 \"/>\n",
       "<polyline clip-path=\"url(#clip340)\" style=\"stroke:#000000; stroke-linecap:round; stroke-linejoin:round; stroke-width:4; stroke-opacity:1; fill:none\" points=\"219.866,160.721 238.764,160.721 \"/>\n",
       "<path clip-path=\"url(#clip340)\" d=\"M127.917 1182.26 Q124.306 1182.26 122.478 1185.82 Q120.672 1189.37 120.672 1196.5 Q120.672 1203.6 122.478 1207.17 Q124.306 1210.71 127.917 1210.71 Q131.552 1210.71 133.357 1207.17 Q135.186 1203.6 135.186 1196.5 Q135.186 1189.37 133.357 1185.82 Q131.552 1182.26 127.917 1182.26 M127.917 1178.56 Q133.728 1178.56 136.783 1183.16 Q139.862 1187.75 139.862 1196.5 Q139.862 1205.22 136.783 1209.83 Q133.728 1214.41 127.917 1214.41 Q122.107 1214.41 119.029 1209.83 Q115.973 1205.22 115.973 1196.5 Q115.973 1187.75 119.029 1183.16 Q122.107 1178.56 127.917 1178.56 Z\" fill=\"#000000\" fill-rule=\"nonzero\" fill-opacity=\"1\" /><path clip-path=\"url(#clip340)\" d=\"M148.079 1207.86 L152.964 1207.86 L152.964 1213.74 L148.079 1213.74 L148.079 1207.86 Z\" fill=\"#000000\" fill-rule=\"nonzero\" fill-opacity=\"1\" /><path clip-path=\"url(#clip340)\" d=\"M163.959 1209.81 L171.598 1209.81 L171.598 1183.44 L163.288 1185.11 L163.288 1180.85 L171.552 1179.18 L176.227 1179.18 L176.227 1209.81 L183.866 1209.81 L183.866 1213.74 L163.959 1213.74 L163.959 1209.81 Z\" fill=\"#000000\" fill-rule=\"nonzero\" fill-opacity=\"1\" /><path clip-path=\"url(#clip340)\" d=\"M128.288 923.324 Q124.677 923.324 122.848 926.889 Q121.043 930.431 121.043 937.561 Q121.043 944.667 122.848 948.232 Q124.677 951.773 128.288 951.773 Q131.922 951.773 133.728 948.232 Q135.556 944.667 135.556 937.561 Q135.556 930.431 133.728 926.889 Q131.922 923.324 128.288 923.324 M128.288 919.621 Q134.098 919.621 137.154 924.227 Q140.232 928.811 140.232 937.561 Q140.232 946.287 137.154 950.894 Q134.098 955.477 128.288 955.477 Q122.478 955.477 119.399 950.894 Q116.343 946.287 116.343 937.561 Q116.343 928.811 119.399 924.227 Q122.478 919.621 128.288 919.621 Z\" fill=\"#000000\" fill-rule=\"nonzero\" fill-opacity=\"1\" /><path clip-path=\"url(#clip340)\" d=\"M148.45 948.926 L153.334 948.926 L153.334 954.806 L148.45 954.806 L148.45 948.926 Z\" fill=\"#000000\" fill-rule=\"nonzero\" fill-opacity=\"1\" /><path clip-path=\"url(#clip340)\" d=\"M167.547 950.871 L183.866 950.871 L183.866 954.806 L161.922 954.806 L161.922 950.871 Q164.584 948.116 169.167 943.486 Q173.774 938.834 174.954 937.491 Q177.2 934.968 178.079 933.232 Q178.982 931.473 178.982 929.783 Q178.982 927.028 177.038 925.292 Q175.116 923.556 172.014 923.556 Q169.815 923.556 167.362 924.32 Q164.931 925.084 162.153 926.635 L162.153 921.912 Q164.977 920.778 167.431 920.199 Q169.885 919.621 171.922 919.621 Q177.292 919.621 180.487 922.306 Q183.681 924.991 183.681 929.482 Q183.681 931.611 182.871 933.533 Q182.084 935.431 179.977 938.023 Q179.399 938.695 176.297 941.912 Q173.195 945.107 167.547 950.871 Z\" fill=\"#000000\" fill-rule=\"nonzero\" fill-opacity=\"1\" /><path clip-path=\"url(#clip340)\" d=\"M127.339 664.389 Q123.728 664.389 121.899 667.954 Q120.093 671.496 120.093 678.625 Q120.093 685.732 121.899 689.297 Q123.728 692.838 127.339 692.838 Q130.973 692.838 132.779 689.297 Q134.607 685.732 134.607 678.625 Q134.607 671.496 132.779 667.954 Q130.973 664.389 127.339 664.389 M127.339 660.686 Q133.149 660.686 136.204 665.292 Q139.283 669.875 139.283 678.625 Q139.283 687.352 136.204 691.959 Q133.149 696.542 127.339 696.542 Q121.529 696.542 118.45 691.959 Q115.394 687.352 115.394 678.625 Q115.394 669.875 118.45 665.292 Q121.529 660.686 127.339 660.686 Z\" fill=\"#000000\" fill-rule=\"nonzero\" fill-opacity=\"1\" /><path clip-path=\"url(#clip340)\" d=\"M147.501 689.991 L152.385 689.991 L152.385 695.871 L147.501 695.871 L147.501 689.991 Z\" fill=\"#000000\" fill-rule=\"nonzero\" fill-opacity=\"1\" /><path clip-path=\"url(#clip340)\" d=\"M176.737 677.237 Q180.093 677.954 181.968 680.223 Q183.866 682.491 183.866 685.824 Q183.866 690.94 180.348 693.741 Q176.829 696.542 170.348 696.542 Q168.172 696.542 165.857 696.102 Q163.565 695.686 161.112 694.829 L161.112 690.315 Q163.056 691.449 165.371 692.028 Q167.686 692.607 170.209 692.607 Q174.607 692.607 176.899 690.871 Q179.214 689.135 179.214 685.824 Q179.214 682.769 177.061 681.056 Q174.931 679.32 171.112 679.32 L167.084 679.32 L167.084 675.477 L171.297 675.477 Q174.746 675.477 176.575 674.112 Q178.403 672.723 178.403 670.13 Q178.403 667.468 176.505 666.056 Q174.63 664.621 171.112 664.621 Q169.19 664.621 166.991 665.038 Q164.792 665.454 162.153 666.334 L162.153 662.167 Q164.815 661.426 167.13 661.056 Q169.468 660.686 171.528 660.686 Q176.852 660.686 179.954 663.116 Q183.056 665.524 183.056 669.644 Q183.056 672.514 181.413 674.505 Q179.769 676.473 176.737 677.237 Z\" fill=\"#000000\" fill-rule=\"nonzero\" fill-opacity=\"1\" /><path clip-path=\"url(#clip340)\" d=\"M126.205 405.454 Q122.593 405.454 120.765 409.019 Q118.959 412.561 118.959 419.69 Q118.959 426.797 120.765 430.362 Q122.593 433.903 126.205 433.903 Q129.839 433.903 131.644 430.362 Q133.473 426.797 133.473 419.69 Q133.473 412.561 131.644 409.019 Q129.839 405.454 126.205 405.454 M126.205 401.751 Q132.015 401.751 135.07 406.357 Q138.149 410.94 138.149 419.69 Q138.149 428.417 135.07 433.024 Q132.015 437.607 126.205 437.607 Q120.394 437.607 117.316 433.024 Q114.26 428.417 114.26 419.69 Q114.26 410.94 117.316 406.357 Q120.394 401.751 126.205 401.751 Z\" fill=\"#000000\" fill-rule=\"nonzero\" fill-opacity=\"1\" /><path clip-path=\"url(#clip340)\" d=\"M146.366 431.056 L151.251 431.056 L151.251 436.936 L146.366 436.936 L146.366 431.056 Z\" fill=\"#000000\" fill-rule=\"nonzero\" fill-opacity=\"1\" /><path clip-path=\"url(#clip340)\" d=\"M174.283 406.45 L162.477 424.899 L174.283 424.899 L174.283 406.45 M173.056 402.376 L178.936 402.376 L178.936 424.899 L183.866 424.899 L183.866 428.788 L178.936 428.788 L178.936 436.936 L174.283 436.936 L174.283 428.788 L158.681 428.788 L158.681 424.274 L173.056 402.376 Z\" fill=\"#000000\" fill-rule=\"nonzero\" fill-opacity=\"1\" /><path clip-path=\"url(#clip340)\" d=\"M127.686 146.519 Q124.075 146.519 122.246 150.084 Q120.441 153.626 120.441 160.755 Q120.441 167.862 122.246 171.426 Q124.075 174.968 127.686 174.968 Q131.32 174.968 133.126 171.426 Q134.954 167.862 134.954 160.755 Q134.954 153.626 133.126 150.084 Q131.32 146.519 127.686 146.519 M127.686 142.816 Q133.496 142.816 136.552 147.422 Q139.63 152.005 139.63 160.755 Q139.63 169.482 136.552 174.089 Q133.496 178.672 127.686 178.672 Q121.876 178.672 118.797 174.089 Q115.742 169.482 115.742 160.755 Q115.742 152.005 118.797 147.422 Q121.876 142.816 127.686 142.816 Z\" fill=\"#000000\" fill-rule=\"nonzero\" fill-opacity=\"1\" /><path clip-path=\"url(#clip340)\" d=\"M147.848 172.121 L152.732 172.121 L152.732 178.001 L147.848 178.001 L147.848 172.121 Z\" fill=\"#000000\" fill-rule=\"nonzero\" fill-opacity=\"1\" /><path clip-path=\"url(#clip340)\" d=\"M162.964 143.441 L181.32 143.441 L181.32 147.376 L167.246 147.376 L167.246 155.848 Q168.264 155.501 169.283 155.339 Q170.302 155.153 171.32 155.153 Q177.107 155.153 180.487 158.325 Q183.866 161.496 183.866 166.913 Q183.866 172.491 180.394 175.593 Q176.922 178.672 170.602 178.672 Q168.427 178.672 166.158 178.301 Q163.913 177.931 161.505 177.19 L161.505 172.491 Q163.589 173.626 165.811 174.181 Q168.033 174.737 170.51 174.737 Q174.514 174.737 176.852 172.63 Q179.19 170.524 179.19 166.913 Q179.19 163.302 176.852 161.195 Q174.514 159.089 170.51 159.089 Q168.635 159.089 166.76 159.505 Q164.908 159.922 162.964 160.802 L162.964 143.441 Z\" fill=\"#000000\" fill-rule=\"nonzero\" fill-opacity=\"1\" /><path clip-path=\"url(#clip340)\" d=\"M16.4842 1019.98 L16.4842 1010.4 L48.8219 998.274 L16.4842 986.084 L16.4842 976.503 L64.0042 976.503 L64.0042 982.774 L22.277 982.774 L54.8694 995.028 L54.8694 1001.49 L22.277 1013.74 L64.0042 1013.74 L64.0042 1019.98 L16.4842 1019.98 Z\" fill=\"#000000\" fill-rule=\"nonzero\" fill-opacity=\"1\" /><path clip-path=\"url(#clip340)\" d=\"M46.0847 947.794 Q46.0847 954.892 47.7079 957.629 Q49.3312 960.366 53.2461 960.366 Q56.3653 960.366 58.2114 958.329 Q60.0256 956.26 60.0256 952.728 Q60.0256 947.858 56.5881 944.93 Q53.1188 941.969 47.3897 941.969 L46.0847 941.969 L46.0847 947.794 M43.6657 936.113 L64.0042 936.113 L64.0042 941.969 L58.5933 941.969 Q61.8398 943.975 63.3994 946.967 Q64.9272 949.958 64.9272 954.287 Q64.9272 959.762 61.8716 963.008 Q58.7843 966.223 53.6281 966.223 Q47.6125 966.223 44.5569 962.212 Q41.5014 958.17 41.5014 950.181 L41.5014 941.969 L40.9285 941.969 Q36.8862 941.969 34.6901 944.643 Q32.4621 947.285 32.4621 952.091 Q32.4621 955.146 33.1941 958.043 Q33.9262 960.939 35.3903 963.613 L29.9795 963.613 Q28.7381 960.398 28.1334 957.374 Q27.4968 954.351 27.4968 951.486 Q27.4968 943.752 31.5072 939.932 Q35.5176 936.113 43.6657 936.113 Z\" fill=\"#000000\" fill-rule=\"nonzero\" fill-opacity=\"1\" /><path clip-path=\"url(#clip340)\" d=\"M28.3562 894.418 L45.7028 907.308 L64.0042 893.749 L64.0042 900.656 L49.9996 911.032 L64.0042 921.408 L64.0042 928.315 L45.3526 914.47 L28.3562 927.137 L28.3562 920.231 L41.0558 910.778 L28.3562 901.324 L28.3562 894.418 Z\" fill=\"#000000\" fill-rule=\"nonzero\" fill-opacity=\"1\" /><path clip-path=\"url(#clip340)\" d=\"M28.3562 885.474 L28.3562 879.617 L64.0042 879.617 L64.0042 885.474 L28.3562 885.474 M14.479 885.474 L14.479 879.617 L21.895 879.617 L21.895 885.474 L14.479 885.474 Z\" fill=\"#000000\" fill-rule=\"nonzero\" fill-opacity=\"1\" /><path clip-path=\"url(#clip340)\" d=\"M35.1993 839.609 Q31.2526 837.413 29.3747 834.357 Q27.4968 831.302 27.4968 827.164 Q27.4968 821.594 31.4117 818.57 Q35.2948 815.547 42.4881 815.547 L64.0042 815.547 L64.0042 821.435 L42.679 821.435 Q37.5546 821.435 35.072 823.249 Q32.5894 825.063 32.5894 828.787 Q32.5894 833.339 35.6131 835.98 Q38.6368 838.622 43.8567 838.622 L64.0042 838.622 L64.0042 844.51 L42.679 844.51 Q37.5228 844.51 35.072 846.325 Q32.5894 848.139 32.5894 851.927 Q32.5894 856.414 35.6449 859.056 Q38.6686 861.698 43.8567 861.698 L64.0042 861.698 L64.0042 867.586 L28.3562 867.586 L28.3562 861.698 L33.8944 861.698 Q30.616 859.693 29.0564 856.892 Q27.4968 854.091 27.4968 850.24 Q27.4968 846.357 29.4702 843.651 Q31.4436 840.914 35.1993 839.609 Z\" fill=\"#000000\" fill-rule=\"nonzero\" fill-opacity=\"1\" /><path clip-path=\"url(#clip340)\" d=\"M49.9359 804.47 L28.3562 804.47 L28.3562 798.614 L49.7131 798.614 Q54.7739 798.614 57.3202 796.64 Q59.8346 794.667 59.8346 790.72 Q59.8346 785.978 56.8109 783.241 Q53.7872 780.471 48.5673 780.471 L28.3562 780.471 L28.3562 774.615 L64.0042 774.615 L64.0042 780.471 L58.5296 780.471 Q61.7762 782.604 63.3676 785.437 Q64.9272 788.238 64.9272 791.962 Q64.9272 798.104 61.1078 801.287 Q57.2883 804.47 49.9359 804.47 M27.4968 789.734 L27.4968 789.734 Z\" fill=\"#000000\" fill-rule=\"nonzero\" fill-opacity=\"1\" /><path clip-path=\"url(#clip340)\" d=\"M35.1993 734.798 Q31.2526 732.601 29.3747 729.546 Q27.4968 726.49 27.4968 722.353 Q27.4968 716.783 31.4117 713.759 Q35.2948 710.735 42.4881 710.735 L64.0042 710.735 L64.0042 716.623 L42.679 716.623 Q37.5546 716.623 35.072 718.438 Q32.5894 720.252 32.5894 723.976 Q32.5894 728.527 35.6131 731.169 Q38.6368 733.811 43.8567 733.811 L64.0042 733.811 L64.0042 739.699 L42.679 739.699 Q37.5228 739.699 35.072 741.513 Q32.5894 743.328 32.5894 747.115 Q32.5894 751.603 35.6449 754.245 Q38.6686 756.887 43.8567 756.887 L64.0042 756.887 L64.0042 762.775 L28.3562 762.775 L28.3562 756.887 L33.8944 756.887 Q30.616 754.881 29.0564 752.08 Q27.4968 749.28 27.4968 745.428 Q27.4968 741.545 29.4702 738.84 Q31.4436 736.103 35.1993 734.798 Z\" fill=\"#000000\" fill-rule=\"nonzero\" fill-opacity=\"1\" /><path clip-path=\"url(#clip340)\" d=\"M44.7161 647.842 L47.5806 647.842 L47.5806 674.769 Q53.6281 674.387 56.8109 671.14 Q59.9619 667.862 59.9619 662.038 Q59.9619 658.664 59.1344 655.513 Q58.3069 652.33 56.6518 649.211 L62.1899 649.211 Q63.5267 652.362 64.227 655.672 Q64.9272 658.982 64.9272 662.388 Q64.9272 670.918 59.9619 675.915 Q54.9967 680.88 46.5303 680.88 Q37.7774 680.88 32.6531 676.169 Q27.4968 671.427 27.4968 663.406 Q27.4968 656.213 32.1438 652.043 Q36.7589 647.842 44.7161 647.842 M42.9973 653.698 Q38.1912 653.762 35.3266 656.404 Q32.4621 659.014 32.4621 663.342 Q32.4621 668.244 35.2312 671.204 Q38.0002 674.132 43.0292 674.578 L42.9973 653.698 Z\" fill=\"#000000\" fill-rule=\"nonzero\" fill-opacity=\"1\" /><path clip-path=\"url(#clip340)\" d=\"M33.8307 617.573 Q33.2578 618.56 33.0032 619.737 Q32.7167 620.883 32.7167 622.284 Q32.7167 627.249 35.9632 629.923 Q39.1779 632.564 45.2253 632.564 L64.0042 632.564 L64.0042 638.453 L28.3562 638.453 L28.3562 632.564 L33.8944 632.564 Q30.6479 630.718 29.0883 627.758 Q27.4968 624.798 27.4968 620.565 Q27.4968 619.96 27.5923 619.228 Q27.656 618.496 27.8151 617.605 L33.8307 617.573 Z\" fill=\"#000000\" fill-rule=\"nonzero\" fill-opacity=\"1\" /><path clip-path=\"url(#clip340)\" d=\"M33.8307 591.919 Q33.2578 592.906 33.0032 594.084 Q32.7167 595.229 32.7167 596.63 Q32.7167 601.595 35.9632 604.269 Q39.1779 606.91 45.2253 606.91 L64.0042 606.91 L64.0042 612.799 L28.3562 612.799 L28.3562 606.91 L33.8944 606.91 Q30.6479 605.064 29.0883 602.104 Q27.4968 599.144 27.4968 594.911 Q27.4968 594.306 27.5923 593.574 Q27.656 592.842 27.8151 591.951 L33.8307 591.919 Z\" fill=\"#000000\" fill-rule=\"nonzero\" fill-opacity=\"1\" /><path clip-path=\"url(#clip340)\" d=\"M32.4621 573.395 Q32.4621 578.106 36.1542 580.843 Q39.8145 583.58 46.212 583.58 Q52.6095 583.58 56.3017 580.875 Q59.9619 578.138 59.9619 573.395 Q59.9619 568.716 56.2698 565.979 Q52.5777 563.242 46.212 563.242 Q39.8781 563.242 36.186 565.979 Q32.4621 568.716 32.4621 573.395 M27.4968 573.395 Q27.4968 565.756 32.4621 561.396 Q37.4273 557.035 46.212 557.035 Q54.9649 557.035 59.9619 561.396 Q64.9272 565.756 64.9272 573.395 Q64.9272 581.066 59.9619 585.426 Q54.9649 589.755 46.212 589.755 Q37.4273 589.755 32.4621 585.426 Q27.4968 581.066 27.4968 573.395 Z\" fill=\"#000000\" fill-rule=\"nonzero\" fill-opacity=\"1\" /><path clip-path=\"url(#clip340)\" d=\"M33.8307 526.671 Q33.2578 527.657 33.0032 528.835 Q32.7167 529.981 32.7167 531.381 Q32.7167 536.347 35.9632 539.02 Q39.1779 541.662 45.2253 541.662 L64.0042 541.662 L64.0042 547.55 L28.3562 547.55 L28.3562 541.662 L33.8944 541.662 Q30.6479 539.816 29.0883 536.856 Q27.4968 533.896 27.4968 529.663 Q27.4968 529.058 27.5923 528.326 Q27.656 527.594 27.8151 526.703 L33.8307 526.671 Z\" fill=\"#000000\" fill-rule=\"nonzero\" fill-opacity=\"1\" /><path clip-path=\"url(#clip340)\" d=\"M772.981 12.096 L811.221 12.096 L811.221 18.9825 L781.163 18.9825 L781.163 36.8875 L809.965 36.8875 L809.965 43.7741 L781.163 43.7741 L781.163 65.6895 L811.95 65.6895 L811.95 72.576 L772.981 72.576 L772.981 12.096 Z\" fill=\"#000000\" fill-rule=\"nonzero\" fill-opacity=\"1\" /><path clip-path=\"url(#clip340)\" d=\"M851.365 34.1734 Q850.11 33.4443 848.611 33.1202 Q847.153 32.7556 845.37 32.7556 Q839.051 32.7556 835.648 36.8875 Q832.286 40.9789 832.286 48.6757 L832.286 72.576 L824.792 72.576 L824.792 27.2059 L832.286 27.2059 L832.286 34.2544 Q834.635 30.1225 838.403 28.1376 Q842.17 26.1121 847.558 26.1121 Q848.327 26.1121 849.259 26.2337 Q850.191 26.3147 851.325 26.5172 L851.365 34.1734 Z\" fill=\"#000000\" fill-rule=\"nonzero\" fill-opacity=\"1\" /><path clip-path=\"url(#clip340)\" d=\"M884.016 34.1734 Q882.76 33.4443 881.261 33.1202 Q879.803 32.7556 878.02 32.7556 Q871.701 32.7556 868.298 36.8875 Q864.936 40.9789 864.936 48.6757 L864.936 72.576 L857.442 72.576 L857.442 27.2059 L864.936 27.2059 L864.936 34.2544 Q867.286 30.1225 871.053 28.1376 Q874.82 26.1121 880.208 26.1121 Q880.978 26.1121 881.909 26.2337 Q882.841 26.3147 883.975 26.5172 L884.016 34.1734 Z\" fill=\"#000000\" fill-rule=\"nonzero\" fill-opacity=\"1\" /><path clip-path=\"url(#clip340)\" d=\"M907.592 32.4315 Q901.597 32.4315 898.113 37.1306 Q894.629 41.7891 894.629 49.9314 Q894.629 58.0738 898.072 62.7728 Q901.556 67.4314 907.592 67.4314 Q913.547 67.4314 917.031 62.7323 Q920.514 58.0333 920.514 49.9314 Q920.514 41.8701 917.031 37.1711 Q913.547 32.4315 907.592 32.4315 M907.592 26.1121 Q917.314 26.1121 922.864 32.4315 Q928.414 38.7509 928.414 49.9314 Q928.414 61.0714 922.864 67.4314 Q917.314 73.7508 907.592 73.7508 Q897.829 73.7508 892.28 67.4314 Q886.77 61.0714 886.77 49.9314 Q886.77 38.7509 892.28 32.4315 Q897.829 26.1121 907.592 26.1121 Z\" fill=\"#000000\" fill-rule=\"nonzero\" fill-opacity=\"1\" /><path clip-path=\"url(#clip340)\" d=\"M967.059 34.1734 Q965.804 33.4443 964.305 33.1202 Q962.846 32.7556 961.064 32.7556 Q954.745 32.7556 951.342 36.8875 Q947.98 40.9789 947.98 48.6757 L947.98 72.576 L940.485 72.576 L940.485 27.2059 L947.98 27.2059 L947.98 34.2544 Q950.329 30.1225 954.096 28.1376 Q957.864 26.1121 963.251 26.1121 Q964.021 26.1121 964.953 26.2337 Q965.885 26.3147 967.019 26.5172 L967.059 34.1734 Z\" fill=\"#000000\" fill-rule=\"nonzero\" fill-opacity=\"1\" /><path clip-path=\"url(#clip340)\" d=\"M1040.06 48.0275 L1040.06 51.6733 L1005.79 51.6733 Q1006.27 59.3701 1010.4 63.421 Q1014.58 67.4314 1021.99 67.4314 Q1026.28 67.4314 1030.29 66.3781 Q1034.34 65.3249 1038.31 63.2184 L1038.31 70.267 Q1034.3 71.9684 1030.09 72.8596 Q1025.88 73.7508 1021.54 73.7508 Q1010.69 73.7508 1004.33 67.4314 Q998.008 61.1119 998.008 50.3365 Q998.008 39.1965 1004 32.6746 Q1010.04 26.1121 1020.25 26.1121 Q1029.4 26.1121 1034.71 32.0264 Q1040.06 37.9003 1040.06 48.0275 M1032.6 45.84 Q1032.52 39.7232 1029.16 36.0774 Q1025.84 32.4315 1020.33 32.4315 Q1014.09 32.4315 1010.32 35.9558 Q1006.6 39.4801 1006.03 45.8805 L1032.6 45.84 Z\" fill=\"#000000\" fill-rule=\"nonzero\" fill-opacity=\"1\" /><path clip-path=\"url(#clip340)\" d=\"M1046.94 27.2059 L1054.84 27.2059 L1069.02 65.2844 L1083.2 27.2059 L1091.1 27.2059 L1074.08 72.576 L1063.96 72.576 L1046.94 27.2059 Z\" fill=\"#000000\" fill-rule=\"nonzero\" fill-opacity=\"1\" /><path clip-path=\"url(#clip340)\" d=\"M1118.97 32.4315 Q1112.97 32.4315 1109.49 37.1306 Q1106.01 41.7891 1106.01 49.9314 Q1106.01 58.0738 1109.45 62.7728 Q1112.93 67.4314 1118.97 67.4314 Q1124.92 67.4314 1128.41 62.7323 Q1131.89 58.0333 1131.89 49.9314 Q1131.89 41.8701 1128.41 37.1711 Q1124.92 32.4315 1118.97 32.4315 M1118.97 26.1121 Q1128.69 26.1121 1134.24 32.4315 Q1139.79 38.7509 1139.79 49.9314 Q1139.79 61.0714 1134.24 67.4314 Q1128.69 73.7508 1118.97 73.7508 Q1109.21 73.7508 1103.66 67.4314 Q1098.15 61.0714 1098.15 49.9314 Q1098.15 38.7509 1103.66 32.4315 Q1109.21 26.1121 1118.97 26.1121 Z\" fill=\"#000000\" fill-rule=\"nonzero\" fill-opacity=\"1\" /><path clip-path=\"url(#clip340)\" d=\"M1152.15 9.54393 L1159.6 9.54393 L1159.6 72.576 L1152.15 72.576 L1152.15 9.54393 Z\" fill=\"#000000\" fill-rule=\"nonzero\" fill-opacity=\"1\" /><path clip-path=\"url(#clip340)\" d=\"M1174.43 54.671 L1174.43 27.2059 L1181.88 27.2059 L1181.88 54.3874 Q1181.88 60.8284 1184.39 64.0691 Q1186.9 67.2693 1191.93 67.2693 Q1197.96 67.2693 1201.44 63.421 Q1204.97 59.5726 1204.97 52.9291 L1204.97 27.2059 L1212.42 27.2059 L1212.42 72.576 L1204.97 72.576 L1204.97 65.6084 Q1202.25 69.7404 1198.65 71.7658 Q1195.08 73.7508 1190.35 73.7508 Q1182.53 73.7508 1178.48 68.8897 Q1174.43 64.0286 1174.43 54.671 M1193.18 26.1121 L1193.18 26.1121 Z\" fill=\"#000000\" fill-rule=\"nonzero\" fill-opacity=\"1\" /><path clip-path=\"url(#clip340)\" d=\"M1235.15 14.324 L1235.15 27.2059 L1250.5 27.2059 L1250.5 32.9987 L1235.15 32.9987 L1235.15 57.6282 Q1235.15 63.1779 1236.65 64.7578 Q1238.19 66.3376 1242.84 66.3376 L1250.5 66.3376 L1250.5 72.576 L1242.84 72.576 Q1234.22 72.576 1230.94 69.3758 Q1227.65 66.1351 1227.65 57.6282 L1227.65 32.9987 L1222.19 32.9987 L1222.19 27.2059 L1227.65 27.2059 L1227.65 14.324 L1235.15 14.324 Z\" fill=\"#000000\" fill-rule=\"nonzero\" fill-opacity=\"1\" /><path clip-path=\"url(#clip340)\" d=\"M1260.3 27.2059 L1267.76 27.2059 L1267.76 72.576 L1260.3 72.576 L1260.3 27.2059 M1260.3 9.54393 L1267.76 9.54393 L1267.76 18.9825 L1260.3 18.9825 L1260.3 9.54393 Z\" fill=\"#000000\" fill-rule=\"nonzero\" fill-opacity=\"1\" /><path clip-path=\"url(#clip340)\" d=\"M1300.93 32.4315 Q1294.94 32.4315 1291.46 37.1306 Q1287.97 41.7891 1287.97 49.9314 Q1287.97 58.0738 1291.42 62.7728 Q1294.9 67.4314 1300.93 67.4314 Q1306.89 67.4314 1310.37 62.7323 Q1313.86 58.0333 1313.86 49.9314 Q1313.86 41.8701 1310.37 37.1711 Q1306.89 32.4315 1300.93 32.4315 M1300.93 26.1121 Q1310.66 26.1121 1316.21 32.4315 Q1321.76 38.7509 1321.76 49.9314 Q1321.76 61.0714 1316.21 67.4314 Q1310.66 73.7508 1300.93 73.7508 Q1291.17 73.7508 1285.62 67.4314 Q1280.11 61.0714 1280.11 49.9314 Q1280.11 38.7509 1285.62 32.4315 Q1291.17 26.1121 1300.93 26.1121 Z\" fill=\"#000000\" fill-rule=\"nonzero\" fill-opacity=\"1\" /><path clip-path=\"url(#clip340)\" d=\"M1371.83 45.1919 L1371.83 72.576 L1364.37 72.576 L1364.37 45.4349 Q1364.37 38.994 1361.86 35.7938 Q1359.35 32.5936 1354.33 32.5936 Q1348.29 32.5936 1344.81 36.4419 Q1341.32 40.2903 1341.32 46.9338 L1341.32 72.576 L1333.83 72.576 L1333.83 27.2059 L1341.32 27.2059 L1341.32 34.2544 Q1344 30.163 1347.6 28.1376 Q1351.25 26.1121 1355.99 26.1121 Q1363.8 26.1121 1367.82 30.9732 Q1371.83 35.7938 1371.83 45.1919 Z\" fill=\"#000000\" fill-rule=\"nonzero\" fill-opacity=\"1\" /><path clip-path=\"url(#clip340)\" d=\"M1430.64 32.4315 Q1424.65 32.4315 1421.17 37.1306 Q1417.68 41.7891 1417.68 49.9314 Q1417.68 58.0738 1421.13 62.7728 Q1424.61 67.4314 1430.64 67.4314 Q1436.6 67.4314 1440.08 62.7323 Q1443.57 58.0333 1443.57 49.9314 Q1443.57 41.8701 1440.08 37.1711 Q1436.6 32.4315 1430.64 32.4315 M1430.64 26.1121 Q1440.37 26.1121 1445.92 32.4315 Q1451.47 38.7509 1451.47 49.9314 Q1451.47 61.0714 1445.92 67.4314 Q1440.37 73.7508 1430.64 73.7508 Q1420.88 73.7508 1415.33 67.4314 Q1409.82 61.0714 1409.82 49.9314 Q1409.82 38.7509 1415.33 32.4315 Q1420.88 26.1121 1430.64 26.1121 Z\" fill=\"#000000\" fill-rule=\"nonzero\" fill-opacity=\"1\" /><path clip-path=\"url(#clip340)\" d=\"M1458.47 27.2059 L1466.37 27.2059 L1480.55 65.2844 L1494.73 27.2059 L1502.63 27.2059 L1485.62 72.576 L1475.49 72.576 L1458.47 27.2059 Z\" fill=\"#000000\" fill-rule=\"nonzero\" fill-opacity=\"1\" /><path clip-path=\"url(#clip340)\" d=\"M1551.73 48.0275 L1551.73 51.6733 L1517.46 51.6733 Q1517.94 59.3701 1522.07 63.421 Q1526.25 67.4314 1533.66 67.4314 Q1537.95 67.4314 1541.96 66.3781 Q1546.01 65.3249 1549.98 63.2184 L1549.98 70.267 Q1545.97 71.9684 1541.76 72.8596 Q1537.55 73.7508 1533.21 73.7508 Q1522.36 73.7508 1516 67.4314 Q1509.68 61.1119 1509.68 50.3365 Q1509.68 39.1965 1515.67 32.6746 Q1521.71 26.1121 1531.92 26.1121 Q1541.07 26.1121 1546.38 32.0264 Q1551.73 37.9003 1551.73 48.0275 M1544.27 45.84 Q1544.19 39.7232 1540.83 36.0774 Q1537.51 32.4315 1532 32.4315 Q1525.76 32.4315 1521.99 35.9558 Q1518.27 39.4801 1517.7 45.8805 L1544.27 45.84 Z\" fill=\"#000000\" fill-rule=\"nonzero\" fill-opacity=\"1\" /><path clip-path=\"url(#clip340)\" d=\"M1590.25 34.1734 Q1588.99 33.4443 1587.5 33.1202 Q1586.04 32.7556 1584.26 32.7556 Q1577.94 32.7556 1574.53 36.8875 Q1571.17 40.9789 1571.17 48.6757 L1571.17 72.576 L1563.68 72.576 L1563.68 27.2059 L1571.17 27.2059 L1571.17 34.2544 Q1573.52 30.1225 1577.29 28.1376 Q1581.05 26.1121 1586.44 26.1121 Q1587.21 26.1121 1588.14 26.2337 Q1589.08 26.3147 1590.21 26.5172 L1590.25 34.1734 Z\" fill=\"#000000\" fill-rule=\"nonzero\" fill-opacity=\"1\" /><path clip-path=\"url(#clip340)\" d=\"M1631.81 14.324 L1631.81 27.2059 L1647.17 27.2059 L1647.17 32.9987 L1631.81 32.9987 L1631.81 57.6282 Q1631.81 63.1779 1633.31 64.7578 Q1634.85 66.3376 1639.51 66.3376 L1647.17 66.3376 L1647.17 72.576 L1639.51 72.576 Q1630.88 72.576 1627.6 69.3758 Q1624.32 66.1351 1624.32 57.6282 L1624.32 32.9987 L1618.85 32.9987 L1618.85 27.2059 L1624.32 27.2059 L1624.32 14.324 L1631.81 14.324 Z\" fill=\"#000000\" fill-rule=\"nonzero\" fill-opacity=\"1\" /><path clip-path=\"url(#clip340)\" d=\"M1656.97 27.2059 L1664.42 27.2059 L1664.42 72.576 L1656.97 72.576 L1656.97 27.2059 M1656.97 9.54393 L1664.42 9.54393 L1664.42 18.9825 L1656.97 18.9825 L1656.97 9.54393 Z\" fill=\"#000000\" fill-rule=\"nonzero\" fill-opacity=\"1\" /><path clip-path=\"url(#clip340)\" d=\"M1715.34 35.9153 Q1718.14 30.8922 1722.03 28.5022 Q1725.92 26.1121 1731.18 26.1121 Q1738.27 26.1121 1742.12 31.0947 Q1745.97 36.0368 1745.97 45.1919 L1745.97 72.576 L1738.47 72.576 L1738.47 45.4349 Q1738.47 38.913 1736.16 35.7533 Q1733.85 32.5936 1729.12 32.5936 Q1723.32 32.5936 1719.96 36.4419 Q1716.6 40.2903 1716.6 46.9338 L1716.6 72.576 L1709.1 72.576 L1709.1 45.4349 Q1709.1 38.8725 1706.79 35.7533 Q1704.49 32.5936 1699.67 32.5936 Q1693.95 32.5936 1690.59 36.4824 Q1687.23 40.3308 1687.23 46.9338 L1687.23 72.576 L1679.73 72.576 L1679.73 27.2059 L1687.23 27.2059 L1687.23 34.2544 Q1689.78 30.082 1693.35 28.0971 Q1696.91 26.1121 1701.81 26.1121 Q1706.75 26.1121 1710.2 28.6237 Q1713.68 31.1352 1715.34 35.9153 Z\" fill=\"#000000\" fill-rule=\"nonzero\" fill-opacity=\"1\" /><path clip-path=\"url(#clip340)\" d=\"M1799.64 48.0275 L1799.64 51.6733 L1765.37 51.6733 Q1765.86 59.3701 1769.99 63.421 Q1774.16 67.4314 1781.57 67.4314 Q1785.87 67.4314 1789.88 66.3781 Q1793.93 65.3249 1797.9 63.2184 L1797.9 70.267 Q1793.89 71.9684 1789.68 72.8596 Q1785.46 73.7508 1781.13 73.7508 Q1770.27 73.7508 1763.91 67.4314 Q1757.59 61.1119 1757.59 50.3365 Q1757.59 39.1965 1763.59 32.6746 Q1769.62 26.1121 1779.83 26.1121 Q1788.99 26.1121 1794.29 32.0264 Q1799.64 37.9003 1799.64 48.0275 M1792.19 45.84 Q1792.11 39.7232 1788.74 36.0774 Q1785.42 32.4315 1779.91 32.4315 Q1773.68 32.4315 1769.91 35.9558 Q1766.18 39.4801 1765.61 45.8805 L1792.19 45.84 Z\" fill=\"#000000\" fill-rule=\"nonzero\" fill-opacity=\"1\" /><polyline clip-path=\"url(#clip342)\" style=\"stroke:#009af9; stroke-linecap:round; stroke-linejoin:round; stroke-width:4; stroke-opacity:1; fill:none\" points=\"280.231,160.256 300.353,937.043 320.474,1014.95 340.596,1092.78 360.717,1135.57 380.839,1167.13 400.961,1190.71 421.082,1209.36 441.204,1224.55 461.325,1237.24 481.447,1248.05 501.569,1257.39 521.69,1265.58 541.812,1272.83 561.933,1279.31 582.055,1285.14 602.177,1290.43 622.298,1295.26 642.42,1299.68 662.541,1303.76 682.663,1307.54 702.785,1311.04 722.906,1314.31 743.028,1317.37 763.149,1320.23 783.271,1322.92 803.393,1325.46 823.514,1327.86 843.636,1330.13 863.757,1332.28 883.879,1334.33 904.001,1336.28 924.122,1338.13 944.244,1339.9 964.365,1341.59 984.487,1343.21 1004.61,1344.76 1024.73,1346.25 1044.85,1347.68 1064.97,1349.05 1085.1,1350.37 1105.22,1351.64 1125.34,1352.87 1145.46,1354.05 1165.58,1355.19 1185.7,1356.29 1205.82,1357.35 1225.95,1358.38 1246.07,1359.37 1266.19,1360.33 1286.31,1361.26 1306.43,1362.16 1326.55,1363.04 1346.68,1363.89 1366.8,1364.71 1386.92,1365.51 1407.04,1366.28 1427.16,1367.03 1447.28,1367.77 1467.41,1368.48 1487.53,1369.17 1507.65,1369.84 1527.77,1370.49 1547.89,1371.13 1568.01,1371.75 1588.14,1372.35 1608.26,1372.94 1628.38,1373.51 1648.5,1374.07 1668.62,1374.61 1688.74,1375.14 1708.86,1375.65 1728.99,1376.16 1749.11,1376.65 1769.23,1377.13 1789.35,1377.59 1809.47,1378.05 1829.59,1378.5 1849.72,1378.93 1869.84,1379.36 1889.96,1379.77 1910.08,1380.18 1930.2,1380.57 1950.32,1380.96 1970.45,1381.34 1990.57,1381.71 2010.69,1382.07 2030.81,1382.42 2050.93,1382.77 2071.05,1383.11 2091.18,1383.44 2111.3,1383.76 2131.42,1384.08 2151.54,1384.39 2171.66,1384.7 2191.78,1384.99 2211.9,1385.29 2232.03,1385.57 2252.15,1385.85 2272.27,1386.13 2292.39,1386.4 \"/>\n",
       "</svg>\n"
      ],
      "text/html": [
       "<?xml version=\"1.0\" encoding=\"utf-8\"?>\n",
       "<svg xmlns=\"http://www.w3.org/2000/svg\" xmlns:xlink=\"http://www.w3.org/1999/xlink\" width=\"600\" height=\"400\" viewBox=\"0 0 2400 1600\">\n",
       "<defs>\n",
       "  <clipPath id=\"clip390\">\n",
       "    <rect x=\"0\" y=\"0\" width=\"2400\" height=\"1600\"/>\n",
       "  </clipPath>\n",
       "</defs>\n",
       "<path clip-path=\"url(#clip390)\" d=\"M0 1600 L2400 1600 L2400 0 L0 0  Z\" fill=\"#ffffff\" fill-rule=\"evenodd\" fill-opacity=\"1\"/>\n",
       "<defs>\n",
       "  <clipPath id=\"clip391\">\n",
       "    <rect x=\"480\" y=\"0\" width=\"1681\" height=\"1600\"/>\n",
       "  </clipPath>\n",
       "</defs>\n",
       "<path clip-path=\"url(#clip390)\" d=\"M219.866 1423.18 L2352.76 1423.18 L2352.76 123.472 L219.866 123.472  Z\" fill=\"#ffffff\" fill-rule=\"evenodd\" fill-opacity=\"1\"/>\n",
       "<defs>\n",
       "  <clipPath id=\"clip392\">\n",
       "    <rect x=\"219\" y=\"123\" width=\"2134\" height=\"1301\"/>\n",
       "  </clipPath>\n",
       "</defs>\n",
       "<polyline clip-path=\"url(#clip392)\" style=\"stroke:#000000; stroke-linecap:round; stroke-linejoin:round; stroke-width:2; stroke-opacity:0.1; fill:none\" points=\"280.231,1423.18 280.231,123.472 \"/>\n",
       "<polyline clip-path=\"url(#clip392)\" style=\"stroke:#000000; stroke-linecap:round; stroke-linejoin:round; stroke-width:2; stroke-opacity:0.1; fill:none\" points=\"783.271,1423.18 783.271,123.472 \"/>\n",
       "<polyline clip-path=\"url(#clip392)\" style=\"stroke:#000000; stroke-linecap:round; stroke-linejoin:round; stroke-width:2; stroke-opacity:0.1; fill:none\" points=\"1286.31,1423.18 1286.31,123.472 \"/>\n",
       "<polyline clip-path=\"url(#clip392)\" style=\"stroke:#000000; stroke-linecap:round; stroke-linejoin:round; stroke-width:2; stroke-opacity:0.1; fill:none\" points=\"1789.35,1423.18 1789.35,123.472 \"/>\n",
       "<polyline clip-path=\"url(#clip392)\" style=\"stroke:#000000; stroke-linecap:round; stroke-linejoin:round; stroke-width:2; stroke-opacity:0.1; fill:none\" points=\"2292.39,1423.18 2292.39,123.472 \"/>\n",
       "<polyline clip-path=\"url(#clip390)\" style=\"stroke:#000000; stroke-linecap:round; stroke-linejoin:round; stroke-width:4; stroke-opacity:1; fill:none\" points=\"219.866,1423.18 2352.76,1423.18 \"/>\n",
       "<polyline clip-path=\"url(#clip390)\" style=\"stroke:#000000; stroke-linecap:round; stroke-linejoin:round; stroke-width:4; stroke-opacity:1; fill:none\" points=\"280.231,1423.18 280.231,1404.28 \"/>\n",
       "<polyline clip-path=\"url(#clip390)\" style=\"stroke:#000000; stroke-linecap:round; stroke-linejoin:round; stroke-width:4; stroke-opacity:1; fill:none\" points=\"783.271,1423.18 783.271,1404.28 \"/>\n",
       "<polyline clip-path=\"url(#clip390)\" style=\"stroke:#000000; stroke-linecap:round; stroke-linejoin:round; stroke-width:4; stroke-opacity:1; fill:none\" points=\"1286.31,1423.18 1286.31,1404.28 \"/>\n",
       "<polyline clip-path=\"url(#clip390)\" style=\"stroke:#000000; stroke-linecap:round; stroke-linejoin:round; stroke-width:4; stroke-opacity:1; fill:none\" points=\"1789.35,1423.18 1789.35,1404.28 \"/>\n",
       "<polyline clip-path=\"url(#clip390)\" style=\"stroke:#000000; stroke-linecap:round; stroke-linejoin:round; stroke-width:4; stroke-opacity:1; fill:none\" points=\"2292.39,1423.18 2292.39,1404.28 \"/>\n",
       "<path clip-path=\"url(#clip390)\" d=\"M280.231 1454.1 Q276.62 1454.1 274.791 1457.66 Q272.986 1461.2 272.986 1468.33 Q272.986 1475.44 274.791 1479.01 Q276.62 1482.55 280.231 1482.55 Q283.865 1482.55 285.671 1479.01 Q287.5 1475.44 287.5 1468.33 Q287.5 1461.2 285.671 1457.66 Q283.865 1454.1 280.231 1454.1 M280.231 1450.39 Q286.041 1450.39 289.097 1455 Q292.175 1459.58 292.175 1468.33 Q292.175 1477.06 289.097 1481.67 Q286.041 1486.25 280.231 1486.25 Q274.421 1486.25 271.342 1481.67 Q268.287 1477.06 268.287 1468.33 Q268.287 1459.58 271.342 1455 Q274.421 1450.39 280.231 1450.39 Z\" fill=\"#000000\" fill-rule=\"nonzero\" fill-opacity=\"1\" /><path clip-path=\"url(#clip390)\" d=\"M762.542 1481.64 L778.861 1481.64 L778.861 1485.58 L756.917 1485.58 L756.917 1481.64 Q759.579 1478.89 764.162 1474.26 Q768.769 1469.61 769.949 1468.27 Q772.195 1465.74 773.074 1464.01 Q773.977 1462.25 773.977 1460.56 Q773.977 1457.8 772.033 1456.07 Q770.111 1454.33 767.01 1454.33 Q764.811 1454.33 762.357 1455.09 Q759.926 1455.86 757.149 1457.41 L757.149 1452.69 Q759.973 1451.55 762.426 1450.97 Q764.88 1450.39 766.917 1450.39 Q772.287 1450.39 775.482 1453.08 Q778.676 1455.77 778.676 1460.26 Q778.676 1462.39 777.866 1464.31 Q777.079 1466.2 774.973 1468.8 Q774.394 1469.47 771.292 1472.69 Q768.19 1475.88 762.542 1481.64 Z\" fill=\"#000000\" fill-rule=\"nonzero\" fill-opacity=\"1\" /><path clip-path=\"url(#clip390)\" d=\"M788.722 1451.02 L807.079 1451.02 L807.079 1454.96 L793.005 1454.96 L793.005 1463.43 Q794.023 1463.08 795.042 1462.92 Q796.06 1462.73 797.079 1462.73 Q802.866 1462.73 806.245 1465.9 Q809.625 1469.08 809.625 1474.49 Q809.625 1480.07 806.153 1483.17 Q802.681 1486.25 796.361 1486.25 Q794.185 1486.25 791.917 1485.88 Q789.672 1485.51 787.264 1484.77 L787.264 1480.07 Q789.347 1481.2 791.57 1481.76 Q793.792 1482.32 796.269 1482.32 Q800.273 1482.32 802.611 1480.21 Q804.949 1478.1 804.949 1474.49 Q804.949 1470.88 802.611 1468.77 Q800.273 1466.67 796.269 1466.67 Q794.394 1466.67 792.519 1467.08 Q790.667 1467.5 788.722 1468.38 L788.722 1451.02 Z\" fill=\"#000000\" fill-rule=\"nonzero\" fill-opacity=\"1\" /><path clip-path=\"url(#clip390)\" d=\"M1261.01 1451.02 L1279.37 1451.02 L1279.37 1454.96 L1265.29 1454.96 L1265.29 1463.43 Q1266.31 1463.08 1267.33 1462.92 Q1268.35 1462.73 1269.37 1462.73 Q1275.15 1462.73 1278.53 1465.9 Q1281.91 1469.08 1281.91 1474.49 Q1281.91 1480.07 1278.44 1483.17 Q1274.97 1486.25 1268.65 1486.25 Q1266.47 1486.25 1264.2 1485.88 Q1261.96 1485.51 1259.55 1484.77 L1259.55 1480.07 Q1261.64 1481.2 1263.86 1481.76 Q1266.08 1482.32 1268.56 1482.32 Q1272.56 1482.32 1274.9 1480.21 Q1277.24 1478.1 1277.24 1474.49 Q1277.24 1470.88 1274.9 1468.77 Q1272.56 1466.67 1268.56 1466.67 Q1266.68 1466.67 1264.81 1467.08 Q1262.95 1467.5 1261.01 1468.38 L1261.01 1451.02 Z\" fill=\"#000000\" fill-rule=\"nonzero\" fill-opacity=\"1\" /><path clip-path=\"url(#clip390)\" d=\"M1301.13 1454.1 Q1297.51 1454.1 1295.69 1457.66 Q1293.88 1461.2 1293.88 1468.33 Q1293.88 1475.44 1295.69 1479.01 Q1297.51 1482.55 1301.13 1482.55 Q1304.76 1482.55 1306.57 1479.01 Q1308.39 1475.44 1308.39 1468.33 Q1308.39 1461.2 1306.57 1457.66 Q1304.76 1454.1 1301.13 1454.1 M1301.13 1450.39 Q1306.94 1450.39 1309.99 1455 Q1313.07 1459.58 1313.07 1468.33 Q1313.07 1477.06 1309.99 1481.67 Q1306.94 1486.25 1301.13 1486.25 Q1295.32 1486.25 1292.24 1481.67 Q1289.18 1477.06 1289.18 1468.33 Q1289.18 1459.58 1292.24 1455 Q1295.32 1450.39 1301.13 1450.39 Z\" fill=\"#000000\" fill-rule=\"nonzero\" fill-opacity=\"1\" /><path clip-path=\"url(#clip390)\" d=\"M1763.21 1451.02 L1785.43 1451.02 L1785.43 1453.01 L1772.88 1485.58 L1768 1485.58 L1779.8 1454.96 L1763.21 1454.96 L1763.21 1451.02 Z\" fill=\"#000000\" fill-rule=\"nonzero\" fill-opacity=\"1\" /><path clip-path=\"url(#clip390)\" d=\"M1794.59 1451.02 L1812.95 1451.02 L1812.95 1454.96 L1798.88 1454.96 L1798.88 1463.43 Q1799.9 1463.08 1800.91 1462.92 Q1801.93 1462.73 1802.95 1462.73 Q1808.74 1462.73 1812.12 1465.9 Q1815.5 1469.08 1815.5 1474.49 Q1815.5 1480.07 1812.02 1483.17 Q1808.55 1486.25 1802.23 1486.25 Q1800.06 1486.25 1797.79 1485.88 Q1795.54 1485.51 1793.14 1484.77 L1793.14 1480.07 Q1795.22 1481.2 1797.44 1481.76 Q1799.66 1482.32 1802.14 1482.32 Q1806.14 1482.32 1808.48 1480.21 Q1810.82 1478.1 1810.82 1474.49 Q1810.82 1470.88 1808.48 1468.77 Q1806.14 1466.67 1802.14 1466.67 Q1800.27 1466.67 1798.39 1467.08 Q1796.54 1467.5 1794.59 1468.38 L1794.59 1451.02 Z\" fill=\"#000000\" fill-rule=\"nonzero\" fill-opacity=\"1\" /><path clip-path=\"url(#clip390)\" d=\"M2252 1481.64 L2259.64 1481.64 L2259.64 1455.28 L2251.33 1456.95 L2251.33 1452.69 L2259.59 1451.02 L2264.27 1451.02 L2264.27 1481.64 L2271.91 1481.64 L2271.91 1485.58 L2252 1485.58 L2252 1481.64 Z\" fill=\"#000000\" fill-rule=\"nonzero\" fill-opacity=\"1\" /><path clip-path=\"url(#clip390)\" d=\"M2291.35 1454.1 Q2287.74 1454.1 2285.91 1457.66 Q2284.1 1461.2 2284.1 1468.33 Q2284.1 1475.44 2285.91 1479.01 Q2287.74 1482.55 2291.35 1482.55 Q2294.98 1482.55 2296.79 1479.01 Q2298.62 1475.44 2298.62 1468.33 Q2298.62 1461.2 2296.79 1457.66 Q2294.98 1454.1 2291.35 1454.1 M2291.35 1450.39 Q2297.16 1450.39 2300.22 1455 Q2303.29 1459.58 2303.29 1468.33 Q2303.29 1477.06 2300.22 1481.67 Q2297.16 1486.25 2291.35 1486.25 Q2285.54 1486.25 2282.46 1481.67 Q2279.41 1477.06 2279.41 1468.33 Q2279.41 1459.58 2282.46 1455 Q2285.54 1450.39 2291.35 1450.39 Z\" fill=\"#000000\" fill-rule=\"nonzero\" fill-opacity=\"1\" /><path clip-path=\"url(#clip390)\" d=\"M2321.51 1454.1 Q2317.9 1454.1 2316.07 1457.66 Q2314.27 1461.2 2314.27 1468.33 Q2314.27 1475.44 2316.07 1479.01 Q2317.9 1482.55 2321.51 1482.55 Q2325.15 1482.55 2326.95 1479.01 Q2328.78 1475.44 2328.78 1468.33 Q2328.78 1461.2 2326.95 1457.66 Q2325.15 1454.1 2321.51 1454.1 M2321.51 1450.39 Q2327.32 1450.39 2330.38 1455 Q2333.46 1459.58 2333.46 1468.33 Q2333.46 1477.06 2330.38 1481.67 Q2327.32 1486.25 2321.51 1486.25 Q2315.7 1486.25 2312.62 1481.67 Q2309.57 1477.06 2309.57 1468.33 Q2309.57 1459.58 2312.62 1455 Q2315.7 1450.39 2321.51 1450.39 Z\" fill=\"#000000\" fill-rule=\"nonzero\" fill-opacity=\"1\" /><path clip-path=\"url(#clip390)\" d=\"M1127.38 1520.52 L1167.57 1520.52 L1167.57 1525.93 L1150.71 1525.93 L1150.71 1568.04 L1144.24 1568.04 L1144.24 1525.93 L1127.38 1525.93 L1127.38 1520.52 Z\" fill=\"#000000\" fill-rule=\"nonzero\" fill-opacity=\"1\" /><path clip-path=\"url(#clip390)\" d=\"M1171.52 1532.4 L1177.38 1532.4 L1177.38 1568.04 L1171.52 1568.04 L1171.52 1532.4 M1171.52 1518.52 L1177.38 1518.52 L1177.38 1525.93 L1171.52 1525.93 L1171.52 1518.52 Z\" fill=\"#000000\" fill-rule=\"nonzero\" fill-opacity=\"1\" /><path clip-path=\"url(#clip390)\" d=\"M1217.39 1539.24 Q1219.58 1535.29 1222.64 1533.41 Q1225.69 1531.54 1229.83 1531.54 Q1235.4 1531.54 1238.43 1535.45 Q1241.45 1539.33 1241.45 1546.53 L1241.45 1568.04 L1235.56 1568.04 L1235.56 1546.72 Q1235.56 1541.59 1233.75 1539.11 Q1231.93 1536.63 1228.21 1536.63 Q1223.66 1536.63 1221.01 1539.65 Q1218.37 1542.68 1218.37 1547.9 L1218.37 1568.04 L1212.48 1568.04 L1212.48 1546.72 Q1212.48 1541.56 1210.67 1539.11 Q1208.86 1536.63 1205.07 1536.63 Q1200.58 1536.63 1197.94 1539.68 Q1195.3 1542.71 1195.3 1547.9 L1195.3 1568.04 L1189.41 1568.04 L1189.41 1532.4 L1195.3 1532.4 L1195.3 1537.93 Q1197.3 1534.66 1200.1 1533.1 Q1202.9 1531.54 1206.76 1531.54 Q1210.64 1531.54 1213.34 1533.51 Q1216.08 1535.48 1217.39 1539.24 Z\" fill=\"#000000\" fill-rule=\"nonzero\" fill-opacity=\"1\" /><path clip-path=\"url(#clip390)\" d=\"M1283.62 1548.76 L1283.62 1551.62 L1256.69 1551.62 Q1257.08 1557.67 1260.32 1560.85 Q1263.6 1564 1269.43 1564 Q1272.8 1564 1275.95 1563.17 Q1279.13 1562.35 1282.25 1560.69 L1282.25 1566.23 Q1279.1 1567.57 1275.79 1568.27 Q1272.48 1568.97 1269.08 1568.97 Q1260.55 1568.97 1255.55 1564 Q1250.58 1559.04 1250.58 1550.57 Q1250.58 1541.82 1255.29 1536.69 Q1260.04 1531.54 1268.06 1531.54 Q1275.25 1531.54 1279.42 1536.18 Q1283.62 1540.8 1283.62 1548.76 M1277.77 1547.04 Q1277.7 1542.23 1275.06 1539.37 Q1272.45 1536.5 1268.12 1536.5 Q1263.22 1536.5 1260.26 1539.27 Q1257.33 1542.04 1256.89 1547.07 L1277.77 1547.04 Z\" fill=\"#000000\" fill-rule=\"nonzero\" fill-opacity=\"1\" /><path clip-path=\"url(#clip390)\" d=\"M1336.68 1533.45 L1336.68 1538.98 Q1334.2 1537.71 1331.52 1537.07 Q1328.85 1536.44 1325.99 1536.44 Q1321.62 1536.44 1319.43 1537.77 Q1317.26 1539.11 1317.26 1541.79 Q1317.26 1543.82 1318.82 1545 Q1320.38 1546.15 1325.09 1547.2 L1327.1 1547.64 Q1333.34 1548.98 1335.95 1551.43 Q1338.59 1553.85 1338.59 1558.21 Q1338.59 1563.17 1334.64 1566.07 Q1330.73 1568.97 1323.85 1568.97 Q1320.99 1568.97 1317.87 1568.39 Q1314.78 1567.85 1311.34 1566.74 L1311.34 1560.69 Q1314.59 1562.38 1317.74 1563.24 Q1320.89 1564.07 1323.98 1564.07 Q1328.12 1564.07 1330.35 1562.66 Q1332.57 1561.23 1332.57 1558.65 Q1332.57 1556.27 1330.95 1554.99 Q1329.36 1553.72 1323.92 1552.54 L1321.88 1552.07 Q1316.44 1550.92 1314.02 1548.56 Q1311.6 1546.18 1311.6 1542.04 Q1311.6 1537.01 1315.16 1534.27 Q1318.73 1531.54 1325.29 1531.54 Q1328.53 1531.54 1331.4 1532.01 Q1334.26 1532.49 1336.68 1533.45 Z\" fill=\"#000000\" fill-rule=\"nonzero\" fill-opacity=\"1\" /><path clip-path=\"url(#clip390)\" d=\"M1353.71 1522.27 L1353.71 1532.4 L1365.77 1532.4 L1365.77 1536.95 L1353.71 1536.95 L1353.71 1556.3 Q1353.71 1560.66 1354.89 1561.9 Q1356.1 1563.14 1359.76 1563.14 L1365.77 1563.14 L1365.77 1568.04 L1359.76 1568.04 Q1352.98 1568.04 1350.4 1565.53 Q1347.82 1562.98 1347.82 1556.3 L1347.82 1536.95 L1343.52 1536.95 L1343.52 1532.4 L1347.82 1532.4 L1347.82 1522.27 L1353.71 1522.27 Z\" fill=\"#000000\" fill-rule=\"nonzero\" fill-opacity=\"1\" /><path clip-path=\"url(#clip390)\" d=\"M1403.97 1548.76 L1403.97 1551.62 L1377.04 1551.62 Q1377.42 1557.67 1380.67 1560.85 Q1383.95 1564 1389.77 1564 Q1393.14 1564 1396.29 1563.17 Q1399.48 1562.35 1402.6 1560.69 L1402.6 1566.23 Q1399.45 1567.57 1396.14 1568.27 Q1392.83 1568.97 1389.42 1568.97 Q1380.89 1568.97 1375.89 1564 Q1370.93 1559.04 1370.93 1550.57 Q1370.93 1541.82 1375.64 1536.69 Q1380.38 1531.54 1388.4 1531.54 Q1395.59 1531.54 1399.76 1536.18 Q1403.97 1540.8 1403.97 1548.76 M1398.11 1547.04 Q1398.05 1542.23 1395.4 1539.37 Q1392.79 1536.5 1388.46 1536.5 Q1383.56 1536.5 1380.6 1539.27 Q1377.67 1542.04 1377.23 1547.07 L1398.11 1547.04 Z\" fill=\"#000000\" fill-rule=\"nonzero\" fill-opacity=\"1\" /><path clip-path=\"url(#clip390)\" d=\"M1419.24 1562.7 L1419.24 1581.6 L1413.35 1581.6 L1413.35 1532.4 L1419.24 1532.4 L1419.24 1537.81 Q1421.09 1534.62 1423.89 1533.1 Q1426.72 1531.54 1430.64 1531.54 Q1437.13 1531.54 1441.17 1536.69 Q1445.25 1541.85 1445.25 1550.25 Q1445.25 1558.65 1441.17 1563.81 Q1437.13 1568.97 1430.64 1568.97 Q1426.72 1568.97 1423.89 1567.44 Q1421.09 1565.88 1419.24 1562.7 M1439.17 1550.25 Q1439.17 1543.79 1436.49 1540.13 Q1433.85 1536.44 1429.21 1536.44 Q1424.56 1536.44 1421.88 1540.13 Q1419.24 1543.79 1419.24 1550.25 Q1419.24 1556.71 1421.88 1560.4 Q1424.56 1564.07 1429.21 1564.07 Q1433.85 1564.07 1436.49 1560.4 Q1439.17 1556.71 1439.17 1550.25 Z\" fill=\"#000000\" fill-rule=\"nonzero\" fill-opacity=\"1\" /><polyline clip-path=\"url(#clip392)\" style=\"stroke:#000000; stroke-linecap:round; stroke-linejoin:round; stroke-width:2; stroke-opacity:0.1; fill:none\" points=\"219.866,1196.46 2352.76,1196.46 \"/>\n",
       "<polyline clip-path=\"url(#clip392)\" style=\"stroke:#000000; stroke-linecap:round; stroke-linejoin:round; stroke-width:2; stroke-opacity:0.1; fill:none\" points=\"219.866,937.526 2352.76,937.526 \"/>\n",
       "<polyline clip-path=\"url(#clip392)\" style=\"stroke:#000000; stroke-linecap:round; stroke-linejoin:round; stroke-width:2; stroke-opacity:0.1; fill:none\" points=\"219.866,678.591 2352.76,678.591 \"/>\n",
       "<polyline clip-path=\"url(#clip392)\" style=\"stroke:#000000; stroke-linecap:round; stroke-linejoin:round; stroke-width:2; stroke-opacity:0.1; fill:none\" points=\"219.866,419.656 2352.76,419.656 \"/>\n",
       "<polyline clip-path=\"url(#clip392)\" style=\"stroke:#000000; stroke-linecap:round; stroke-linejoin:round; stroke-width:2; stroke-opacity:0.1; fill:none\" points=\"219.866,160.721 2352.76,160.721 \"/>\n",
       "<polyline clip-path=\"url(#clip390)\" style=\"stroke:#000000; stroke-linecap:round; stroke-linejoin:round; stroke-width:4; stroke-opacity:1; fill:none\" points=\"219.866,1423.18 219.866,123.472 \"/>\n",
       "<polyline clip-path=\"url(#clip390)\" style=\"stroke:#000000; stroke-linecap:round; stroke-linejoin:round; stroke-width:4; stroke-opacity:1; fill:none\" points=\"219.866,1196.46 238.764,1196.46 \"/>\n",
       "<polyline clip-path=\"url(#clip390)\" style=\"stroke:#000000; stroke-linecap:round; stroke-linejoin:round; stroke-width:4; stroke-opacity:1; fill:none\" points=\"219.866,937.526 238.764,937.526 \"/>\n",
       "<polyline clip-path=\"url(#clip390)\" style=\"stroke:#000000; stroke-linecap:round; stroke-linejoin:round; stroke-width:4; stroke-opacity:1; fill:none\" points=\"219.866,678.591 238.764,678.591 \"/>\n",
       "<polyline clip-path=\"url(#clip390)\" style=\"stroke:#000000; stroke-linecap:round; stroke-linejoin:round; stroke-width:4; stroke-opacity:1; fill:none\" points=\"219.866,419.656 238.764,419.656 \"/>\n",
       "<polyline clip-path=\"url(#clip390)\" style=\"stroke:#000000; stroke-linecap:round; stroke-linejoin:round; stroke-width:4; stroke-opacity:1; fill:none\" points=\"219.866,160.721 238.764,160.721 \"/>\n",
       "<path clip-path=\"url(#clip390)\" d=\"M127.917 1182.26 Q124.306 1182.26 122.478 1185.82 Q120.672 1189.37 120.672 1196.5 Q120.672 1203.6 122.478 1207.17 Q124.306 1210.71 127.917 1210.71 Q131.552 1210.71 133.357 1207.17 Q135.186 1203.6 135.186 1196.5 Q135.186 1189.37 133.357 1185.82 Q131.552 1182.26 127.917 1182.26 M127.917 1178.56 Q133.728 1178.56 136.783 1183.16 Q139.862 1187.75 139.862 1196.5 Q139.862 1205.22 136.783 1209.83 Q133.728 1214.41 127.917 1214.41 Q122.107 1214.41 119.029 1209.83 Q115.973 1205.22 115.973 1196.5 Q115.973 1187.75 119.029 1183.16 Q122.107 1178.56 127.917 1178.56 Z\" fill=\"#000000\" fill-rule=\"nonzero\" fill-opacity=\"1\" /><path clip-path=\"url(#clip390)\" d=\"M148.079 1207.86 L152.964 1207.86 L152.964 1213.74 L148.079 1213.74 L148.079 1207.86 Z\" fill=\"#000000\" fill-rule=\"nonzero\" fill-opacity=\"1\" /><path clip-path=\"url(#clip390)\" d=\"M163.959 1209.81 L171.598 1209.81 L171.598 1183.44 L163.288 1185.11 L163.288 1180.85 L171.552 1179.18 L176.227 1179.18 L176.227 1209.81 L183.866 1209.81 L183.866 1213.74 L163.959 1213.74 L163.959 1209.81 Z\" fill=\"#000000\" fill-rule=\"nonzero\" fill-opacity=\"1\" /><path clip-path=\"url(#clip390)\" d=\"M128.288 923.324 Q124.677 923.324 122.848 926.889 Q121.043 930.431 121.043 937.561 Q121.043 944.667 122.848 948.232 Q124.677 951.773 128.288 951.773 Q131.922 951.773 133.728 948.232 Q135.556 944.667 135.556 937.561 Q135.556 930.431 133.728 926.889 Q131.922 923.324 128.288 923.324 M128.288 919.621 Q134.098 919.621 137.154 924.227 Q140.232 928.811 140.232 937.561 Q140.232 946.287 137.154 950.894 Q134.098 955.477 128.288 955.477 Q122.478 955.477 119.399 950.894 Q116.343 946.287 116.343 937.561 Q116.343 928.811 119.399 924.227 Q122.478 919.621 128.288 919.621 Z\" fill=\"#000000\" fill-rule=\"nonzero\" fill-opacity=\"1\" /><path clip-path=\"url(#clip390)\" d=\"M148.45 948.926 L153.334 948.926 L153.334 954.806 L148.45 954.806 L148.45 948.926 Z\" fill=\"#000000\" fill-rule=\"nonzero\" fill-opacity=\"1\" /><path clip-path=\"url(#clip390)\" d=\"M167.547 950.871 L183.866 950.871 L183.866 954.806 L161.922 954.806 L161.922 950.871 Q164.584 948.116 169.167 943.486 Q173.774 938.834 174.954 937.491 Q177.2 934.968 178.079 933.232 Q178.982 931.473 178.982 929.783 Q178.982 927.028 177.038 925.292 Q175.116 923.556 172.014 923.556 Q169.815 923.556 167.362 924.32 Q164.931 925.084 162.153 926.635 L162.153 921.912 Q164.977 920.778 167.431 920.199 Q169.885 919.621 171.922 919.621 Q177.292 919.621 180.487 922.306 Q183.681 924.991 183.681 929.482 Q183.681 931.611 182.871 933.533 Q182.084 935.431 179.977 938.023 Q179.399 938.695 176.297 941.912 Q173.195 945.107 167.547 950.871 Z\" fill=\"#000000\" fill-rule=\"nonzero\" fill-opacity=\"1\" /><path clip-path=\"url(#clip390)\" d=\"M127.339 664.389 Q123.728 664.389 121.899 667.954 Q120.093 671.496 120.093 678.625 Q120.093 685.732 121.899 689.297 Q123.728 692.838 127.339 692.838 Q130.973 692.838 132.779 689.297 Q134.607 685.732 134.607 678.625 Q134.607 671.496 132.779 667.954 Q130.973 664.389 127.339 664.389 M127.339 660.686 Q133.149 660.686 136.204 665.292 Q139.283 669.875 139.283 678.625 Q139.283 687.352 136.204 691.959 Q133.149 696.542 127.339 696.542 Q121.529 696.542 118.45 691.959 Q115.394 687.352 115.394 678.625 Q115.394 669.875 118.45 665.292 Q121.529 660.686 127.339 660.686 Z\" fill=\"#000000\" fill-rule=\"nonzero\" fill-opacity=\"1\" /><path clip-path=\"url(#clip390)\" d=\"M147.501 689.991 L152.385 689.991 L152.385 695.871 L147.501 695.871 L147.501 689.991 Z\" fill=\"#000000\" fill-rule=\"nonzero\" fill-opacity=\"1\" /><path clip-path=\"url(#clip390)\" d=\"M176.737 677.237 Q180.093 677.954 181.968 680.223 Q183.866 682.491 183.866 685.824 Q183.866 690.94 180.348 693.741 Q176.829 696.542 170.348 696.542 Q168.172 696.542 165.857 696.102 Q163.565 695.686 161.112 694.829 L161.112 690.315 Q163.056 691.449 165.371 692.028 Q167.686 692.607 170.209 692.607 Q174.607 692.607 176.899 690.871 Q179.214 689.135 179.214 685.824 Q179.214 682.769 177.061 681.056 Q174.931 679.32 171.112 679.32 L167.084 679.32 L167.084 675.477 L171.297 675.477 Q174.746 675.477 176.575 674.112 Q178.403 672.723 178.403 670.13 Q178.403 667.468 176.505 666.056 Q174.63 664.621 171.112 664.621 Q169.19 664.621 166.991 665.038 Q164.792 665.454 162.153 666.334 L162.153 662.167 Q164.815 661.426 167.13 661.056 Q169.468 660.686 171.528 660.686 Q176.852 660.686 179.954 663.116 Q183.056 665.524 183.056 669.644 Q183.056 672.514 181.413 674.505 Q179.769 676.473 176.737 677.237 Z\" fill=\"#000000\" fill-rule=\"nonzero\" fill-opacity=\"1\" /><path clip-path=\"url(#clip390)\" d=\"M126.205 405.454 Q122.593 405.454 120.765 409.019 Q118.959 412.561 118.959 419.69 Q118.959 426.797 120.765 430.362 Q122.593 433.903 126.205 433.903 Q129.839 433.903 131.644 430.362 Q133.473 426.797 133.473 419.69 Q133.473 412.561 131.644 409.019 Q129.839 405.454 126.205 405.454 M126.205 401.751 Q132.015 401.751 135.07 406.357 Q138.149 410.94 138.149 419.69 Q138.149 428.417 135.07 433.024 Q132.015 437.607 126.205 437.607 Q120.394 437.607 117.316 433.024 Q114.26 428.417 114.26 419.69 Q114.26 410.94 117.316 406.357 Q120.394 401.751 126.205 401.751 Z\" fill=\"#000000\" fill-rule=\"nonzero\" fill-opacity=\"1\" /><path clip-path=\"url(#clip390)\" d=\"M146.366 431.056 L151.251 431.056 L151.251 436.936 L146.366 436.936 L146.366 431.056 Z\" fill=\"#000000\" fill-rule=\"nonzero\" fill-opacity=\"1\" /><path clip-path=\"url(#clip390)\" d=\"M174.283 406.45 L162.477 424.899 L174.283 424.899 L174.283 406.45 M173.056 402.376 L178.936 402.376 L178.936 424.899 L183.866 424.899 L183.866 428.788 L178.936 428.788 L178.936 436.936 L174.283 436.936 L174.283 428.788 L158.681 428.788 L158.681 424.274 L173.056 402.376 Z\" fill=\"#000000\" fill-rule=\"nonzero\" fill-opacity=\"1\" /><path clip-path=\"url(#clip390)\" d=\"M127.686 146.519 Q124.075 146.519 122.246 150.084 Q120.441 153.626 120.441 160.755 Q120.441 167.862 122.246 171.426 Q124.075 174.968 127.686 174.968 Q131.32 174.968 133.126 171.426 Q134.954 167.862 134.954 160.755 Q134.954 153.626 133.126 150.084 Q131.32 146.519 127.686 146.519 M127.686 142.816 Q133.496 142.816 136.552 147.422 Q139.63 152.005 139.63 160.755 Q139.63 169.482 136.552 174.089 Q133.496 178.672 127.686 178.672 Q121.876 178.672 118.797 174.089 Q115.742 169.482 115.742 160.755 Q115.742 152.005 118.797 147.422 Q121.876 142.816 127.686 142.816 Z\" fill=\"#000000\" fill-rule=\"nonzero\" fill-opacity=\"1\" /><path clip-path=\"url(#clip390)\" d=\"M147.848 172.121 L152.732 172.121 L152.732 178.001 L147.848 178.001 L147.848 172.121 Z\" fill=\"#000000\" fill-rule=\"nonzero\" fill-opacity=\"1\" /><path clip-path=\"url(#clip390)\" d=\"M162.964 143.441 L181.32 143.441 L181.32 147.376 L167.246 147.376 L167.246 155.848 Q168.264 155.501 169.283 155.339 Q170.302 155.153 171.32 155.153 Q177.107 155.153 180.487 158.325 Q183.866 161.496 183.866 166.913 Q183.866 172.491 180.394 175.593 Q176.922 178.672 170.602 178.672 Q168.427 178.672 166.158 178.301 Q163.913 177.931 161.505 177.19 L161.505 172.491 Q163.589 173.626 165.811 174.181 Q168.033 174.737 170.51 174.737 Q174.514 174.737 176.852 172.63 Q179.19 170.524 179.19 166.913 Q179.19 163.302 176.852 161.195 Q174.514 159.089 170.51 159.089 Q168.635 159.089 166.76 159.505 Q164.908 159.922 162.964 160.802 L162.964 143.441 Z\" fill=\"#000000\" fill-rule=\"nonzero\" fill-opacity=\"1\" /><path clip-path=\"url(#clip390)\" d=\"M16.4842 1019.98 L16.4842 1010.4 L48.8219 998.274 L16.4842 986.084 L16.4842 976.503 L64.0042 976.503 L64.0042 982.774 L22.277 982.774 L54.8694 995.028 L54.8694 1001.49 L22.277 1013.74 L64.0042 1013.74 L64.0042 1019.98 L16.4842 1019.98 Z\" fill=\"#000000\" fill-rule=\"nonzero\" fill-opacity=\"1\" /><path clip-path=\"url(#clip390)\" d=\"M46.0847 947.794 Q46.0847 954.892 47.7079 957.629 Q49.3312 960.366 53.2461 960.366 Q56.3653 960.366 58.2114 958.329 Q60.0256 956.26 60.0256 952.728 Q60.0256 947.858 56.5881 944.93 Q53.1188 941.969 47.3897 941.969 L46.0847 941.969 L46.0847 947.794 M43.6657 936.113 L64.0042 936.113 L64.0042 941.969 L58.5933 941.969 Q61.8398 943.975 63.3994 946.967 Q64.9272 949.958 64.9272 954.287 Q64.9272 959.762 61.8716 963.008 Q58.7843 966.223 53.6281 966.223 Q47.6125 966.223 44.5569 962.212 Q41.5014 958.17 41.5014 950.181 L41.5014 941.969 L40.9285 941.969 Q36.8862 941.969 34.6901 944.643 Q32.4621 947.285 32.4621 952.091 Q32.4621 955.146 33.1941 958.043 Q33.9262 960.939 35.3903 963.613 L29.9795 963.613 Q28.7381 960.398 28.1334 957.374 Q27.4968 954.351 27.4968 951.486 Q27.4968 943.752 31.5072 939.932 Q35.5176 936.113 43.6657 936.113 Z\" fill=\"#000000\" fill-rule=\"nonzero\" fill-opacity=\"1\" /><path clip-path=\"url(#clip390)\" d=\"M28.3562 894.418 L45.7028 907.308 L64.0042 893.749 L64.0042 900.656 L49.9996 911.032 L64.0042 921.408 L64.0042 928.315 L45.3526 914.47 L28.3562 927.137 L28.3562 920.231 L41.0558 910.778 L28.3562 901.324 L28.3562 894.418 Z\" fill=\"#000000\" fill-rule=\"nonzero\" fill-opacity=\"1\" /><path clip-path=\"url(#clip390)\" d=\"M28.3562 885.474 L28.3562 879.617 L64.0042 879.617 L64.0042 885.474 L28.3562 885.474 M14.479 885.474 L14.479 879.617 L21.895 879.617 L21.895 885.474 L14.479 885.474 Z\" fill=\"#000000\" fill-rule=\"nonzero\" fill-opacity=\"1\" /><path clip-path=\"url(#clip390)\" d=\"M35.1993 839.609 Q31.2526 837.413 29.3747 834.357 Q27.4968 831.302 27.4968 827.164 Q27.4968 821.594 31.4117 818.57 Q35.2948 815.547 42.4881 815.547 L64.0042 815.547 L64.0042 821.435 L42.679 821.435 Q37.5546 821.435 35.072 823.249 Q32.5894 825.063 32.5894 828.787 Q32.5894 833.339 35.6131 835.98 Q38.6368 838.622 43.8567 838.622 L64.0042 838.622 L64.0042 844.51 L42.679 844.51 Q37.5228 844.51 35.072 846.325 Q32.5894 848.139 32.5894 851.927 Q32.5894 856.414 35.6449 859.056 Q38.6686 861.698 43.8567 861.698 L64.0042 861.698 L64.0042 867.586 L28.3562 867.586 L28.3562 861.698 L33.8944 861.698 Q30.616 859.693 29.0564 856.892 Q27.4968 854.091 27.4968 850.24 Q27.4968 846.357 29.4702 843.651 Q31.4436 840.914 35.1993 839.609 Z\" fill=\"#000000\" fill-rule=\"nonzero\" fill-opacity=\"1\" /><path clip-path=\"url(#clip390)\" d=\"M49.9359 804.47 L28.3562 804.47 L28.3562 798.614 L49.7131 798.614 Q54.7739 798.614 57.3202 796.64 Q59.8346 794.667 59.8346 790.72 Q59.8346 785.978 56.8109 783.241 Q53.7872 780.471 48.5673 780.471 L28.3562 780.471 L28.3562 774.615 L64.0042 774.615 L64.0042 780.471 L58.5296 780.471 Q61.7762 782.604 63.3676 785.437 Q64.9272 788.238 64.9272 791.962 Q64.9272 798.104 61.1078 801.287 Q57.2883 804.47 49.9359 804.47 M27.4968 789.734 L27.4968 789.734 Z\" fill=\"#000000\" fill-rule=\"nonzero\" fill-opacity=\"1\" /><path clip-path=\"url(#clip390)\" d=\"M35.1993 734.798 Q31.2526 732.601 29.3747 729.546 Q27.4968 726.49 27.4968 722.353 Q27.4968 716.783 31.4117 713.759 Q35.2948 710.735 42.4881 710.735 L64.0042 710.735 L64.0042 716.623 L42.679 716.623 Q37.5546 716.623 35.072 718.438 Q32.5894 720.252 32.5894 723.976 Q32.5894 728.527 35.6131 731.169 Q38.6368 733.811 43.8567 733.811 L64.0042 733.811 L64.0042 739.699 L42.679 739.699 Q37.5228 739.699 35.072 741.513 Q32.5894 743.328 32.5894 747.115 Q32.5894 751.603 35.6449 754.245 Q38.6686 756.887 43.8567 756.887 L64.0042 756.887 L64.0042 762.775 L28.3562 762.775 L28.3562 756.887 L33.8944 756.887 Q30.616 754.881 29.0564 752.08 Q27.4968 749.28 27.4968 745.428 Q27.4968 741.545 29.4702 738.84 Q31.4436 736.103 35.1993 734.798 Z\" fill=\"#000000\" fill-rule=\"nonzero\" fill-opacity=\"1\" /><path clip-path=\"url(#clip390)\" d=\"M44.7161 647.842 L47.5806 647.842 L47.5806 674.769 Q53.6281 674.387 56.8109 671.14 Q59.9619 667.862 59.9619 662.038 Q59.9619 658.664 59.1344 655.513 Q58.3069 652.33 56.6518 649.211 L62.1899 649.211 Q63.5267 652.362 64.227 655.672 Q64.9272 658.982 64.9272 662.388 Q64.9272 670.918 59.9619 675.915 Q54.9967 680.88 46.5303 680.88 Q37.7774 680.88 32.6531 676.169 Q27.4968 671.427 27.4968 663.406 Q27.4968 656.213 32.1438 652.043 Q36.7589 647.842 44.7161 647.842 M42.9973 653.698 Q38.1912 653.762 35.3266 656.404 Q32.4621 659.014 32.4621 663.342 Q32.4621 668.244 35.2312 671.204 Q38.0002 674.132 43.0292 674.578 L42.9973 653.698 Z\" fill=\"#000000\" fill-rule=\"nonzero\" fill-opacity=\"1\" /><path clip-path=\"url(#clip390)\" d=\"M33.8307 617.573 Q33.2578 618.56 33.0032 619.737 Q32.7167 620.883 32.7167 622.284 Q32.7167 627.249 35.9632 629.923 Q39.1779 632.564 45.2253 632.564 L64.0042 632.564 L64.0042 638.453 L28.3562 638.453 L28.3562 632.564 L33.8944 632.564 Q30.6479 630.718 29.0883 627.758 Q27.4968 624.798 27.4968 620.565 Q27.4968 619.96 27.5923 619.228 Q27.656 618.496 27.8151 617.605 L33.8307 617.573 Z\" fill=\"#000000\" fill-rule=\"nonzero\" fill-opacity=\"1\" /><path clip-path=\"url(#clip390)\" d=\"M33.8307 591.919 Q33.2578 592.906 33.0032 594.084 Q32.7167 595.229 32.7167 596.63 Q32.7167 601.595 35.9632 604.269 Q39.1779 606.91 45.2253 606.91 L64.0042 606.91 L64.0042 612.799 L28.3562 612.799 L28.3562 606.91 L33.8944 606.91 Q30.6479 605.064 29.0883 602.104 Q27.4968 599.144 27.4968 594.911 Q27.4968 594.306 27.5923 593.574 Q27.656 592.842 27.8151 591.951 L33.8307 591.919 Z\" fill=\"#000000\" fill-rule=\"nonzero\" fill-opacity=\"1\" /><path clip-path=\"url(#clip390)\" d=\"M32.4621 573.395 Q32.4621 578.106 36.1542 580.843 Q39.8145 583.58 46.212 583.58 Q52.6095 583.58 56.3017 580.875 Q59.9619 578.138 59.9619 573.395 Q59.9619 568.716 56.2698 565.979 Q52.5777 563.242 46.212 563.242 Q39.8781 563.242 36.186 565.979 Q32.4621 568.716 32.4621 573.395 M27.4968 573.395 Q27.4968 565.756 32.4621 561.396 Q37.4273 557.035 46.212 557.035 Q54.9649 557.035 59.9619 561.396 Q64.9272 565.756 64.9272 573.395 Q64.9272 581.066 59.9619 585.426 Q54.9649 589.755 46.212 589.755 Q37.4273 589.755 32.4621 585.426 Q27.4968 581.066 27.4968 573.395 Z\" fill=\"#000000\" fill-rule=\"nonzero\" fill-opacity=\"1\" /><path clip-path=\"url(#clip390)\" d=\"M33.8307 526.671 Q33.2578 527.657 33.0032 528.835 Q32.7167 529.981 32.7167 531.381 Q32.7167 536.347 35.9632 539.02 Q39.1779 541.662 45.2253 541.662 L64.0042 541.662 L64.0042 547.55 L28.3562 547.55 L28.3562 541.662 L33.8944 541.662 Q30.6479 539.816 29.0883 536.856 Q27.4968 533.896 27.4968 529.663 Q27.4968 529.058 27.5923 528.326 Q27.656 527.594 27.8151 526.703 L33.8307 526.671 Z\" fill=\"#000000\" fill-rule=\"nonzero\" fill-opacity=\"1\" /><path clip-path=\"url(#clip390)\" d=\"M772.981 12.096 L811.221 12.096 L811.221 18.9825 L781.163 18.9825 L781.163 36.8875 L809.965 36.8875 L809.965 43.7741 L781.163 43.7741 L781.163 65.6895 L811.95 65.6895 L811.95 72.576 L772.981 72.576 L772.981 12.096 Z\" fill=\"#000000\" fill-rule=\"nonzero\" fill-opacity=\"1\" /><path clip-path=\"url(#clip390)\" d=\"M851.365 34.1734 Q850.11 33.4443 848.611 33.1202 Q847.153 32.7556 845.37 32.7556 Q839.051 32.7556 835.648 36.8875 Q832.286 40.9789 832.286 48.6757 L832.286 72.576 L824.792 72.576 L824.792 27.2059 L832.286 27.2059 L832.286 34.2544 Q834.635 30.1225 838.403 28.1376 Q842.17 26.1121 847.558 26.1121 Q848.327 26.1121 849.259 26.2337 Q850.191 26.3147 851.325 26.5172 L851.365 34.1734 Z\" fill=\"#000000\" fill-rule=\"nonzero\" fill-opacity=\"1\" /><path clip-path=\"url(#clip390)\" d=\"M884.016 34.1734 Q882.76 33.4443 881.261 33.1202 Q879.803 32.7556 878.02 32.7556 Q871.701 32.7556 868.298 36.8875 Q864.936 40.9789 864.936 48.6757 L864.936 72.576 L857.442 72.576 L857.442 27.2059 L864.936 27.2059 L864.936 34.2544 Q867.286 30.1225 871.053 28.1376 Q874.82 26.1121 880.208 26.1121 Q880.978 26.1121 881.909 26.2337 Q882.841 26.3147 883.975 26.5172 L884.016 34.1734 Z\" fill=\"#000000\" fill-rule=\"nonzero\" fill-opacity=\"1\" /><path clip-path=\"url(#clip390)\" d=\"M907.592 32.4315 Q901.597 32.4315 898.113 37.1306 Q894.629 41.7891 894.629 49.9314 Q894.629 58.0738 898.072 62.7728 Q901.556 67.4314 907.592 67.4314 Q913.547 67.4314 917.031 62.7323 Q920.514 58.0333 920.514 49.9314 Q920.514 41.8701 917.031 37.1711 Q913.547 32.4315 907.592 32.4315 M907.592 26.1121 Q917.314 26.1121 922.864 32.4315 Q928.414 38.7509 928.414 49.9314 Q928.414 61.0714 922.864 67.4314 Q917.314 73.7508 907.592 73.7508 Q897.829 73.7508 892.28 67.4314 Q886.77 61.0714 886.77 49.9314 Q886.77 38.7509 892.28 32.4315 Q897.829 26.1121 907.592 26.1121 Z\" fill=\"#000000\" fill-rule=\"nonzero\" fill-opacity=\"1\" /><path clip-path=\"url(#clip390)\" d=\"M967.059 34.1734 Q965.804 33.4443 964.305 33.1202 Q962.846 32.7556 961.064 32.7556 Q954.745 32.7556 951.342 36.8875 Q947.98 40.9789 947.98 48.6757 L947.98 72.576 L940.485 72.576 L940.485 27.2059 L947.98 27.2059 L947.98 34.2544 Q950.329 30.1225 954.096 28.1376 Q957.864 26.1121 963.251 26.1121 Q964.021 26.1121 964.953 26.2337 Q965.885 26.3147 967.019 26.5172 L967.059 34.1734 Z\" fill=\"#000000\" fill-rule=\"nonzero\" fill-opacity=\"1\" /><path clip-path=\"url(#clip390)\" d=\"M1040.06 48.0275 L1040.06 51.6733 L1005.79 51.6733 Q1006.27 59.3701 1010.4 63.421 Q1014.58 67.4314 1021.99 67.4314 Q1026.28 67.4314 1030.29 66.3781 Q1034.34 65.3249 1038.31 63.2184 L1038.31 70.267 Q1034.3 71.9684 1030.09 72.8596 Q1025.88 73.7508 1021.54 73.7508 Q1010.69 73.7508 1004.33 67.4314 Q998.008 61.1119 998.008 50.3365 Q998.008 39.1965 1004 32.6746 Q1010.04 26.1121 1020.25 26.1121 Q1029.4 26.1121 1034.71 32.0264 Q1040.06 37.9003 1040.06 48.0275 M1032.6 45.84 Q1032.52 39.7232 1029.16 36.0774 Q1025.84 32.4315 1020.33 32.4315 Q1014.09 32.4315 1010.32 35.9558 Q1006.6 39.4801 1006.03 45.8805 L1032.6 45.84 Z\" fill=\"#000000\" fill-rule=\"nonzero\" fill-opacity=\"1\" /><path clip-path=\"url(#clip390)\" d=\"M1046.94 27.2059 L1054.84 27.2059 L1069.02 65.2844 L1083.2 27.2059 L1091.1 27.2059 L1074.08 72.576 L1063.96 72.576 L1046.94 27.2059 Z\" fill=\"#000000\" fill-rule=\"nonzero\" fill-opacity=\"1\" /><path clip-path=\"url(#clip390)\" d=\"M1118.97 32.4315 Q1112.97 32.4315 1109.49 37.1306 Q1106.01 41.7891 1106.01 49.9314 Q1106.01 58.0738 1109.45 62.7728 Q1112.93 67.4314 1118.97 67.4314 Q1124.92 67.4314 1128.41 62.7323 Q1131.89 58.0333 1131.89 49.9314 Q1131.89 41.8701 1128.41 37.1711 Q1124.92 32.4315 1118.97 32.4315 M1118.97 26.1121 Q1128.69 26.1121 1134.24 32.4315 Q1139.79 38.7509 1139.79 49.9314 Q1139.79 61.0714 1134.24 67.4314 Q1128.69 73.7508 1118.97 73.7508 Q1109.21 73.7508 1103.66 67.4314 Q1098.15 61.0714 1098.15 49.9314 Q1098.15 38.7509 1103.66 32.4315 Q1109.21 26.1121 1118.97 26.1121 Z\" fill=\"#000000\" fill-rule=\"nonzero\" fill-opacity=\"1\" /><path clip-path=\"url(#clip390)\" d=\"M1152.15 9.54393 L1159.6 9.54393 L1159.6 72.576 L1152.15 72.576 L1152.15 9.54393 Z\" fill=\"#000000\" fill-rule=\"nonzero\" fill-opacity=\"1\" /><path clip-path=\"url(#clip390)\" d=\"M1174.43 54.671 L1174.43 27.2059 L1181.88 27.2059 L1181.88 54.3874 Q1181.88 60.8284 1184.39 64.0691 Q1186.9 67.2693 1191.93 67.2693 Q1197.96 67.2693 1201.44 63.421 Q1204.97 59.5726 1204.97 52.9291 L1204.97 27.2059 L1212.42 27.2059 L1212.42 72.576 L1204.97 72.576 L1204.97 65.6084 Q1202.25 69.7404 1198.65 71.7658 Q1195.08 73.7508 1190.35 73.7508 Q1182.53 73.7508 1178.48 68.8897 Q1174.43 64.0286 1174.43 54.671 M1193.18 26.1121 L1193.18 26.1121 Z\" fill=\"#000000\" fill-rule=\"nonzero\" fill-opacity=\"1\" /><path clip-path=\"url(#clip390)\" d=\"M1235.15 14.324 L1235.15 27.2059 L1250.5 27.2059 L1250.5 32.9987 L1235.15 32.9987 L1235.15 57.6282 Q1235.15 63.1779 1236.65 64.7578 Q1238.19 66.3376 1242.84 66.3376 L1250.5 66.3376 L1250.5 72.576 L1242.84 72.576 Q1234.22 72.576 1230.94 69.3758 Q1227.65 66.1351 1227.65 57.6282 L1227.65 32.9987 L1222.19 32.9987 L1222.19 27.2059 L1227.65 27.2059 L1227.65 14.324 L1235.15 14.324 Z\" fill=\"#000000\" fill-rule=\"nonzero\" fill-opacity=\"1\" /><path clip-path=\"url(#clip390)\" d=\"M1260.3 27.2059 L1267.76 27.2059 L1267.76 72.576 L1260.3 72.576 L1260.3 27.2059 M1260.3 9.54393 L1267.76 9.54393 L1267.76 18.9825 L1260.3 18.9825 L1260.3 9.54393 Z\" fill=\"#000000\" fill-rule=\"nonzero\" fill-opacity=\"1\" /><path clip-path=\"url(#clip390)\" d=\"M1300.93 32.4315 Q1294.94 32.4315 1291.46 37.1306 Q1287.97 41.7891 1287.97 49.9314 Q1287.97 58.0738 1291.42 62.7728 Q1294.9 67.4314 1300.93 67.4314 Q1306.89 67.4314 1310.37 62.7323 Q1313.86 58.0333 1313.86 49.9314 Q1313.86 41.8701 1310.37 37.1711 Q1306.89 32.4315 1300.93 32.4315 M1300.93 26.1121 Q1310.66 26.1121 1316.21 32.4315 Q1321.76 38.7509 1321.76 49.9314 Q1321.76 61.0714 1316.21 67.4314 Q1310.66 73.7508 1300.93 73.7508 Q1291.17 73.7508 1285.62 67.4314 Q1280.11 61.0714 1280.11 49.9314 Q1280.11 38.7509 1285.62 32.4315 Q1291.17 26.1121 1300.93 26.1121 Z\" fill=\"#000000\" fill-rule=\"nonzero\" fill-opacity=\"1\" /><path clip-path=\"url(#clip390)\" d=\"M1371.83 45.1919 L1371.83 72.576 L1364.37 72.576 L1364.37 45.4349 Q1364.37 38.994 1361.86 35.7938 Q1359.35 32.5936 1354.33 32.5936 Q1348.29 32.5936 1344.81 36.4419 Q1341.32 40.2903 1341.32 46.9338 L1341.32 72.576 L1333.83 72.576 L1333.83 27.2059 L1341.32 27.2059 L1341.32 34.2544 Q1344 30.163 1347.6 28.1376 Q1351.25 26.1121 1355.99 26.1121 Q1363.8 26.1121 1367.82 30.9732 Q1371.83 35.7938 1371.83 45.1919 Z\" fill=\"#000000\" fill-rule=\"nonzero\" fill-opacity=\"1\" /><path clip-path=\"url(#clip390)\" d=\"M1430.64 32.4315 Q1424.65 32.4315 1421.17 37.1306 Q1417.68 41.7891 1417.68 49.9314 Q1417.68 58.0738 1421.13 62.7728 Q1424.61 67.4314 1430.64 67.4314 Q1436.6 67.4314 1440.08 62.7323 Q1443.57 58.0333 1443.57 49.9314 Q1443.57 41.8701 1440.08 37.1711 Q1436.6 32.4315 1430.64 32.4315 M1430.64 26.1121 Q1440.37 26.1121 1445.92 32.4315 Q1451.47 38.7509 1451.47 49.9314 Q1451.47 61.0714 1445.92 67.4314 Q1440.37 73.7508 1430.64 73.7508 Q1420.88 73.7508 1415.33 67.4314 Q1409.82 61.0714 1409.82 49.9314 Q1409.82 38.7509 1415.33 32.4315 Q1420.88 26.1121 1430.64 26.1121 Z\" fill=\"#000000\" fill-rule=\"nonzero\" fill-opacity=\"1\" /><path clip-path=\"url(#clip390)\" d=\"M1458.47 27.2059 L1466.37 27.2059 L1480.55 65.2844 L1494.73 27.2059 L1502.63 27.2059 L1485.62 72.576 L1475.49 72.576 L1458.47 27.2059 Z\" fill=\"#000000\" fill-rule=\"nonzero\" fill-opacity=\"1\" /><path clip-path=\"url(#clip390)\" d=\"M1551.73 48.0275 L1551.73 51.6733 L1517.46 51.6733 Q1517.94 59.3701 1522.07 63.421 Q1526.25 67.4314 1533.66 67.4314 Q1537.95 67.4314 1541.96 66.3781 Q1546.01 65.3249 1549.98 63.2184 L1549.98 70.267 Q1545.97 71.9684 1541.76 72.8596 Q1537.55 73.7508 1533.21 73.7508 Q1522.36 73.7508 1516 67.4314 Q1509.68 61.1119 1509.68 50.3365 Q1509.68 39.1965 1515.67 32.6746 Q1521.71 26.1121 1531.92 26.1121 Q1541.07 26.1121 1546.38 32.0264 Q1551.73 37.9003 1551.73 48.0275 M1544.27 45.84 Q1544.19 39.7232 1540.83 36.0774 Q1537.51 32.4315 1532 32.4315 Q1525.76 32.4315 1521.99 35.9558 Q1518.27 39.4801 1517.7 45.8805 L1544.27 45.84 Z\" fill=\"#000000\" fill-rule=\"nonzero\" fill-opacity=\"1\" /><path clip-path=\"url(#clip390)\" d=\"M1590.25 34.1734 Q1588.99 33.4443 1587.5 33.1202 Q1586.04 32.7556 1584.26 32.7556 Q1577.94 32.7556 1574.53 36.8875 Q1571.17 40.9789 1571.17 48.6757 L1571.17 72.576 L1563.68 72.576 L1563.68 27.2059 L1571.17 27.2059 L1571.17 34.2544 Q1573.52 30.1225 1577.29 28.1376 Q1581.05 26.1121 1586.44 26.1121 Q1587.21 26.1121 1588.14 26.2337 Q1589.08 26.3147 1590.21 26.5172 L1590.25 34.1734 Z\" fill=\"#000000\" fill-rule=\"nonzero\" fill-opacity=\"1\" /><path clip-path=\"url(#clip390)\" d=\"M1631.81 14.324 L1631.81 27.2059 L1647.17 27.2059 L1647.17 32.9987 L1631.81 32.9987 L1631.81 57.6282 Q1631.81 63.1779 1633.31 64.7578 Q1634.85 66.3376 1639.51 66.3376 L1647.17 66.3376 L1647.17 72.576 L1639.51 72.576 Q1630.88 72.576 1627.6 69.3758 Q1624.32 66.1351 1624.32 57.6282 L1624.32 32.9987 L1618.85 32.9987 L1618.85 27.2059 L1624.32 27.2059 L1624.32 14.324 L1631.81 14.324 Z\" fill=\"#000000\" fill-rule=\"nonzero\" fill-opacity=\"1\" /><path clip-path=\"url(#clip390)\" d=\"M1656.97 27.2059 L1664.42 27.2059 L1664.42 72.576 L1656.97 72.576 L1656.97 27.2059 M1656.97 9.54393 L1664.42 9.54393 L1664.42 18.9825 L1656.97 18.9825 L1656.97 9.54393 Z\" fill=\"#000000\" fill-rule=\"nonzero\" fill-opacity=\"1\" /><path clip-path=\"url(#clip390)\" d=\"M1715.34 35.9153 Q1718.14 30.8922 1722.03 28.5022 Q1725.92 26.1121 1731.18 26.1121 Q1738.27 26.1121 1742.12 31.0947 Q1745.97 36.0368 1745.97 45.1919 L1745.97 72.576 L1738.47 72.576 L1738.47 45.4349 Q1738.47 38.913 1736.16 35.7533 Q1733.85 32.5936 1729.12 32.5936 Q1723.32 32.5936 1719.96 36.4419 Q1716.6 40.2903 1716.6 46.9338 L1716.6 72.576 L1709.1 72.576 L1709.1 45.4349 Q1709.1 38.8725 1706.79 35.7533 Q1704.49 32.5936 1699.67 32.5936 Q1693.95 32.5936 1690.59 36.4824 Q1687.23 40.3308 1687.23 46.9338 L1687.23 72.576 L1679.73 72.576 L1679.73 27.2059 L1687.23 27.2059 L1687.23 34.2544 Q1689.78 30.082 1693.35 28.0971 Q1696.91 26.1121 1701.81 26.1121 Q1706.75 26.1121 1710.2 28.6237 Q1713.68 31.1352 1715.34 35.9153 Z\" fill=\"#000000\" fill-rule=\"nonzero\" fill-opacity=\"1\" /><path clip-path=\"url(#clip390)\" d=\"M1799.64 48.0275 L1799.64 51.6733 L1765.37 51.6733 Q1765.86 59.3701 1769.99 63.421 Q1774.16 67.4314 1781.57 67.4314 Q1785.87 67.4314 1789.88 66.3781 Q1793.93 65.3249 1797.9 63.2184 L1797.9 70.267 Q1793.89 71.9684 1789.68 72.8596 Q1785.46 73.7508 1781.13 73.7508 Q1770.27 73.7508 1763.91 67.4314 Q1757.59 61.1119 1757.59 50.3365 Q1757.59 39.1965 1763.59 32.6746 Q1769.62 26.1121 1779.83 26.1121 Q1788.99 26.1121 1794.29 32.0264 Q1799.64 37.9003 1799.64 48.0275 M1792.19 45.84 Q1792.11 39.7232 1788.74 36.0774 Q1785.42 32.4315 1779.91 32.4315 Q1773.68 32.4315 1769.91 35.9558 Q1766.18 39.4801 1765.61 45.8805 L1792.19 45.84 Z\" fill=\"#000000\" fill-rule=\"nonzero\" fill-opacity=\"1\" /><polyline clip-path=\"url(#clip392)\" style=\"stroke:#009af9; stroke-linecap:round; stroke-linejoin:round; stroke-width:4; stroke-opacity:1; fill:none\" points=\"280.231,160.256 300.353,937.043 320.474,1014.95 340.596,1092.78 360.717,1135.57 380.839,1167.13 400.961,1190.71 421.082,1209.36 441.204,1224.55 461.325,1237.24 481.447,1248.05 501.569,1257.39 521.69,1265.58 541.812,1272.83 561.933,1279.31 582.055,1285.14 602.177,1290.43 622.298,1295.26 642.42,1299.68 662.541,1303.76 682.663,1307.54 702.785,1311.04 722.906,1314.31 743.028,1317.37 763.149,1320.23 783.271,1322.92 803.393,1325.46 823.514,1327.86 843.636,1330.13 863.757,1332.28 883.879,1334.33 904.001,1336.28 924.122,1338.13 944.244,1339.9 964.365,1341.59 984.487,1343.21 1004.61,1344.76 1024.73,1346.25 1044.85,1347.68 1064.97,1349.05 1085.1,1350.37 1105.22,1351.64 1125.34,1352.87 1145.46,1354.05 1165.58,1355.19 1185.7,1356.29 1205.82,1357.35 1225.95,1358.38 1246.07,1359.37 1266.19,1360.33 1286.31,1361.26 1306.43,1362.16 1326.55,1363.04 1346.68,1363.89 1366.8,1364.71 1386.92,1365.51 1407.04,1366.28 1427.16,1367.03 1447.28,1367.77 1467.41,1368.48 1487.53,1369.17 1507.65,1369.84 1527.77,1370.49 1547.89,1371.13 1568.01,1371.75 1588.14,1372.35 1608.26,1372.94 1628.38,1373.51 1648.5,1374.07 1668.62,1374.61 1688.74,1375.14 1708.86,1375.65 1728.99,1376.16 1749.11,1376.65 1769.23,1377.13 1789.35,1377.59 1809.47,1378.05 1829.59,1378.5 1849.72,1378.93 1869.84,1379.36 1889.96,1379.77 1910.08,1380.18 1930.2,1380.57 1950.32,1380.96 1970.45,1381.34 1990.57,1381.71 2010.69,1382.07 2030.81,1382.42 2050.93,1382.77 2071.05,1383.11 2091.18,1383.44 2111.3,1383.76 2131.42,1384.08 2151.54,1384.39 2171.66,1384.7 2191.78,1384.99 2211.9,1385.29 2232.03,1385.57 2252.15,1385.85 2272.27,1386.13 2292.39,1386.4 \"/>\n",
       "</svg>\n"
      ]
     },
     "metadata": {},
     "output_type": "display_data"
    }
   ],
   "source": [
    "# Simulation parameters\n",
    "nx = 81\n",
    "L = 2.0\n",
    "max_nt = 100\n",
    "nu = 0.2\n",
    "sigma = 0.3\n",
    "n = 50  # Number of Fourier terms\n",
    "dx = L / (nx - 1)\n",
    "dt = sigma * dx^2 / nu\n",
    "\n",
    "# Initial condition\n",
    "u = ones(nx)\n",
    "u[Int(floor(0.5 / dx)) + 1 : Int(floor(1 / dx)) + 1] .= 2\n",
    "\n",
    "# Setup for storing results\n",
    "u_values = zeros(max_nt+1, nx)\n",
    "u_values[1, :] = u\n",
    "\n",
    "# Time stepping\n",
    "for nt in 1:max_nt\n",
    "    un = copy(u)\n",
    "    for i in 2:nx-1\n",
    "        u[i] = un[i] + nu * dt / dx^2 * (un[i+1] - 2 * un[i] + un[i-1])\n",
    "    end\n",
    "    u_values[nt+1, :] = u\n",
    "end\n",
    "\n",
    "# Compute the closed-form solution at each time step\n",
    "x = range(0, stop=L, length=nx)\n",
    "closed_form_solutions = [diffusion_1d_u(xi, t, nu, n) for t in 0:dt:(max_nt*dt), xi in x]\n",
    "\n",
    "# Calculate errors\n",
    "errors = abs.(u_values .- closed_form_solutions)\n",
    "max_error = maximum(errors)\n",
    "avg_error = mean(errors)\n",
    "rmse = sqrt(mean(errors.^2))\n",
    "mape = mean(abs.(u_values .- closed_form_solutions) ./ closed_form_solutions)*100\n",
    "\n",
    "# Output error metrics\n",
    "println(\"Maximum error: $max_error\")\n",
    "println(\"Average error: $avg_error\")\n",
    "println(\"RMSE: $rmse\")\n",
    "println(\"MAPE: $mape\")\n",
    "\n",
    "# Plotting the error evolution\n",
    "plot(0:max_nt, maximum(errors, dims=2), xlabel=\"Time step\", ylabel=\"Maximum error\", title=\"Error evolution over time\", legend=false)"
   ]
  },
  {
   "cell_type": "markdown",
   "id": "4bf8be63",
   "metadata": {},
   "source": [
    "Not bad! With only 81 discretization points, we got a MAPE of less than 1%. With more discretization points, it can only go down from here.\n",
    "\n",
    "There's more! CFL is a condition which must be met for the numerical stability of our simulation. It rquires that our step size remains proportional to our discretization such that the \\<property\\> which is diffusing does not overstep the bounds of spatially adjacent cells. That is, the timestep is upper bounded. In explicit cases, this bound is usually 1. That is, the \"Courant Number\", defined as \n",
    "\n",
    "$$C = u\\frac{dt}{dx} \\le1$$\n",
    "\n",
    "where $u$ represents velocity, is lte to 1. Our discretization is static and challenging to recompute at each step in the simulation, as it would require the lengthening or shortening of various data structures. Our velocity is, however, dynamic in various cases, leading to a Courant number which may vary over the course of the simulation. We can therefore dynamically recompute the timestep size to remain within this bound.\n",
    "\n",
    "Below is a demonstration on 1D convection:\n",
    "\n"
   ]
  },
  {
   "cell_type": "code",
   "execution_count": 87,
   "id": "7e6a49dd",
   "metadata": {},
   "outputs": [
    {
     "name": "stdout",
     "output_type": "stream",
     "text": [
      "dx = 1.0 / 40 = 0.025\n",
      "elapsed_time = 0.011250000000000001\n",
      "Courant = 0.9\n",
      "elapsed_time = 0.022500000000000003\n",
      "Courant = 0.9\n",
      "elapsed_time = 0.03375\n",
      "Courant = 0.9\n",
      "elapsed_time = 0.045000000000000005\n",
      "Courant = 0.9\n",
      "elapsed_time = 0.05625000000000001\n",
      "Courant = 0.9\n",
      "elapsed_time = 0.0675\n",
      "Courant = 0.9\n",
      "elapsed_time = 0.07875\n",
      "Courant = 0.9\n",
      "elapsed_time = 0.09\n",
      "Courant = 0.9\n",
      "elapsed_time = 0.10124999999999999\n",
      "Courant = 0.9\n",
      "elapsed_time = 0.11249999999999999\n",
      "Courant = 0.9\n",
      "elapsed_time = 0.12374999999999999\n",
      "Courant = 0.9\n",
      "elapsed_time = 0.13500000000236761\n",
      "Courant = 0.9\n",
      "elapsed_time = 0.14625000003947036\n",
      "Courant = 0.9\n",
      "elapsed_time = 0.15750000036405654\n",
      "Courant = 0.9\n",
      "elapsed_time = 0.16875000247291805\n",
      "Courant = 0.9\n",
      "elapsed_time = 0.1800000138952206\n",
      "Courant = 0.9\n",
      "elapsed_time = 0.1912500687750817\n",
      "Courant = 0.9\n",
      "elapsed_time = 0.20250031169103203\n",
      "Courant = 0.9\n",
      "elapsed_time = 0.2137513266415551\n",
      "Courant = 0.9\n",
      "elapsed_time = 0.22500539049050494\n",
      "Courant = 0.9\n",
      "elapsed_time = 0.2362710673614378\n",
      "Courant = 0.9\n",
      "elapsed_time = 0.24757862362206068\n",
      "Courant = 0.9\n",
      "elapsed_time = 0.2590206367153264\n",
      "Courant = 0.9\n",
      "elapsed_time = 0.2708094802587342\n",
      "Courant = 0.9\n",
      "elapsed_time = 0.2826082224428979\n",
      "Courant = 0.9\n",
      "elapsed_time = 0.2945001766307793\n",
      "Courant = 0.9\n",
      "elapsed_time = 0.3067097842350265\n",
      "Courant = 0.9\n",
      "elapsed_time = 0.31894508727433074\n",
      "Courant = 0.9\n",
      "elapsed_time = 0.3312658523823315\n",
      "Courant = 0.9\n",
      "elapsed_time = 0.3438797233165884\n",
      "Courant = 0.9\n",
      "elapsed_time = 0.35650603011814963\n",
      "Courant = 0.9\n",
      "elapsed_time = 0.36921080460871836\n",
      "Courant = 0.9\n",
      "elapsed_time = 0.38217707493558495\n",
      "Courant = 0.9\n",
      "elapsed_time = 0.3951585683178615\n",
      "Courant = 0.9\n",
      "elapsed_time = 0.4082070901301655\n",
      "Courant = 0.9\n",
      "elapsed_time = 0.42147772684728746\n",
      "Courant = 0.9\n",
      "elapsed_time = 0.43478514419870573\n",
      "Courant = 0.9\n",
      "elapsed_time = 0.44814475513226243\n",
      "Courant = 0.9\n",
      "elapsed_time = 0.4616829073789103\n",
      "Courant = 0.9\n",
      "elapsed_time = 0.4752920631721925\n",
      "Courant = 0.9\n",
      "elapsed_time = 0.4889374364398899\n",
      "Courant = 0.9\n",
      "elapsed_time = 0.5027176900626145\n",
      "Courant = 0.9\n",
      "elapsed_time = 0.5166085934001614\n",
      "Courant = 0.9\n",
      "elapsed_time = 0.5305205616152779\n",
      "Courant = 0.9\n",
      "elapsed_time = 0.5445270957949846\n",
      "Courant = 0.9\n",
      "elapsed_time = 0.5586832611409489\n",
      "Courant = 0.9\n",
      "elapsed_time = 0.5728474306456454\n",
      "Courant = 0.9\n",
      "elapsed_time = 0.5870715898438413\n",
      "Courant = 0.9\n",
      "elapsed_time = 0.6014551484073926\n",
      "Courant = 0.9\n",
      "elapsed_time = 0.6158605459384817\n",
      "Courant = 0.9\n",
      "elapsed_time = 0.6302986223674919\n",
      "Courant = 0.9\n",
      "elapsed_time = 0.644840005133007\n",
      "Courant = 0.9\n",
      "elapsed_time = 0.6594771044181736\n",
      "Courant = 0.9\n",
      "elapsed_time = 0.6741272243104618\n",
      "Courant = 0.9\n",
      "elapsed_time = 0.6888376309393197\n",
      "Courant = 0.9\n",
      "elapsed_time = 0.703692104428226\n",
      "Courant = 0.9\n",
      "elapsed_time = 0.7185515880928749\n",
      "Courant = 0.9\n",
      "elapsed_time = 0.733440371181698\n",
      "Courant = 0.9\n",
      "elapsed_time = 0.7484152334438278\n",
      "Courant = 0.9\n",
      "elapsed_time = 0.763480499140763\n",
      "Courant = 0.9\n",
      "elapsed_time = 0.7785547567467803\n",
      "Courant = 0.9\n",
      "elapsed_time = 0.7936738985141376\n",
      "Courant = 0.9\n",
      "elapsed_time = 0.8089006166347136\n",
      "Courant = 0.9\n",
      "elapsed_time = 0.8241628864503017\n",
      "Courant = 0.9\n",
      "elapsed_time = 0.8394429018080939\n",
      "Courant = 0.9\n",
      "elapsed_time = 0.8547806027093788\n",
      "Courant = 0.9\n",
      "elapsed_time = 0.8702300770323148\n",
      "Courant = 0.9\n",
      "elapsed_time = 0.8856806586187549\n",
      "Courant = 0.9\n",
      "elapsed_time = 0.9011560207603788\n",
      "Courant = 0.9\n",
      "elapsed_time = 0.9166980158093698\n",
      "Courant = 0.9\n",
      "elapsed_time = 0.9323228949019486\n",
      "Courant = 0.9\n",
      "elapsed_time = 0.9479527415260856\n",
      "Courant = 0.9\n",
      "elapsed_time = 0.9636123332295983\n",
      "Courant = 0.9\n",
      "elapsed_time = 0.979343627716045\n",
      "Courant = 0.8999999999999999\n",
      "elapsed_time = 0.9951358013560668\n",
      "Courant = 0.9000000000000002\n",
      "elapsed_time = 1.0109355731354688\n",
      "Courant = 0.9000000000000002\n"
     ]
    },
    {
     "name": "stderr",
     "output_type": "stream",
     "text": [
      "┌ Info: Saved animation to /Users/michaeltomadakis/NumericalNavier/MichaelFolder/waveOverTime.gif\n",
      "└ @ Plots /Users/michaeltomadakis/.julia/packages/Plots/ju9dp/src/animation.jl:156\n"
     ]
    },
    {
     "data": {
      "text/html": [
       "<img src=\"data:image/gif;base64,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\" />"
      ],
      "text/plain": [
       "Plots.AnimatedGif(\"/Users/michaeltomadakis/NumericalNavier/MichaelFolder/waveOverTime.gif\")"
      ]
     },
     "metadata": {},
     "output_type": "display_data"
    }
   ],
   "source": [
    "nx = 81             #position step count\n",
    "@show dx = 1.0 / 40 #space each position step covers\n",
    "total_time = 1      #1 second of total time\n",
    "initial_dt = .01\n",
    "elapsed_time = 0\n",
    "\n",
    "u = ones(nx)*1\n",
    "u[11:21].= 2;\n",
    "\n",
    "anim = @animate while elapsed_time < total_time\n",
    "    max_u = maximum(u) #find fastest moving <property>\n",
    "    dt = 0.9 * dx / max_u #max_u/dx <= 1*dt, compute dynamic timestep\n",
    "    global elapsed_time = dt + elapsed_time\n",
    "    Courant = max_u*dt/dx \n",
    "    @show elapsed_time\n",
    "    @show Courant\n",
    "    u2 = copy(u);\n",
    "    plot(u, ylimit=[0,3])\n",
    "    for space in 2:nx\n",
    "        u[space] = u2[space]-u2[space]*dt/dx*(u2[space]-u2[space-1]);\n",
    "    end\n",
    "end\n",
    "\n",
    "gif(anim, \"../waveOverTime.gif\", fps = 10)"
   ]
  },
  {
   "cell_type": "markdown",
   "id": "13570f2c",
   "metadata": {},
   "source": [
    "Lets repeat the diffusion experiment above but see if we can obtain better error values or the same error in fewer timesteps using dynamic timestepping, over the same window of real undescretized time!"
   ]
  },
  {
   "cell_type": "code",
   "execution_count": null,
   "id": "527ce0a4",
   "metadata": {},
   "outputs": [],
   "source": [
    "# Simulation parameters\n",
    "nx = 81\n",
    "L = 2.0\n",
    "max_nt = 100\n",
    "nu = 0.2\n",
    "sigma = 0.3\n",
    "n = 50  # Number of Fourier terms\n",
    "dx = L / (nx - 1)\n",
    "dt = sigma * dx^2 / nu\n",
    "\n",
    "# Initial condition\n",
    "u = ones(nx)\n",
    "u[Int(floor(0.5 / dx)) + 1 : Int(floor(1 / dx)) + 1] .= 2\n",
    "\n",
    "# Setup for storing results\n",
    "u_values = zeros(max_nt+1, nx)\n",
    "u_values[1, :] = u\n",
    "\n",
    "# Time stepping\n",
    "for nt in 1:max_nt\n",
    "\n",
    "    max_u = maximum(u) #find fastest moving <property>\n",
    "    dt = 0.9 * dx / max_u #max_u/dx <= 1*dt, compute dynamic timestep\n",
    "    global elapsed_time = dt + elapsed_time\n",
    "    Courant = max_u*dt/dx \n",
    "    @show elapsed_time\n",
    "    @show Courant\n",
    "\n",
    "    un = copy(u)\n",
    "    for i in 2:nx-1\n",
    "        u[i] = un[i] + nu * dt / dx^2 * (un[i+1] - 2 * un[i] + un[i-1])\n",
    "    end\n",
    "    u_values[nt+1, :] = u\n",
    "end\n",
    "\n",
    "# Compute the closed-form solution at each time step\n",
    "x = range(0, stop=L, length=nx)\n",
    "closed_form_solutions = [diffusion_1d_u(xi, t, nu, n) for t in 0:dt:(max_nt*dt), xi in x]\n",
    "\n",
    "# Calculate errors\n",
    "errors = abs.(u_values .- closed_form_solutions)\n",
    "max_error = maximum(errors)\n",
    "avg_error = mean(errors)\n",
    "rmse = sqrt(mean(errors.^2))\n",
    "mape = mean(abs.(u_values .- closed_form_solutions) ./ closed_form_solutions)*100\n",
    "\n",
    "# Output error metrics\n",
    "println(\"Maximum error: $max_error\")\n",
    "println(\"Average error: $avg_error\")\n",
    "println(\"RMSE: $rmse\")\n",
    "println(\"MAPE: $mape\")\n",
    "\n",
    "# Plotting the error evolution\n",
    "plot(0:max_nt, maximum(errors, dims=2), xlabel=\"Time step\", ylabel=\"Maximum error\", title=\"Error evolution over time\", legend=false)"
   ]
  },
  {
   "cell_type": "markdown",
   "id": "3560c2ec",
   "metadata": {},
   "source": [
    "### Let's move on to Burger's Equation"
   ]
  },
  {
   "cell_type": "markdown",
   "id": "6e471e79",
   "metadata": {},
   "source": [
    "In 2D, Burger's Equation reads\n",
    "$$\n",
    "\\frac{\\partial u}{\\partial t} + u\\frac{\\partial u}{\\partial x} + v\\frac{\\partial u}{\\partial y} = \\nu \\left( \\frac{\\partial^2 u}{\\partial x^2} + \\frac{\\partial^2 u}{\\partial y^2} \\right)\n",
    "$$\n",
    "$$\n",
    "\\frac{\\partial v}{\\partial t} + u\\frac{\\partial v}{\\partial x} + v\\frac{\\partial v}{\\partial y} = \\nu \\left( \\frac{\\partial^2 v}{\\partial x^2} + \\frac{\\partial^2 v}{\\partial y^2} \\right)\n",
    "$$"
   ]
  },
  {
   "cell_type": "markdown",
   "id": "7a935484",
   "metadata": {},
   "source": [
    "As before, we discretize each term obtaining"
   ]
  },
  {
   "cell_type": "code",
   "execution_count": 19,
   "id": "04bc0be7",
   "metadata": {},
   "outputs": [
    {
     "ename": "UndefVarError",
     "evalue": "UndefVarError: `load` not defined",
     "output_type": "error",
     "traceback": [
      "UndefVarError: `load` not defined\n",
      "\n",
      "Stacktrace:\n",
      " [1] display_image(path::String)\n",
      "   @ Main ~/NumericalNavier/MichaelFolder/Notebooks/Final-Notebook-Testbed.ipynb:2\n",
      " [2] top-level scope\n",
      "   @ ~/NumericalNavier/MichaelFolder/Notebooks/Final-Notebook-Testbed.ipynb:1"
     ]
    }
   ],
   "source": [
    "display_image(\"images/burgers-discretized.png\")"
   ]
  },
  {
   "cell_type": "markdown",
   "id": "d355265f",
   "metadata": {},
   "source": [
    "Solving for our unknowns,"
   ]
  },
  {
   "cell_type": "code",
   "execution_count": 20,
   "id": "dd04d2d1",
   "metadata": {},
   "outputs": [
    {
     "ename": "UndefVarError",
     "evalue": "UndefVarError: `load` not defined",
     "output_type": "error",
     "traceback": [
      "UndefVarError: `load` not defined\n",
      "\n",
      "Stacktrace:\n",
      " [1] display_image(path::String)\n",
      "   @ Main ~/NumericalNavier/MichaelFolder/Notebooks/Final-Notebook-Testbed.ipynb:2\n",
      " [2] top-level scope\n",
      "   @ ~/NumericalNavier/MichaelFolder/Notebooks/Final-Notebook-Testbed.ipynb:1"
     ]
    }
   ],
   "source": [
    "display_image(\"images/burgers-solved.png\")"
   ]
  },
  {
   "cell_type": "markdown",
   "id": "7e37a943",
   "metadata": {},
   "source": [
    "Time to code it up."
   ]
  },
  {
   "cell_type": "markdown",
   "id": "32e25c3e",
   "metadata": {},
   "source": [
    "# Burgers needs to be encapsulated"
   ]
  },
  {
   "cell_type": "code",
   "execution_count": 21,
   "id": "52635236",
   "metadata": {},
   "outputs": [],
   "source": [
    "###variable declarations\n",
    "nx = 41\n",
    "ny = 41\n",
    "nt = 120\n",
    "dx = 2 / (nx - 1)\n",
    "dy = 2 / (ny - 1)\n",
    "sigma = .0009\n",
    "nu = .001\n",
    "dt = sigma * dx * dy / nu\n",
    "\n",
    "\n",
    "x = 0:dx:2\n",
    "y = 0:dy:2\n",
    "\n",
    "u = ones(ny, nx)  # create a 1xn vector of 1's\n",
    "v = ones(ny, nx)\n",
    "un = ones(ny, nx) \n",
    "vn = ones(ny, nx)\n",
    "\n",
    "###Assign initial conditions\n",
    "\n",
    "##set hat function I.C. : u(.5<=x<=1 && .5<=y<=1 ) is 2\n",
    "u[Int(.5 / dy):Int(1 / dy + 1),Int(.5 / dx):Int(1 / dx + 1)] .= 2;\n",
    "##set hat function I.C. : u(.5<=x<=1 && .5<=y<=1 ) is 2\n",
    "v[Int(.5 / dy):Int(1 / dy + 1),Int(.5 / dx):Int(1 / dx + 1)] .= 2;"
   ]
  },
  {
   "cell_type": "code",
   "execution_count": 22,
   "id": "06fbd479",
   "metadata": {},
   "outputs": [
    {
     "ename": "UndefVarError",
     "evalue": "UndefVarError: `cgrad` not defined",
     "output_type": "error",
     "traceback": [
      "UndefVarError: `cgrad` not defined\n",
      "\n",
      "Stacktrace:\n",
      " [1] top-level scope\n",
      "   @ ~/NumericalNavier/MichaelFolder/Notebooks/Final-Notebook-Testbed.ipynb:1"
     ]
    }
   ],
   "source": [
    "heatmap(x, y, u, color=cgrad([:lightblue,:white,:red]), clim=(1,2))"
   ]
  },
  {
   "cell_type": "code",
   "execution_count": 23,
   "id": "4eb3e6ae",
   "metadata": {},
   "outputs": [
    {
     "ename": "UndefVarError",
     "evalue": "UndefVarError: `cgrad` not defined",
     "output_type": "error",
     "traceback": [
      "UndefVarError: `cgrad` not defined\n",
      "\n",
      "Stacktrace:\n",
      " [1] top-level scope\n",
      "   @ ~/NumericalNavier/MichaelFolder/Notebooks/Final-Notebook-Testbed.ipynb:1"
     ]
    }
   ],
   "source": [
    "heatmap(x, y, v, color=cgrad([:lightblue,:white,:red]), clim=(1,2))"
   ]
  },
  {
   "cell_type": "code",
   "execution_count": 24,
   "id": "cf6906d2",
   "metadata": {},
   "outputs": [
    {
     "ename": "LoadError",
     "evalue": "LoadError: UndefVarError: `@animate` not defined\nin expression starting at /Users/michaeltomadakis/NumericalNavier/MichaelFolder/Notebooks/Final-Notebook-Testbed.ipynb:1",
     "output_type": "error",
     "traceback": [
      "LoadError: UndefVarError: `@animate` not defined\n",
      "in expression starting at /Users/michaeltomadakis/NumericalNavier/MichaelFolder/Notebooks/Final-Notebook-Testbed.ipynb:1\n"
     ]
    }
   ],
   "source": [
    "anim = @animate for n in 1:nt+1\n",
    "    un = copy(u)\n",
    "    vn = copy(v)\n",
    "    \n",
    "    u[2:end-1, 2:end-1] .= (un[2:end-1, 2:end-1] -\n",
    "        dt / dx .* un[2:end-1, 2:end-1] .* \n",
    "        (un[2:end-1, 2:end-1] .- un[2:end-1, 1:end-2]) - \n",
    "        dt / dy .* vn[2:end-1, 2:end-1] .* \n",
    "        (un[2:end-1, 2:end-1] .- un[1:end-2, 2:end-1]) + \n",
    "        nu * dt / dx^2 .* \n",
    "        (un[2:end-1,3:end] - 2 .* un[2:end-1, 2:end-1] .+ un[2:end-1, 1:end-2]) + \n",
    "        nu * dt / dy^2 .* \n",
    "        (un[3:end, 2:end-1] - 2 .* un[2:end-1, 2:end-1] .+ un[1:end-2, 2:end-1]))\n",
    "\n",
    "    v[2:end-1, 2:end-1] .= (vn[2:end-1, 2:end-1] - \n",
    "        dt / dx .* un[2:end-1, 2:end-1] .*\n",
    "        (vn[2:end-1, 2:end-1] .- vn[2:end-1, 1:end-2]) -\n",
    "        dt / dy .* vn[2:end-1, 2:end-1] .* \n",
    "        (vn[2:end-1, 2:end-1] .- vn[1:end-2, 2:end-1]) + \n",
    "        nu * dt / dx^2 .* \n",
    "        (vn[2:end-1, 3:end] - 2 .* vn[2:end-1, 2:end-1] .+ vn[2:end-1, 1:end-2]) +\n",
    "        nu * dt / dy^2 .*\n",
    "        (vn[3:end, 2:end-1] - 2 .* vn[2:end-1, 2:end-1] .+ vn[1:end-2, 2:end-1]))\n",
    "     \n",
    "    u[1, :] .= 1\n",
    "    u[end, :] .= 1\n",
    "    u[:, 1] .= 1\n",
    "    u[:, end] .= 1\n",
    "    \n",
    "    v[1, :] .= 1\n",
    "    v[end, :] .= 1\n",
    "    v[:, 1] .= 1\n",
    "    v[:, end] .= 1\n",
    "\n",
    "    heatmap(x, y, u, color=cgrad([:lightblue,:white,:red]), clim=(1,2))\n",
    "    #plot(x, y, u, st=:surface, color=cgrad([:black,:white]), zlimits=[0.99, 2.01])\n",
    "end\n",
    "\n",
    "gif(anim, \"gifs/burgers_2d.gif\", fps = 60)\n"
   ]
  },
  {
   "cell_type": "markdown",
   "id": "4bf088ab",
   "metadata": {},
   "source": [
    "As before, lets compare with the known closed form solution.\n",
    "$$\\alpha = \\frac{1}{4 \\nu t}, \\quad \\beta = -\\frac{1}{4 \\nu}$$\n",
    "$$u(x, y, t, \\nu) = v(x, y, t, \\nu) = \\frac{1 + \\exp\\left(\\beta (x + y - t)\\right)}{1 + \\exp\\left(\\beta (x + y - t)\\right) + \\exp\\left(\\alpha (x^2 + y^2)\\right)}\n",
    "$$"
   ]
  },
  {
   "cell_type": "code",
   "execution_count": 25,
   "id": "44f18932",
   "metadata": {},
   "outputs": [
    {
     "ename": "LoadError",
     "evalue": "LoadError: UndefVarError: `@gif` not defined\nin expression starting at /Users/michaeltomadakis/NumericalNavier/MichaelFolder/Notebooks/Final-Notebook-Testbed.ipynb:15",
     "output_type": "error",
     "traceback": [
      "LoadError: UndefVarError: `@gif` not defined\n",
      "in expression starting at /Users/michaeltomadakis/NumericalNavier/MichaelFolder/Notebooks/Final-Notebook-Testbed.ipynb:15\n"
     ]
    }
   ],
   "source": [
    "# True solution\n",
    "function burgers_closed_form(x, y, t, ν)\n",
    "    α = 1 / (4 * ν * t)\n",
    "    β = -1 / (4 * ν)\n",
    "    u_true = @. (1 + exp(β * (x + y - t))) / (1 + exp(β * (x + y - t)) + exp(α * (x^2 + y^2)))\n",
    "    v_true = @. (1 + exp(β * (x + y - t))) / (1 + exp(β * (x + y - t)) + exp(α * (x^2 + y^2)))\n",
    "    return u_true, v_true\n",
    "end\n",
    "\n",
    "# Error analysis\n",
    "err_u = zeros(ny, nx)\n",
    "err_v = zeros(ny, nx)\n",
    "\n",
    "# Create gif\n",
    "@gif for n in 1:nt+1\n",
    "    t = (n - 1) * dt\n",
    "    \n",
    "    for i in 1:ny\n",
    "        for j in 1:nx\n",
    "            u_true, v_true = burgers_closed_form(x[j], y[i], t, nu)\n",
    "            err_u[i, j] = abs(u[i, j] - u_true)\n",
    "            err_v[i, j] = abs(v[i, j] - v_true)\n",
    "        end\n",
    "    end\n",
    "    \n",
    "    p1 = heatmap(x, y, err_u', title=\"Error in u at t = $(round(t, digits=2))\", xlabel=\"x\", ylabel=\"y\", color=:viridis, clim=(0, maximum(err_u)))\n",
    "    p2 = heatmap(x, y, err_v', title=\"Error in v at t = $(round(t, digits=2))\", xlabel=\"x\", ylabel=\"y\", color=:viridis, clim=(0, maximum(err_v)))\n",
    "    \n",
    "    plot(p1, p2, layout=(1, 2), size=(800, 400))\n",
    "end"
   ]
  },
  {
   "cell_type": "markdown",
   "id": "a4c6a2c0",
   "metadata": {},
   "source": [
    "### Finally, we are equipped to take on our original (PDE)"
   ]
  },
  {
   "cell_type": "markdown",
   "id": "a254e9d9",
   "metadata": {},
   "source": [
    "Recall what our equations are:"
   ]
  },
  {
   "cell_type": "code",
   "execution_count": 26,
   "id": "91dc19ce",
   "metadata": {
    "scrolled": true
   },
   "outputs": [
    {
     "ename": "UndefVarError",
     "evalue": "UndefVarError: `load` not defined",
     "output_type": "error",
     "traceback": [
      "UndefVarError: `load` not defined\n",
      "\n",
      "Stacktrace:\n",
      " [1] display_image(path::String)\n",
      "   @ Main ~/NumericalNavier/MichaelFolder/Notebooks/Final-Notebook-Testbed.ipynb:2\n",
      " [2] top-level scope\n",
      "   @ ~/NumericalNavier/MichaelFolder/Notebooks/Final-Notebook-Testbed.ipynb:1"
     ]
    }
   ],
   "source": [
    "display_image(\"images/navier-stokes.png\")"
   ]
  },
  {
   "cell_type": "markdown",
   "id": "0f6ad011",
   "metadata": {},
   "source": [
    "We discretize as usual:"
   ]
  },
  {
   "cell_type": "code",
   "execution_count": 27,
   "id": "3ed2c26e",
   "metadata": {},
   "outputs": [
    {
     "ename": "UndefVarError",
     "evalue": "UndefVarError: `load` not defined",
     "output_type": "error",
     "traceback": [
      "UndefVarError: `load` not defined\n",
      "\n",
      "Stacktrace:\n",
      " [1] display_image(path::String)\n",
      "   @ Main ~/NumericalNavier/MichaelFolder/Notebooks/Final-Notebook-Testbed.ipynb:2\n",
      " [2] top-level scope\n",
      "   @ ~/NumericalNavier/MichaelFolder/Notebooks/Final-Notebook-Testbed.ipynb:1"
     ]
    }
   ],
   "source": [
    "display_image(\"images/navier-stokes-discrete.png\")"
   ]
  },
  {
   "cell_type": "markdown",
   "id": "a35437a5",
   "metadata": {},
   "source": [
    "Rearranging to get the explicit form we want,"
   ]
  },
  {
   "cell_type": "code",
   "execution_count": 28,
   "id": "2538e542",
   "metadata": {
    "scrolled": false
   },
   "outputs": [
    {
     "ename": "UndefVarError",
     "evalue": "UndefVarError: `load` not defined",
     "output_type": "error",
     "traceback": [
      "UndefVarError: `load` not defined\n",
      "\n",
      "Stacktrace:\n",
      " [1] display_image(path::String)\n",
      "   @ Main ~/NumericalNavier/MichaelFolder/Notebooks/Final-Notebook-Testbed.ipynb:2\n",
      " [2] top-level scope\n",
      "   @ ~/NumericalNavier/MichaelFolder/Notebooks/Final-Notebook-Testbed.ipynb:1"
     ]
    }
   ],
   "source": [
    "display_image(\"images/navier-stokes-solved.png\")"
   ]
  },
  {
   "cell_type": "markdown",
   "id": "50a7ae3c",
   "metadata": {},
   "source": [
    "### need to actually code it up now + do error analysis to online julia pkg solvers. also this error analysis is pretty basic bc its all explicit  so ig we should do some implicit, that way we can compare lu to qr or whatnot.\n",
    "### Link: https://nbviewer.org/github/barbagroup/CFDPython/blob/master/lessons/15_Step_12.ipynb"
   ]
  },
  {
   "cell_type": "markdown",
   "id": "3efc91f0",
   "metadata": {},
   "source": [
    "what needs to be done\n",
    "- as mentioned above\n",
    "- implement the 3 I covered with adaptive steps to demonstrate changes in error if cfl is met vs if it is not met (this should not be hard at all, probably 3 lines of code needto be changed max)\n",
    "- somewhere in here we should introduce the concept of cfl, maybe give a sketch of a proof is we're feeling goofy"
   ]
  },
  {
   "cell_type": "markdown",
   "id": "faebc1f2",
   "metadata": {},
   "source": [
    "# ..."
   ]
  },
  {
   "cell_type": "code",
   "execution_count": 29,
   "id": "726bd2ee",
   "metadata": {},
   "outputs": [
    {
     "data": {
      "text/plain": [
       "pressure_poisson_periodic (generic function with 1 method)"
      ]
     },
     "metadata": {},
     "output_type": "display_data"
    }
   ],
   "source": [
    "function build_up_b(rho, dt, dx, dy, u, v)\n",
    "    b = zeros(size(u))\n",
    "    b[2:end-1, 2:end-1] .= (rho * (1 / dt * ((u[2:end-1, 3:end] - u[2:end-1, 1:end-2]) / (2 * dx) +\n",
    "                                            (v[3:end, 2:end-1] - v[1:end-2, 2:end-1]) / (2 * dy)) -\n",
    "                                      ((u[2:end-1, 3:end] - u[2:end-1, 1:end-2]) / (2 * dx)).^2 -\n",
    "                                      2 * ((u[3:end, 2:end-1] - u[1:end-2, 2:end-1]) / (2 * dy) .* \n",
    "                                           (v[2:end-1, 3:end] - v[2:end-1, 1:end-2]) / (2 * dx)) -\n",
    "                                      ((v[3:end, 2:end-1] - v[1:end-2, 2:end-1]) / (2 * dy)).^2))\n",
    "\n",
    "    # Periodic BC Pressure @ x = 2\n",
    "    b[2:end-1, end] .= (rho * (1 / dt * ((u[2:end-1, 1] - u[2:end-1, end-1]) / (2 * dx) +\n",
    "                                         (v[3:end, end] - v[1:end-2, end]) / (2 * dy)) -\n",
    "                               ((u[2:end-1, 1] - u[2:end-1, end-1]) / (2 * dx)).^2 -\n",
    "                               2 * ((u[3:end, end] - u[1:end-2, end]) / (2 * dy) .*\n",
    "                                    (v[2:end-1, 1] - v[2:end-1, end-1]) / (2 * dx)) -\n",
    "                               ((v[3:end, end] - v[1:end-2, end]) / (2 * dy)).^2))\n",
    "\n",
    "    # Periodic BC Pressure @ x = 0\n",
    "    b[2:end-1, 1] .= (rho * (1 / dt * ((u[2:end-1, 2] - u[2:end-1, end]) / (2 * dx) +\n",
    "                                       (v[3:end, 1] - v[1:end-2, 1]) / (2 * dy)) -\n",
    "                             ((u[2:end-1, 2] - u[2:end-1, end]) / (2 * dx)).^2 -\n",
    "                             2 * ((u[3:end, 1] - u[1:end-2, 1]) / (2 * dy) .*\n",
    "                                  (v[2:end-1, 2] - v[2:end-1, end]) / (2 * dx)) -\n",
    "                             ((v[3:end, 1] - v[1:end-2, 1]) / (2 * dy)).^2))\n",
    "\n",
    "    return b\n",
    "end\n",
    "\n",
    "function pressure_poisson_periodic(p, dx, dy, b, nit)\n",
    "    for q in 1:nit\n",
    "        pn = copy(p)\n",
    "        p[2:end-1, 2:end-1] .= ((pn[2:end-1, 3:end] + pn[2:end-1, 1:end-2]) * dy^2 +\n",
    "                                (pn[3:end, 2:end-1] + pn[1:end-2, 2:end-1]) * dx^2) /\n",
    "                               (2 * (dx^2 + dy^2)) -\n",
    "                               dx^2 * dy^2 / (2 * (dx^2 + dy^2)) * b[2:end-1, 2:end-1]\n",
    "\n",
    "        # Periodic BC Pressure @ x = 2\n",
    "        p[2:end-1, end] .= ((pn[2:end-1, 1] + pn[2:end-1, end-1]) * dy^2 +\n",
    "                            (pn[3:end, end] + pn[1:end-2, end]) * dx^2) /\n",
    "                           (2 * (dx^2 + dy^2)) -\n",
    "                           dx^2 * dy^2 / (2 * (dx^2 + dy^2)) * b[2:end-1, end]\n",
    "\n",
    "        # Periodic BC Pressure @ x = 0\n",
    "        p[2:end-1, 1] .= ((pn[2:end-1, 2] + pn[2:end-1, end]) * dy^2 +\n",
    "                          (pn[3:end, 1] + pn[1:end-2, 1]) * dx^2) /\n",
    "                         (2 * (dx^2 + dy^2)) -\n",
    "                         dx^2 * dy^2 / (2 * (dx^2 + dy^2)) * b[2:end-1, 1]\n",
    "\n",
    "        # Wall boundary conditions, pressure\n",
    "        p[end, :] .= p[end-1, :]  # dp/dy = 0 at y = 2\n",
    "        p[1, :] .= p[2, :]  # dp/dy = 0 at y = 0\n",
    "    end\n",
    "\n",
    "    return p\n",
    "end"
   ]
  },
  {
   "cell_type": "code",
   "execution_count": 30,
   "id": "395dfec8",
   "metadata": {},
   "outputs": [
    {
     "ename": "UndefVarError",
     "evalue": "UndefVarError: `Matlab` not defined",
     "output_type": "error",
     "traceback": [
      "UndefVarError: `Matlab` not defined\n",
      "\n",
      "Stacktrace:\n",
      " [1] top-level scope\n",
      "   @ ~/NumericalNavier/MichaelFolder/Notebooks/Final-Notebook-Testbed.ipynb:11"
     ]
    }
   ],
   "source": [
    "nx = 41\n",
    "ny = 41\n",
    "nt = 10\n",
    "nit = 50 \n",
    "c = 1\n",
    "dx = 2 / (nx - 1)\n",
    "dy = 2 / (ny - 1)\n",
    "x = LinRange(0, 2, nx)\n",
    "y = LinRange(0, 2, ny)\n",
    "\n",
    "X, Y = Matlab.meshgrid(x,y)\n",
    "\n",
    "##physical variables\n",
    "rho = 1\n",
    "nu = .1\n",
    "F = 1\n",
    "dt = .01\n",
    "\n",
    "#initial conditions\n",
    "u = zeros(ny, nx)\n",
    "un = zeros(ny, nx)\n",
    "\n",
    "v = zeros(ny, nx)\n",
    "vn = zeros(ny, nx)\n",
    "\n",
    "p = ones(ny, nx)\n",
    "pn = ones(ny, nx)\n",
    "\n",
    "b = zeros(ny, nx);"
   ]
  },
  {
   "cell_type": "code",
   "execution_count": 31,
   "id": "4832b8b9",
   "metadata": {},
   "outputs": [
    {
     "data": {
      "text/plain": [
       "calculate_cfl (generic function with 1 method)"
      ]
     },
     "metadata": {},
     "output_type": "display_data"
    }
   ],
   "source": [
    "function calculate_cfl(u, v, dt, dx, dy)\n",
    "    u_max = maximum(abs.(u))\n",
    "    v_max = maximum(abs.(v))\n",
    "\n",
    "    cfl = (u_max * dt / dx) + (v_max * dt / dy)\n",
    "\n",
    "    return cfl\n",
    "end"
   ]
  },
  {
   "cell_type": "code",
   "execution_count": 32,
   "id": "4ae1017b",
   "metadata": {},
   "outputs": [
    {
     "ename": "UndefVarError",
     "evalue": "UndefVarError: `rho` not defined",
     "output_type": "error",
     "traceback": [
      "UndefVarError: `rho` not defined\n",
      "\n",
      "Stacktrace:\n",
      " [1] top-level scope\n",
      "   @ ~/NumericalNavier/MichaelFolder/Notebooks/Final-Notebook-Testbed.ipynb:9"
     ]
    }
   ],
   "source": [
    "udiff = 1.0\n",
    "stepcount = 0\n",
    "max_cfl = 0.5\n",
    "\n",
    "while udiff > 0.001\n",
    "    un = copy(u)\n",
    "    vn = copy(v)\n",
    "\n",
    "    b = build_up_b(rho, dt, dx, dy, u, v)\n",
    "    p = pressure_poisson_periodic(p, dx, dy, b, nit)\n",
    "\n",
    "    u[2:end-1, 2:end-1] .= un[2:end-1, 2:end-1] .-\n",
    "                          un[2:end-1, 2:end-1] .* dt / dx .* \n",
    "                          (un[2:end-1, 2:end-1] - un[2:end-1, 1:end-2]) .-\n",
    "                          vn[2:end-1, 2:end-1] .* dt / dy .* \n",
    "                          (un[2:end-1, 2:end-1] - un[1:end-2, 2:end-1]) .-\n",
    "                          dt / (2 * rho * dx) .* \n",
    "                          (p[2:end-1, 3:end] - p[2:end-1, 1:end-2]) .+\n",
    "                          nu * (dt / (dx^2) * \n",
    "                          (un[2:end-1, 3:end] - 2 .* un[2:end-1, 2:end-1] + un[2:end-1, 1:end-2]) .+\n",
    "                          dt / (dy^2) * \n",
    "                          (un[3:end, 2:end-1] - 2 .* un[2:end-1, 2:end-1] + un[1:end-2, 2:end-1])) .+\n",
    "                          F * dt\n",
    "\n",
    "    v[2:end-1, 2:end-1] .= vn[2:end-1, 2:end-1] .-\n",
    "                          un[2:end-1, 2:end-1] .* dt / dx .* \n",
    "                          (vn[2:end-1, 2:end-1] - vn[2:end-1, 1:end-2]) .-\n",
    "                          vn[2:end-1, 2:end-1] .* dt / dy .* \n",
    "                          (vn[2:end-1, 2:end-1] - vn[1:end-2, 2:end-1]) .-\n",
    "                          dt / (2 * rho * dy) .* \n",
    "                          (p[3:end, 2:end-1] - p[1:end-2, 2:end-1]) .+\n",
    "                          nu * (dt / (dx^2) *\n",
    "                          (vn[2:end-1, 3:end] - 2 .* vn[2:end-1, 2:end-1] + vn[2:end-1, 1:end-2]) .+\n",
    "                          dt / (dy^2) *\n",
    "                          (vn[3:end, 2:end-1] - 2 .* vn[2:end-1, 2:end-1] + vn[1:end-2, 2:end-1]))\n",
    "\n",
    "    u[1, :] .= 0\n",
    "    u[end, :] .= 0\n",
    "    v[1, :] .= 0\n",
    "    v[end, :] .= 0\n",
    "\n",
    "    udiff = abs.(sum(u) - sum(un)) / sum(u)\n",
    "    stepcount += 1\n",
    "\n",
    "    cfl = calculate_cfl(u, v, dt, dx, dy)\n",
    "    if cfl > max_cfl\n",
    "        println(\"CFL number is too large: $cfl.\")\n",
    "        break\n",
    "    end\n",
    "end\n"
   ]
  },
  {
   "cell_type": "code",
   "execution_count": 33,
   "id": "75d4ad37",
   "metadata": {},
   "outputs": [
    {
     "ename": "UndefVarError",
     "evalue": "UndefVarError: `X` not defined",
     "output_type": "error",
     "traceback": [
      "UndefVarError: `X` not defined\n",
      "\n",
      "Stacktrace:\n",
      " [1] top-level scope\n",
      "   @ ~/NumericalNavier/MichaelFolder/Notebooks/Final-Notebook-Testbed.ipynb:1"
     ]
    }
   ],
   "source": [
    "quiver(X[1:3:end, 1:3:end], Y[1:3:end, 1:3:end], quiver=(u[1:3:end, 1:3:end], v[1:3:end, 1:3:end]))"
   ]
  },
  {
   "cell_type": "markdown",
   "id": "36d04276",
   "metadata": {},
   "source": [
    "Now that we have obtained a numerical approximation to our solution, and are satisfied with our \"error\", lets discuss project objectives 2 & 3. Note that we put \"error\" in quotation marks because we are yet to prove that our solution converges as we further refine our discretization. The \"closed-form\" solutions we compared to are numerical approximations obtained from well known julia packages. However, if we cannot prove convergence, who's to say their numerical approximation is any better than ours. Additionally, let's say that we do converge to something, how do we know that we are converging to an approximation of the closed form solution?"
   ]
  },
  {
   "cell_type": "markdown",
   "id": "0c208b1c",
   "metadata": {},
   "source": [
    "## Convergence and Well-possedness"
   ]
  },
  {
   "cell_type": "markdown",
   "id": "a4db9d4a",
   "metadata": {},
   "source": [
    "A numerical method is said to be *consistent* is the discretization errors induced by the method decrease to zero as the discretization parameters approach 0. In the context of the local truncation error, we require\n",
    "$$\\lim_{\\Delta t, \\Delta x \\to 0}LTE = 0$$\n",
    "Checking that this condition holds rigourosly can sometimes be challenging, Lagrange Remainder Theorem can help."
   ]
  },
  {
   "cell_type": "markdown",
   "id": "013521f3",
   "metadata": {},
   "source": [
    "Conceptually, *stability* means that the numerical errors do not grow uncontrollably as the computation advances in time (CFL helps but is not enough)."
   ]
  },
  {
   "cell_type": "markdown",
   "id": "6aab76f5",
   "metadata": {},
   "source": [
    "Why are both needed? \n",
    "- Consistency without stability might mean accurately representing the differential equation, but small errors could grow exponentially, leading to useless results. \n",
    "- Stability without consistency might control error growth well, but the errors might not necessarily diminish with finer discretizations, potentially leading to a stable but inaccurate solution"
   ]
  },
  {
   "cell_type": "markdown",
   "id": "06cd214e",
   "metadata": {},
   "source": [
    "**Lax-Richtmyer equivalence theorem:** For a consistent finite difference method for a well-posed linear initial value problem, the method is convergent if and only if it is stable."
   ]
  },
  {
   "cell_type": "markdown",
   "id": "47f5bb50",
   "metadata": {},
   "source": [
    "Stuff becomes harder to prove when we get to BVPs and introduce nonlinearity."
   ]
  }
 ],
 "metadata": {
  "kernelspec": {
   "display_name": "Julia 1.10.0",
   "language": "julia",
   "name": "julia-1.10"
  },
  "language_info": {
   "file_extension": ".jl",
   "mimetype": "application/julia",
   "name": "julia",
   "version": "1.10.0"
  }
 },
 "nbformat": 4,
 "nbformat_minor": 5
}
