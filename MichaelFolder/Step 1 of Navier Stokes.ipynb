{
 "cells": [
  {
   "cell_type": "code",
   "execution_count": 1,
   "id": "89417bcf",
   "metadata": {},
   "outputs": [
    {
     "name": "stderr",
     "output_type": "stream",
     "text": [
      "\u001b[32m\u001b[1m    Updating\u001b[22m\u001b[39m registry at `C:\\Users\\c1a55\\.julia\\registries\\General.toml`\n",
      "\u001b[32m\u001b[1m   Resolving\u001b[22m\u001b[39m package versions...\n",
      "\u001b[32m\u001b[1m  No Changes\u001b[22m\u001b[39m to `D:\\Operations\\Ongoing\\Numerical Navier\\MichaelFolder\\Project.toml`\n",
      "\u001b[32m\u001b[1m  No Changes\u001b[22m\u001b[39m to `D:\\Operations\\Ongoing\\Numerical Navier\\MichaelFolder\\Manifest.toml`\n",
      "\u001b[32m\u001b[1m   Resolving\u001b[22m\u001b[39m package versions...\n",
      "\u001b[32m\u001b[1m  No Changes\u001b[22m\u001b[39m to `D:\\Operations\\Ongoing\\Numerical Navier\\MichaelFolder\\Project.toml`\n",
      "\u001b[32m\u001b[1m  No Changes\u001b[22m\u001b[39m to `D:\\Operations\\Ongoing\\Numerical Navier\\MichaelFolder\\Manifest.toml`\n",
      "\u001b[32m\u001b[1m   Resolving\u001b[22m\u001b[39m package versions...\n",
      "\u001b[32m\u001b[1m  No Changes\u001b[22m\u001b[39m to `D:\\Operations\\Ongoing\\Numerical Navier\\MichaelFolder\\Project.toml`\n",
      "\u001b[32m\u001b[1m  No Changes\u001b[22m\u001b[39m to `D:\\Operations\\Ongoing\\Numerical Navier\\MichaelFolder\\Manifest.toml`\n"
     ]
    }
   ],
   "source": [
    "using Pkg\n",
    "Pkg.add(\"Plots\")\n",
    "Pkg.add(\"NLsolve\")\n",
    "Pkg.add(\"LinearAlgebra\")\n",
    "using Plots\n",
    "using NLsolve\n"
   ]
  },
  {
   "cell_type": "markdown",
   "id": "4811f56d",
   "metadata": {},
   "source": [
    "Implementing the one dimensional wave equation"
   ]
  },
  {
   "cell_type": "code",
   "execution_count": 2,
   "id": "d8b46046",
   "metadata": {},
   "outputs": [
    {
     "name": "stdout",
     "output_type": "stream",
     "text": [
      "dx = 1.0 / 40 = 0.025\n"
     ]
    },
    {
     "ename": "UndefVarError",
     "evalue": "UndefVarError: `dt` not defined",
     "output_type": "error",
     "traceback": [
      "UndefVarError: `dt` not defined\n",
      "\n",
      "Stacktrace:\n",
      " [1] macro expansion\n",
      "   @ show.jl:1181 [inlined]\n",
      " [2] top-level scope\n",
      "   @ d:\\Operations\\Ongoing\\Numerical Navier\\MichaelFolder\\Step 1 of Navier Stokes.ipynb:10"
     ]
    }
   ],
   "source": [
    "nx = 81            #position step count\n",
    "@show dx = 1.0 / 40 #space each position step covers\n",
    "nt = 600\n",
    "initial_dt = .01\n",
    "\n",
    "\n",
    "u = ones(nx)\n",
    "u[11:21].= 2;\n",
    "\n",
    "@show Courant = maximum(u)*dt/dx\n",
    "\n",
    "anim = @animate for time in 1:nt\n",
    "    max_u = maximum(u)\n",
    "    dt = min(dx / max_u, initial_dt)\n",
    "    Courant = max_u*dt/dx \n",
    "    @show dt\n",
    "    @show Courant\n",
    "    u2 = copy(u);\n",
    "    plot(u, ylimit=[0,3])\n",
    "    for space in 2:nx\n",
    "        u[space] = u2[space]-u2[space]*dt/dx*(u2[space]-u2[space-1]);\n",
    "    end\n",
    "    \n",
    "    \n",
    "end\n",
    "\n",
    "gif(anim, \"waveOverTime.gif\", fps = 10)"
   ]
  }
 ],
 "metadata": {
  "kernelspec": {
   "display_name": "Julia 1.10.2",
   "language": "julia",
   "name": "julia-1.10"
  },
  "language_info": {
   "file_extension": ".jl",
   "mimetype": "application/julia",
   "name": "julia",
   "version": "1.10.2"
  }
 },
 "nbformat": 4,
 "nbformat_minor": 5
}
