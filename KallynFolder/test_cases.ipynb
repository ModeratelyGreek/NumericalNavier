{
 "cells": [
  {
   "cell_type": "code",
   "execution_count": 1,
   "metadata": {},
   "outputs": [
    {
     "name": "stderr",
     "output_type": "stream",
     "text": [
      "\u001b[32m\u001b[1m  Activating\u001b[22m\u001b[39m new project at `c:\\Users\\micke\\Desktop\\COT4501\\NumericalNavier\\KallynFolder\\Plots`\n"
     ]
    }
   ],
   "source": [
    "using Pkg\n",
    "Pkg.activate(\"Plots\")\n",
    "using Plots"
   ]
  },
  {
   "cell_type": "code",
   "execution_count": null,
   "metadata": {},
   "outputs": [],
   "source": [
    "# worried about these conditions, looping and void boundary isnt correct if u and v represent position (??), but inflow outflow is wrong if u and v represent velocity\n",
    "\n",
    "function loopingBoundary(u, v) \n",
    "    u[1, :] .= u[end, :]\n",
    "    u[:, 1] .= u[:, end]\n",
    "    \n",
    "    v[1, :] .= v[end, :]\n",
    "    v[:, 1] .= v[:, end]\n",
    "end\n",
    "\n",
    "function voidBoundary(u, v)\n",
    "    u[1, :] .= 1\n",
    "    u[end, :] .= 1\n",
    "    u[:, 1] .= 1\n",
    "    u[:, end] .= 1\n",
    "    \n",
    "    v[1, :] .= 1\n",
    "    v[end, :] .= 1\n",
    "    v[:, 1] .= 1\n",
    "    v[:, end] .= 1\n",
    "end\n",
    "\n",
    "function inLeftOutRight(u, v)\n",
    "    u[1, :] .= 1\n",
    "    u[end, :] .= -1\n",
    "    u[:, 1] .= 0\n",
    "    u[:, end] .= 0\n",
    "    \n",
    "    v[1, :] .= 1\n",
    "    v[end, :] .= -1\n",
    "    v[:, 1] .= 0\n",
    "    v[:, end] .= 0\n",
    "end"
   ]
  },
  {
   "cell_type": "code",
   "execution_count": 3,
   "metadata": {},
   "outputs": [
    {
     "data": {
      "text/plain": [
       "process (generic function with 5 methods)"
      ]
     },
     "metadata": {},
     "output_type": "display_data"
    }
   ],
   "source": [
    "function process(boundary, u, v, nx, ny, nt=100, c=1, sigma=0.02, nu=0.01)\n",
    "    dx = 2 / (nx - 1)\n",
    "    dy = 2 / (ny - 1)\n",
    "\n",
    "    dt = sigma * dx * dy / nu\n",
    "\n",
    "    x = 0:dx:2\n",
    "    y = 0:dy:2\n",
    "\n",
    "    @gif for n in 1:nt+1\n",
    "        # this is burgers equation but someone else can add in a different equation, you can also add new parameters\n",
    "        un = copy(u)\n",
    "        vn = copy(v)\n",
    "        \n",
    "        u[2:end-1, 2:end-1] .= (un[2:end-1, 2:end-1] -\n",
    "            dt / dx .* un[2:end-1, 2:end-1] .* \n",
    "            (un[2:end-1, 2:end-1] .- un[2:end-1, 1:end-2]) - \n",
    "            dt / dy .* vn[2:end-1, 2:end-1] .* \n",
    "            (un[2:end-1, 2:end-1] .- un[1:end-2, 2:end-1]) + \n",
    "            nu * dt / dx^2 .* \n",
    "            (un[2:end-1,3:end] - 2 .* un[2:end-1, 2:end-1] .+ un[2:end-1, 1:end-2]) + \n",
    "            nu * dt / dy^2 .* \n",
    "            (un[3:end, 2:end-1] - 2 .* un[2:end-1, 2:end-1] .+ un[1:end-2, 2:end-1]))\n",
    "\n",
    "        v[2:end-1, 2:end-1] .= (vn[2:end-1, 2:end-1] - \n",
    "            dt / dx .* un[2:end-1, 2:end-1] .*\n",
    "            (vn[2:end-1, 2:end-1] .- vn[2:end-1, 1:end-2]) -\n",
    "            dt / dy .* vn[2:end-1, 2:end-1] .* \n",
    "            (vn[2:end-1, 2:end-1] .- vn[1:end-2, 2:end-1]) + \n",
    "            nu * dt / dx^2 .* \n",
    "            (vn[2:end-1, 3:end] - 2 .* vn[2:end-1, 2:end-1] .+ vn[2:end-1, 1:end-2]) +\n",
    "            nu * dt / dy^2 .*\n",
    "            (vn[3:end, 2:end-1] - 2 .* vn[2:end-1, 2:end-1] .+ vn[1:end-2, 2:end-1]))\n",
    "\n",
    "        boundary(u, v)\n",
    "    end\n",
    "end"
   ]
  },
  {
   "cell_type": "code",
   "execution_count": 2,
   "metadata": {},
   "outputs": [
    {
     "data": {
      "text/plain": [
       "0-dimensional Array{Float64, 0}:\n",
       "1.0"
      ]
     },
     "metadata": {},
     "output_type": "display_data"
    }
   ],
   "source": [
    "# uniform density, looping boundary conditions\n",
    "\n"
   ]
  },
  {
   "cell_type": "code",
   "execution_count": null,
   "metadata": {},
   "outputs": [],
   "source": []
  }
 ],
 "metadata": {
  "kernelspec": {
   "display_name": "Julia 1.10.0",
   "language": "julia",
   "name": "julia-1.10"
  },
  "language_info": {
   "file_extension": ".jl",
   "mimetype": "application/julia",
   "name": "julia",
   "version": "1.10.0"
  }
 },
 "nbformat": 4,
 "nbformat_minor": 2
}
